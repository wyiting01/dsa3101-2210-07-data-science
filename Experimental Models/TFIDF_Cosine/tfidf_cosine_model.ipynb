{
 "cells": [
  {
   "cell_type": "code",
   "execution_count": 1,
   "metadata": {},
   "outputs": [],
   "source": [
    "import pandas as pd"
   ]
  },
  {
   "cell_type": "code",
   "execution_count": 2,
   "metadata": {},
   "outputs": [],
   "source": [
    "#Read Dataset\n",
    "df_combined = pd.read_csv(\"../../Datasets/processed_data.csv\")"
   ]
  },
  {
   "cell_type": "code",
   "execution_count": 3,
   "metadata": {},
   "outputs": [
    {
     "data": {
      "text/plain": [
       "(6243, 14)"
      ]
     },
     "execution_count": 3,
     "metadata": {},
     "output_type": "execute_result"
    }
   ],
   "source": [
    "df_combined.shape"
   ]
  },
  {
   "cell_type": "code",
   "execution_count": 4,
   "metadata": {},
   "outputs": [
    {
     "data": {
      "text/plain": [
       "url                      0\n",
       "job_title                0\n",
       "description_html         0\n",
       "description              0\n",
       "job_type               459\n",
       "company                  0\n",
       "location                 0\n",
       "description_tokens       0\n",
       "description_clean        0\n",
       "full_info_tokens         0\n",
       "full_info_clean          0\n",
       "duplicated               0\n",
       "min_pay               3580\n",
       "max_pay               3580\n",
       "dtype: int64"
      ]
     },
     "execution_count": 4,
     "metadata": {},
     "output_type": "execute_result"
    }
   ],
   "source": [
    "df_combined.isna().sum()"
   ]
  },
  {
   "cell_type": "code",
   "execution_count": null,
   "metadata": {},
   "outputs": [],
   "source": [
    "#Overview of dataset\n",
    "df_combined.head()"
   ]
  },
  {
   "cell_type": "code",
   "execution_count": 6,
   "metadata": {},
   "outputs": [],
   "source": [
    "from sklearn.feature_extraction.text import TfidfVectorizer\n",
    "#Create a TF-IDF vectorizer\n",
    "#Set ngram range to 2 to include phrases of length 2\n",
    "tfidf_vectorizer = TfidfVectorizer(ngram_range=(1,2))"
   ]
  },
  {
   "cell_type": "code",
   "execution_count": 7,
   "metadata": {},
   "outputs": [],
   "source": [
    "#Fit full_info_tokens onto the tfidf vectorizer\n",
    "#full_info_tokens is also transformed into a sparse matrix\n",
    "tfidf_job = tfidf_vectorizer.fit_transform(df_combined['full_info_tokens'])"
   ]
  },
  {
   "cell_type": "code",
   "execution_count": null,
   "metadata": {},
   "outputs": [],
   "source": [
    "#Check if tfidf_vectorizer worked correctly\n",
    "tfidf_vectorizer.vocabulary_"
   ]
  },
  {
   "cell_type": "code",
   "execution_count": 9,
   "metadata": {},
   "outputs": [],
   "source": [
    "#Functions imported from preprocessing the datasets\n",
    "from nltk.corpus import stopwords\n",
    "from nltk.stem import PorterStemmer\n",
    "stop_words = set(stopwords.words('english'))\n",
    "def rm_stopwords(tokens):\n",
    "    return [i for i in tokens if i not in stop_words and i]\n",
    "ps = PorterStemmer()\n",
    "def stem_words(tokens):\n",
    "    return [ps.stem(i) for i in tokens]"
   ]
  },
  {
   "cell_type": "code",
   "execution_count": 10,
   "metadata": {},
   "outputs": [],
   "source": [
    "import re\n",
    "#Function removes special characters, set every word to lower case, tokenize, remove stopwords, and stem words\n",
    "def preprocess_input(input_str):\n",
    "    input_str = re.sub('[^A-Za-z0-9]+', ' ', input_str)\n",
    "    input_str = input_str.lower()\n",
    "    input_str = input_str.split()\n",
    "    input_str = rm_stopwords(input_str)\n",
    "    input_str = stem_words(input_str)\n",
    "    return list(input_str)\n"
   ]
  },
  {
   "cell_type": "code",
   "execution_count": 11,
   "metadata": {},
   "outputs": [],
   "source": [
    "import numpy as np\n",
    "from sklearn.metrics.pairwise import cosine_similarity\n",
    "#function takes a list of input preferences and generates a dataframe of recommendations\n",
    "def generate_recommendations(input_list):\n",
    "    #Convert to a string first\n",
    "    input_text = \" \".join(input_list)\n",
    "    #Then preprocess, the preprocessor would return a list\n",
    "    input_text = preprocess_input(input_text)\n",
    "    #Transform the input using tfidf_vectorizer\n",
    "    recommendation_tf_idf = tfidf_vectorizer.transform([str(input_text)])\n",
    "    #compute cosine similarity scores between input and every job entry\n",
    "    scores = cosine_similarity(recommendation_tf_idf,tfidf_job)[0]\n",
    "    #Return the top 10 jobs with highest cosine similarity scores\n",
    "    ind = np.argpartition(scores,-10)[-10:][::-1]\n",
    "    return df_combined.iloc[ind,:]"
   ]
  },
  {
   "cell_type": "code",
   "execution_count": null,
   "metadata": {},
   "outputs": [],
   "source": [
    "#Test input\n",
    "test_input=[\"python\",\"R\",\"sql\",\"git\",\"flask\",\"docker\"]\n",
    "generate_recommendations(test_input)"
   ]
  },
  {
   "cell_type": "code",
   "execution_count": 13,
   "metadata": {},
   "outputs": [],
   "source": [
    "#save tf-idf matrix and vectorizer\n",
    "import pickle\n",
    "pickle.dump(tfidf_vectorizer,open('tfidf_vectorizer.pkl','wb'))\n",
    "pickle.dump(tfidf_job,open('tfidf_job.pkl','wb'))"
   ]
  }
 ],
 "metadata": {
  "kernelspec": {
   "display_name": "Python 3.10.7 64-bit (microsoft store)",
   "language": "python",
   "name": "python3"
  },
  "language_info": {
   "codemirror_mode": {
    "name": "ipython",
    "version": 3
   },
   "file_extension": ".py",
   "mimetype": "text/x-python",
   "name": "python",
   "nbconvert_exporter": "python",
   "pygments_lexer": "ipython3",
   "version": "3.10.8"
  },
  "orig_nbformat": 4,
  "vscode": {
   "interpreter": {
    "hash": "f8b325dba0a5d88be3dbd035e7bbab64b862c49c49fbb32327f9c81875f85a34"
   }
  }
 },
 "nbformat": 4,
 "nbformat_minor": 2
}

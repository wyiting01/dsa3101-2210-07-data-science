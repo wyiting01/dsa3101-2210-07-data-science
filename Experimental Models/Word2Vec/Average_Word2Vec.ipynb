{
 "cells": [
  {
   "cell_type": "code",
   "execution_count": 1,
   "metadata": {
    "colab": {
     "base_uri": "https://localhost:8080/"
    },
    "id": "Z_SJqpSW2K_Y",
    "outputId": "cdb79d16-b08c-44f3-f15e-dac1031779f6"
   },
   "outputs": [
    {
     "name": "stderr",
     "output_type": "stream",
     "text": [
      "[nltk_data] Downloading package stopwords to /root/nltk_data...\n",
      "[nltk_data]   Unzipping corpora/stopwords.zip.\n"
     ]
    },
    {
     "name": "stdout",
     "output_type": "stream",
     "text": [
      "Mounted at /content/drive\n"
     ]
    }
   ],
   "source": [
    "# Importing necessary libraries\n",
    "import pandas as pd\n",
    "import numpy as np\n",
    "import gensim\n",
    "from gensim import models\n",
    "from gensim.models import Word2Vec\n",
    "from gensim.models import KeyedVectors\n",
    "import ast\n",
    "import nltk\n",
    "from nltk.stem import PorterStemmer\n",
    "nltk.download('stopwords')\n",
    "from nltk.corpus import stopwords\n",
    "import re\n",
    "from sklearn.metrics.pairwise import cosine_similarity\n",
    "\n",
    "from google.colab import drive\n",
    "drive.mount('/content/drive')"
   ]
  },
  {
   "cell_type": "code",
   "execution_count": 2,
   "metadata": {
    "colab": {
     "base_uri": "https://localhost:8080/"
    },
    "id": "5f1CC5YI2Ybn",
    "outputId": "5db17bf8-92b6-49ec-dd16-e7d36ac00bab"
   },
   "outputs": [
    {
     "name": "stdout",
     "output_type": "stream",
     "text": [
      "--2022-10-29 13:06:50--  https://drive.google.com/uc?export=download&confirm=t&id=0B7XkCwpI5KDYNlNUTTlSS21pQmM\n",
      "Resolving drive.google.com (drive.google.com)... 142.251.2.113, 142.251.2.102, 142.251.2.138, ...\n",
      "Connecting to drive.google.com (drive.google.com)|142.251.2.113|:443... connected.\n",
      "HTTP request sent, awaiting response... 303 See Other\n",
      "Location: https://doc-0g-8s-docs.googleusercontent.com/docs/securesc/ha0ro937gcuc7l7deffksulhg5h7mbp1/pvn1g3kn5cp1ck645ep0r1igg9t0e4kh/1667048775000/06848720943842814915/*/0B7XkCwpI5KDYNlNUTTlSS21pQmM?e=download&uuid=a48ec74f-2221-41dc-86ce-1e53e6914ddd [following]\n",
      "Warning: wildcards not supported in HTTP.\n",
      "--2022-10-29 13:06:50--  https://doc-0g-8s-docs.googleusercontent.com/docs/securesc/ha0ro937gcuc7l7deffksulhg5h7mbp1/pvn1g3kn5cp1ck645ep0r1igg9t0e4kh/1667048775000/06848720943842814915/*/0B7XkCwpI5KDYNlNUTTlSS21pQmM?e=download&uuid=a48ec74f-2221-41dc-86ce-1e53e6914ddd\n",
      "Resolving doc-0g-8s-docs.googleusercontent.com (doc-0g-8s-docs.googleusercontent.com)... 142.251.2.132, 2607:f8b0:4023:c0d::84\n",
      "Connecting to doc-0g-8s-docs.googleusercontent.com (doc-0g-8s-docs.googleusercontent.com)|142.251.2.132|:443... connected.\n",
      "HTTP request sent, awaiting response... 200 OK\n",
      "Length: 1647046227 (1.5G) [application/x-gzip]\n",
      "Saving to: ‘GoogleNews-vectors-negative300.bin.gz’\n",
      "\n",
      "GoogleNews-vectors- 100%[===================>]   1.53G   230MB/s    in 7.6s    \n",
      "\n",
      "2022-10-29 13:06:58 (206 MB/s) - ‘GoogleNews-vectors-negative300.bin.gz’ saved [1647046227/1647046227]\n",
      "\n"
     ]
    }
   ],
   "source": [
    "# Download pre-trained Word2Vec model that is previously trained with Google News\n",
    "!wget --load-cookies /tmp/cookies.txt \"https://drive.google.com/uc?export=download&confirm=$(wget --quiet --save-cookies /tmp/cookies.txt --keep-session-cookies --no-check-certificate 'https://drive.google.com/uc?export=download&id=0B7XkCwpI5KDYNlNUTTlSS21pQmM' -O- | sed -rn 's/.*confirm=([0-9A-Za-z_]+).*/\\1\\n/p')&id=0B7XkCwpI5KDYNlNUTTlSS21pQmM\" -O GoogleNews-vectors-negative300.bin.gz && rm -rf /tmp/cookies.txt\n",
    "!gunzip GoogleNews-vectors-negative300.bin.gz"
   ]
  },
  {
   "cell_type": "code",
   "execution_count": 3,
   "metadata": {
    "id": "M83zp2uu2bgJ"
   },
   "outputs": [],
   "source": [
    "# Load the pretrained model\n",
    "model = gensim.models.KeyedVectors.load_word2vec_format('GoogleNews-vectors-negative300.bin', binary=True)"
   ]
  },
  {
   "cell_type": "code",
   "execution_count": 5,
   "metadata": {
    "id": "f9tNRprG2f2y"
   },
   "outputs": [],
   "source": [
    "# Read in scraped job listings csv and reformat the full_info_tokens from string to list\n",
    "df = pd.read_csv('/content/drive/My Drive/processed_data.csv')\n",
    "df['full_info_tokens'] = df.full_info_tokens.apply(func = ast.literal_eval)"
   ]
  },
  {
   "cell_type": "code",
   "execution_count": 6,
   "metadata": {
    "id": "fLSU7Bij2heL"
   },
   "outputs": [],
   "source": [
    "# Build a corpus for full description of the jobs using the full_info_token column\n",
    "corpus = []\n",
    "for tokens in df['full_info_tokens']:\n",
    "  corpus.append(tokens)"
   ]
  },
  {
   "cell_type": "code",
   "execution_count": 7,
   "metadata": {
    "colab": {
     "base_uri": "https://localhost:8080/"
    },
    "id": "iB6MaVOi2jTk",
    "outputId": "eb9fd83c-5150-419d-b402-77440573d46a"
   },
   "outputs": [
    {
     "data": {
      "text/plain": [
       "(6897347, 7716420)"
      ]
     },
     "execution_count": 7,
     "metadata": {},
     "output_type": "execute_result"
    }
   ],
   "source": [
    "# Create a Word2Vec model for this job context\n",
    "# Feed in the model the tokens from the full_info_description column\n",
    "# Obtain word embeddings that are present in the pre-trained model using the intersect function, and then further train this Word2Vec model\n",
    "w2v_model = Word2Vec(size = 300, window=5, min_count = 2)\n",
    "w2v_model.build_vocab(corpus)\n",
    "w2v_model.intersect_word2vec_format('GoogleNews-vectors-negative300.bin', lockf=1.0, binary=True)\n",
    "w2v_model.train(corpus, total_examples=w2v_model.corpus_count, epochs = 5)"
   ]
  },
  {
   "cell_type": "code",
   "execution_count": 8,
   "metadata": {
    "colab": {
     "base_uri": "https://localhost:8080/"
    },
    "id": "FEsifuT72klj",
    "outputId": "e113e4fb-f485-4660-e0d8-6f9210db512e"
   },
   "outputs": [
    {
     "name": "stderr",
     "output_type": "stream",
     "text": [
      "/usr/local/lib/python3.7/dist-packages/ipykernel_launcher.py:11: DeprecationWarning: Call to deprecated `__getitem__` (Method will be removed in 4.0.0, use self.wv.__getitem__() instead).\n",
      "  # This is added back by InteractiveShellApp.init_path()\n",
      "/usr/local/lib/python3.7/dist-packages/ipykernel_launcher.py:13: DeprecationWarning: Call to deprecated `__getitem__` (Method will be removed in 4.0.0, use self.wv.__getitem__() instead).\n",
      "  del sys.path[0]\n"
     ]
    }
   ],
   "source": [
    "# Obtain word embeddings for all the job descriptions\n",
    "\n",
    "jobs_w2v = []\n",
    "for line in df['full_info_tokens']: # Iterating through every job description\n",
    "  avgw2v = None\n",
    "  count = 0\n",
    "  for word in line:\n",
    "    if word in w2v_model.wv.vocab: # Extracting word embddings from the model if present\n",
    "      count += 1\n",
    "      if avgw2v is None:\n",
    "        avgw2v = w2v_model[word]\n",
    "      else:\n",
    "        avgw2v = avgw2v + w2v_model[word]\n",
    "  if avgw2v is not None:\n",
    "    avgw2v = avgw2v / count\n",
    "    jobs_w2v.append(avgw2v) # Append this particular job description to the overall job description list (jobs_w2v)\n",
    "\n",
    "jobs_w2v = np.asarray(jobs_w2v) # Convert this array to Numpy array"
   ]
  },
  {
   "cell_type": "code",
   "execution_count": 9,
   "metadata": {
    "id": "gCY8C_tY2l-T"
   },
   "outputs": [],
   "source": [
    "# Create functions to preprocess input\n",
    "def remove_stop_words(text):\n",
    "    text = text.split()\n",
    "    stops = set(stopwords.words(\"english\"))\n",
    "    text = [w for w in text if not w in stops]\n",
    "    text = \" \".join(text)\n",
    "    return text\n",
    "  \n",
    "ps = PorterStemmer()\n",
    "def stem_words(text):\n",
    "  text_tokens = text.split()\n",
    "  arr = [ps.stem(i) for i in text_tokens]\n",
    "  text = \" \".join(arr)\n",
    "  return text"
   ]
  },
  {
   "cell_type": "code",
   "execution_count": 10,
   "metadata": {
    "id": "yzfnkQOf2nO8"
   },
   "outputs": [],
   "source": [
    "# Create this function to process the users' input skill list\n",
    "def preprocess_input(input):\n",
    "  input = re.sub('[^A-Za-z0-9]+', ' ', input)\n",
    "  input = input.lower()\n",
    "  input = remove_stop_words(input)\n",
    "  input = stem_words(input)\n",
    "  input = input.split()\n",
    "  return input # output the list of tokens"
   ]
  },
  {
   "cell_type": "code",
   "execution_count": 11,
   "metadata": {
    "id": "KZju8x8r2ocO"
   },
   "outputs": [],
   "source": [
    "# Obtain the average word embeddings based on the users' input list\n",
    "def get_word_embeddings(token_list):\n",
    "  input_w2v = None\n",
    "  count = 0\n",
    "  for word in token_list:\n",
    "    if word in w2v_model.wv.vocab:\n",
    "      count += 1\n",
    "      if input_w2v is None:\n",
    "        input_w2v = w2v_model[word]\n",
    "      else:\n",
    "        input_w2v = input_w2v + w2v_model[word]\n",
    "  if input_w2v is not None:\n",
    "    input_avg_w2v = input_w2v / count\n",
    "  return input_avg_w2v"
   ]
  },
  {
   "cell_type": "code",
   "execution_count": 12,
   "metadata": {
    "id": "VntXZT5r2p49"
   },
   "outputs": [],
   "source": [
    "# Output the top 10 recommendations based on the users' input list using Cosine Similarities\n",
    "def get_recommendations(input_list):\n",
    "  input = \" \".join(input_list)\n",
    "  input_tokens = preprocess_input(input)\n",
    "  input_w2v = get_word_embeddings(input_tokens)\n",
    "  input_w2v = input_w2v.reshape(1,-1)\n",
    "  score = cosine_similarity(input_w2v, jobs_w2v)\n",
    "  index = np.argpartition(score, -10)[0][-10:]\n",
    "  return df.iloc[index, :]"
   ]
  },
  {
   "cell_type": "code",
   "execution_count": 14,
   "metadata": {
    "colab": {
     "base_uri": "https://localhost:8080/"
    },
    "id": "w9CFJpyQ2r4O",
    "outputId": "9f6e235b-eba9-4738-d1ec-0eccea0af1da"
   },
   "outputs": [
    {
     "name": "stderr",
     "output_type": "stream",
     "text": [
      "/usr/local/lib/python3.7/dist-packages/ipykernel_launcher.py:9: DeprecationWarning: Call to deprecated `__getitem__` (Method will be removed in 4.0.0, use self.wv.__getitem__() instead).\n",
      "  if __name__ == '__main__':\n",
      "/usr/local/lib/python3.7/dist-packages/ipykernel_launcher.py:11: DeprecationWarning: Call to deprecated `__getitem__` (Method will be removed in 4.0.0, use self.wv.__getitem__() instead).\n",
      "  # This is added back by InteractiveShellApp.init_path()\n"
     ]
    }
   ],
   "source": [
    "# Test\n",
    "input = [\"python\",\"R\",\"sql\",\"git\",\"flask\",\"docker\"]\n",
    "results = get_recommendations(input)"
   ]
  },
  {
   "cell_type": "code",
   "execution_count": 16,
   "metadata": {
    "colab": {
     "base_uri": "https://localhost:8080/",
     "height": 582
    },
    "id": "S7exeiye2tGd",
    "outputId": "5a00a199-7082-4d5e-aa3d-8c15a66bbe15"
   },
   "outputs": [
    {
     "data": {
      "text/html": [
       "\n",
       "  <div id=\"df-3021cbe7-d33e-479c-b232-292c612e1790\">\n",
       "    <div class=\"colab-df-container\">\n",
       "      <div>\n",
       "<style scoped>\n",
       "    .dataframe tbody tr th:only-of-type {\n",
       "        vertical-align: middle;\n",
       "    }\n",
       "\n",
       "    .dataframe tbody tr th {\n",
       "        vertical-align: top;\n",
       "    }\n",
       "\n",
       "    .dataframe thead th {\n",
       "        text-align: right;\n",
       "    }\n",
       "</style>\n",
       "<table border=\"1\" class=\"dataframe\">\n",
       "  <thead>\n",
       "    <tr style=\"text-align: right;\">\n",
       "      <th></th>\n",
       "      <th>url</th>\n",
       "      <th>job_title</th>\n",
       "      <th>description_html</th>\n",
       "      <th>description</th>\n",
       "      <th>job_type</th>\n",
       "      <th>company</th>\n",
       "      <th>location</th>\n",
       "      <th>description_tokens</th>\n",
       "      <th>description_clean</th>\n",
       "      <th>full_info_tokens</th>\n",
       "      <th>full_info_clean</th>\n",
       "      <th>duplicated</th>\n",
       "      <th>min_pay</th>\n",
       "      <th>max_pay</th>\n",
       "    </tr>\n",
       "  </thead>\n",
       "  <tbody>\n",
       "    <tr>\n",
       "      <th>4765</th>\n",
       "      <td>https://sg.jobsdb.com/job/Data-Engineer-095d7d...</td>\n",
       "      <td>Data engineer</td>\n",
       "      <td>&lt;div class=\"-desktop-no-padding-top\" id=\"job-d...</td>\n",
       "      <td>Requirements\\r\\n\\r\\nSr Bigdata Engineer with a...</td>\n",
       "      <td>Full time</td>\n",
       "      <td>OX CONSULTANCY PTE. LTD.</td>\n",
       "      <td>Woodlands Industrial Park</td>\n",
       "      <td>['requir', 'sr', 'bigdata', 'engin', 'atleast'...</td>\n",
       "      <td>requirements sr bigdata engineer atleast 4 yea...</td>\n",
       "      <td>[data, engin, ox, consult, pte, ltd, full, tim...</td>\n",
       "      <td>data engineer ox consultancy pte ltd full time...</td>\n",
       "      <td>False</td>\n",
       "      <td>7000.0</td>\n",
       "      <td>10000.0</td>\n",
       "    </tr>\n",
       "    <tr>\n",
       "      <th>498</th>\n",
       "      <td>https://www.mycareersfuture.gov.sg/job/informa...</td>\n",
       "      <td>Jr. Software Engineer - .Net</td>\n",
       "      <td>&lt;p&gt;&lt;strong&gt;Job Title: Jr. Software Engineer - ...</td>\n",
       "      <td>Job Title: Jr. Software Engineer - .Net\\r\\nExp...</td>\n",
       "      <td>Contract</td>\n",
       "      <td>Optimum Solutions (Singapore) Pte Ltd</td>\n",
       "      <td>PLAZA 8 @ CBP, 1 CHANGI BUSINESS PARK CRESCENT...</td>\n",
       "      <td>['job', 'titl', 'jr', 'softwar', 'engin', 'net...</td>\n",
       "      <td>job title jr software engineer net experience ...</td>\n",
       "      <td>[jr, softwar, engin, net, optimum, solut, sing...</td>\n",
       "      <td>jr software engineer net optimum solutions sin...</td>\n",
       "      <td>False</td>\n",
       "      <td>4000.0</td>\n",
       "      <td>5500.0</td>\n",
       "    </tr>\n",
       "    <tr>\n",
       "      <th>194</th>\n",
       "      <td>https://www.mycareersfuture.gov.sg/job/enginee...</td>\n",
       "      <td>9156 - Web Application Developer (Java) [Softw...</td>\n",
       "      <td>&lt;p&gt;&lt;strong&gt;Web Application Developer (Java)&lt;/s...</td>\n",
       "      <td>Web Application Developer (Java)\\r\\n\\r\\n$4000 ...</td>\n",
       "      <td>Full Time</td>\n",
       "      <td>The Supreme Hr Advisory Pte. Ltd.</td>\n",
       "      <td>SHENTON HOUSE, 3 SHENTON WAY 068805</td>\n",
       "      <td>['web', 'applic', 'develop', 'java', '4000', '...</td>\n",
       "      <td>web application developer java 4000 8000 5 day...</td>\n",
       "      <td>[9156, web, applic, develop, java, softwar, co...</td>\n",
       "      <td>9156 web application developer java software c...</td>\n",
       "      <td>False</td>\n",
       "      <td>4000.0</td>\n",
       "      <td>8000.0</td>\n",
       "    </tr>\n",
       "    <tr>\n",
       "      <th>4947</th>\n",
       "      <td>https://sg.jobsdb.com/job/Data-Engineer-63fbe1...</td>\n",
       "      <td>Data Engineer</td>\n",
       "      <td>&lt;div class=\"-desktop-no-padding-top\" id=\"job-d...</td>\n",
       "      <td>Key Skills: Python, SQL, Unix, AWS\\r\\nObjectiv...</td>\n",
       "      <td>Permanent</td>\n",
       "      <td>UNISON CONSULTING PTE. LTD.</td>\n",
       "      <td>Changi</td>\n",
       "      <td>['key', 'skill', 'python', 'sql', 'unix', 'aw'...</td>\n",
       "      <td>key skills python sql unix aws objectives team...</td>\n",
       "      <td>[data, engin, unison, consult, pte, ltd, perma...</td>\n",
       "      <td>data engineer unison consulting pte ltd perman...</td>\n",
       "      <td>False</td>\n",
       "      <td>4000.0</td>\n",
       "      <td>5000.0</td>\n",
       "    </tr>\n",
       "    <tr>\n",
       "      <th>4721</th>\n",
       "      <td>https://sg.jobsdb.com/job/Data-Base-Administra...</td>\n",
       "      <td>Data Base Administrator</td>\n",
       "      <td>&lt;div class=\"-desktop-no-padding-top\" id=\"job-d...</td>\n",
       "      <td>Job Description:\\r\\nExperienced Oracle/MySQL D...</td>\n",
       "      <td>Contract</td>\n",
       "      <td>Horizon Software</td>\n",
       "      <td>Singapore</td>\n",
       "      <td>['job', 'descript', 'experienc', 'oracl', 'mys...</td>\n",
       "      <td>job description experienced oracle mysql dba r...</td>\n",
       "      <td>[data, base, administr, horizon, softwar, cont...</td>\n",
       "      <td>data base administrator horizon software contr...</td>\n",
       "      <td>False</td>\n",
       "      <td>6500.0</td>\n",
       "      <td>10000.0</td>\n",
       "    </tr>\n",
       "  </tbody>\n",
       "</table>\n",
       "</div>\n",
       "      <button class=\"colab-df-convert\" onclick=\"convertToInteractive('df-3021cbe7-d33e-479c-b232-292c612e1790')\"\n",
       "              title=\"Convert this dataframe to an interactive table.\"\n",
       "              style=\"display:none;\">\n",
       "        \n",
       "  <svg xmlns=\"http://www.w3.org/2000/svg\" height=\"24px\"viewBox=\"0 0 24 24\"\n",
       "       width=\"24px\">\n",
       "    <path d=\"M0 0h24v24H0V0z\" fill=\"none\"/>\n",
       "    <path d=\"M18.56 5.44l.94 2.06.94-2.06 2.06-.94-2.06-.94-.94-2.06-.94 2.06-2.06.94zm-11 1L8.5 8.5l.94-2.06 2.06-.94-2.06-.94L8.5 2.5l-.94 2.06-2.06.94zm10 10l.94 2.06.94-2.06 2.06-.94-2.06-.94-.94-2.06-.94 2.06-2.06.94z\"/><path d=\"M17.41 7.96l-1.37-1.37c-.4-.4-.92-.59-1.43-.59-.52 0-1.04.2-1.43.59L10.3 9.45l-7.72 7.72c-.78.78-.78 2.05 0 2.83L4 21.41c.39.39.9.59 1.41.59.51 0 1.02-.2 1.41-.59l7.78-7.78 2.81-2.81c.8-.78.8-2.07 0-2.86zM5.41 20L4 18.59l7.72-7.72 1.47 1.35L5.41 20z\"/>\n",
       "  </svg>\n",
       "      </button>\n",
       "      \n",
       "  <style>\n",
       "    .colab-df-container {\n",
       "      display:flex;\n",
       "      flex-wrap:wrap;\n",
       "      gap: 12px;\n",
       "    }\n",
       "\n",
       "    .colab-df-convert {\n",
       "      background-color: #E8F0FE;\n",
       "      border: none;\n",
       "      border-radius: 50%;\n",
       "      cursor: pointer;\n",
       "      display: none;\n",
       "      fill: #1967D2;\n",
       "      height: 32px;\n",
       "      padding: 0 0 0 0;\n",
       "      width: 32px;\n",
       "    }\n",
       "\n",
       "    .colab-df-convert:hover {\n",
       "      background-color: #E2EBFA;\n",
       "      box-shadow: 0px 1px 2px rgba(60, 64, 67, 0.3), 0px 1px 3px 1px rgba(60, 64, 67, 0.15);\n",
       "      fill: #174EA6;\n",
       "    }\n",
       "\n",
       "    [theme=dark] .colab-df-convert {\n",
       "      background-color: #3B4455;\n",
       "      fill: #D2E3FC;\n",
       "    }\n",
       "\n",
       "    [theme=dark] .colab-df-convert:hover {\n",
       "      background-color: #434B5C;\n",
       "      box-shadow: 0px 1px 3px 1px rgba(0, 0, 0, 0.15);\n",
       "      filter: drop-shadow(0px 1px 2px rgba(0, 0, 0, 0.3));\n",
       "      fill: #FFFFFF;\n",
       "    }\n",
       "  </style>\n",
       "\n",
       "      <script>\n",
       "        const buttonEl =\n",
       "          document.querySelector('#df-3021cbe7-d33e-479c-b232-292c612e1790 button.colab-df-convert');\n",
       "        buttonEl.style.display =\n",
       "          google.colab.kernel.accessAllowed ? 'block' : 'none';\n",
       "\n",
       "        async function convertToInteractive(key) {\n",
       "          const element = document.querySelector('#df-3021cbe7-d33e-479c-b232-292c612e1790');\n",
       "          const dataTable =\n",
       "            await google.colab.kernel.invokeFunction('convertToInteractive',\n",
       "                                                     [key], {});\n",
       "          if (!dataTable) return;\n",
       "\n",
       "          const docLinkHtml = 'Like what you see? Visit the ' +\n",
       "            '<a target=\"_blank\" href=https://colab.research.google.com/notebooks/data_table.ipynb>data table notebook</a>'\n",
       "            + ' to learn more about interactive tables.';\n",
       "          element.innerHTML = '';\n",
       "          dataTable['output_type'] = 'display_data';\n",
       "          await google.colab.output.renderOutput(dataTable, element);\n",
       "          const docLink = document.createElement('div');\n",
       "          docLink.innerHTML = docLinkHtml;\n",
       "          element.appendChild(docLink);\n",
       "        }\n",
       "      </script>\n",
       "    </div>\n",
       "  </div>\n",
       "  "
      ],
      "text/plain": [
       "                                                    url  \\\n",
       "4765  https://sg.jobsdb.com/job/Data-Engineer-095d7d...   \n",
       "498   https://www.mycareersfuture.gov.sg/job/informa...   \n",
       "194   https://www.mycareersfuture.gov.sg/job/enginee...   \n",
       "4947  https://sg.jobsdb.com/job/Data-Engineer-63fbe1...   \n",
       "4721  https://sg.jobsdb.com/job/Data-Base-Administra...   \n",
       "\n",
       "                                              job_title  \\\n",
       "4765                                      Data engineer   \n",
       "498                        Jr. Software Engineer - .Net   \n",
       "194   9156 - Web Application Developer (Java) [Softw...   \n",
       "4947                                      Data Engineer   \n",
       "4721                            Data Base Administrator   \n",
       "\n",
       "                                       description_html  \\\n",
       "4765  <div class=\"-desktop-no-padding-top\" id=\"job-d...   \n",
       "498   <p><strong>Job Title: Jr. Software Engineer - ...   \n",
       "194   <p><strong>Web Application Developer (Java)</s...   \n",
       "4947  <div class=\"-desktop-no-padding-top\" id=\"job-d...   \n",
       "4721  <div class=\"-desktop-no-padding-top\" id=\"job-d...   \n",
       "\n",
       "                                            description   job_type  \\\n",
       "4765  Requirements\\r\\n\\r\\nSr Bigdata Engineer with a...  Full time   \n",
       "498   Job Title: Jr. Software Engineer - .Net\\r\\nExp...   Contract   \n",
       "194   Web Application Developer (Java)\\r\\n\\r\\n$4000 ...  Full Time   \n",
       "4947  Key Skills: Python, SQL, Unix, AWS\\r\\nObjectiv...  Permanent   \n",
       "4721  Job Description:\\r\\nExperienced Oracle/MySQL D...   Contract   \n",
       "\n",
       "                                    company  \\\n",
       "4765               OX CONSULTANCY PTE. LTD.   \n",
       "498   Optimum Solutions (Singapore) Pte Ltd   \n",
       "194       The Supreme Hr Advisory Pte. Ltd.   \n",
       "4947            UNISON CONSULTING PTE. LTD.   \n",
       "4721                       Horizon Software   \n",
       "\n",
       "                                               location  \\\n",
       "4765                          Woodlands Industrial Park   \n",
       "498   PLAZA 8 @ CBP, 1 CHANGI BUSINESS PARK CRESCENT...   \n",
       "194                 SHENTON HOUSE, 3 SHENTON WAY 068805   \n",
       "4947                                             Changi   \n",
       "4721                                          Singapore   \n",
       "\n",
       "                                     description_tokens  \\\n",
       "4765  ['requir', 'sr', 'bigdata', 'engin', 'atleast'...   \n",
       "498   ['job', 'titl', 'jr', 'softwar', 'engin', 'net...   \n",
       "194   ['web', 'applic', 'develop', 'java', '4000', '...   \n",
       "4947  ['key', 'skill', 'python', 'sql', 'unix', 'aw'...   \n",
       "4721  ['job', 'descript', 'experienc', 'oracl', 'mys...   \n",
       "\n",
       "                                      description_clean  \\\n",
       "4765  requirements sr bigdata engineer atleast 4 yea...   \n",
       "498   job title jr software engineer net experience ...   \n",
       "194   web application developer java 4000 8000 5 day...   \n",
       "4947  key skills python sql unix aws objectives team...   \n",
       "4721  job description experienced oracle mysql dba r...   \n",
       "\n",
       "                                       full_info_tokens  \\\n",
       "4765  [data, engin, ox, consult, pte, ltd, full, tim...   \n",
       "498   [jr, softwar, engin, net, optimum, solut, sing...   \n",
       "194   [9156, web, applic, develop, java, softwar, co...   \n",
       "4947  [data, engin, unison, consult, pte, ltd, perma...   \n",
       "4721  [data, base, administr, horizon, softwar, cont...   \n",
       "\n",
       "                                        full_info_clean  duplicated  min_pay  \\\n",
       "4765  data engineer ox consultancy pte ltd full time...       False   7000.0   \n",
       "498   jr software engineer net optimum solutions sin...       False   4000.0   \n",
       "194   9156 web application developer java software c...       False   4000.0   \n",
       "4947  data engineer unison consulting pte ltd perman...       False   4000.0   \n",
       "4721  data base administrator horizon software contr...       False   6500.0   \n",
       "\n",
       "      max_pay  \n",
       "4765  10000.0  \n",
       "498    5500.0  \n",
       "194    8000.0  \n",
       "4947   5000.0  \n",
       "4721  10000.0  "
      ]
     },
     "execution_count": 16,
     "metadata": {},
     "output_type": "execute_result"
    }
   ],
   "source": [
    "results.head()"
   ]
  },
  {
   "cell_type": "code",
   "execution_count": 19,
   "metadata": {
    "id": "ehkPOpru8Lcs"
   },
   "outputs": [],
   "source": [
    "results.to_excel(\"/content/drive/My Drive/test_output.xlsx\", index = True, header = True)"
   ]
  }
 ],
 "metadata": {
  "colab": {
   "provenance": []
  },
  "kernelspec": {
   "display_name": "Python 3 (ipykernel)",
   "language": "python",
   "name": "python3"
  },
  "language_info": {
   "codemirror_mode": {
    "name": "ipython",
    "version": 3
   },
   "file_extension": ".py",
   "mimetype": "text/x-python",
   "name": "python",
   "nbconvert_exporter": "python",
   "pygments_lexer": "ipython3",
   "version": "3.9.7"
  }
 },
 "nbformat": 4,
 "nbformat_minor": 1
}

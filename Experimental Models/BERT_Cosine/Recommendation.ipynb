{
 "cells": [
  {
   "cell_type": "code",
   "execution_count": 1,
   "metadata": {},
   "outputs": [],
   "source": [
    "#import libraries needed\n",
    "import pandas as pd\n",
    "import numpy as np\n",
    "from nltk.corpus import stopwords\n",
    "import re\n",
    "from sklearn.metrics.pairwise import cosine_similarity\n",
    "from nltk.tokenize import word_tokenize"
   ]
  },
  {
   "cell_type": "code",
   "execution_count": 2,
   "metadata": {},
   "outputs": [],
   "source": [
    "#read data with embeddings\n",
    "datawemb = pd.read_csv(\"datawembeddings.csv\")"
   ]
  },
  {
   "cell_type": "code",
   "execution_count": 3,
   "metadata": {},
   "outputs": [
    {
     "data": {
      "text/html": [
       "<div>\n",
       "<style scoped>\n",
       "    .dataframe tbody tr th:only-of-type {\n",
       "        vertical-align: middle;\n",
       "    }\n",
       "\n",
       "    .dataframe tbody tr th {\n",
       "        vertical-align: top;\n",
       "    }\n",
       "\n",
       "    .dataframe thead th {\n",
       "        text-align: right;\n",
       "    }\n",
       "</style>\n",
       "<table border=\"1\" class=\"dataframe\">\n",
       "  <thead>\n",
       "    <tr style=\"text-align: right;\">\n",
       "      <th></th>\n",
       "      <th>url</th>\n",
       "      <th>job_title</th>\n",
       "      <th>description</th>\n",
       "      <th>job_type</th>\n",
       "      <th>company</th>\n",
       "      <th>location</th>\n",
       "      <th>full_info_clean</th>\n",
       "      <th>duplicated</th>\n",
       "      <th>min_pay</th>\n",
       "      <th>max_pay</th>\n",
       "      <th>embeddings</th>\n",
       "    </tr>\n",
       "  </thead>\n",
       "  <tbody>\n",
       "    <tr>\n",
       "      <th>0</th>\n",
       "      <td>https://www.mycareersfuture.gov.sg/job/custome...</td>\n",
       "      <td>PRODUCTION CONTROL MANAGER</td>\n",
       "      <td>JOB DESCIPTION\\r\\n\\r\\n  planning and organisin...</td>\n",
       "      <td>Permanent, Full Time</td>\n",
       "      <td>Snl Logistics Pte Ltd</td>\n",
       "      <td>31 GUL CIRCLE 629569</td>\n",
       "      <td>production control manager snl logistics pte l...</td>\n",
       "      <td>False</td>\n",
       "      <td>2000.0</td>\n",
       "      <td>3400.0</td>\n",
       "      <td>[-0.1925869, 0.7930996, 0.8500719, 0.048986174...</td>\n",
       "    </tr>\n",
       "    <tr>\n",
       "      <th>1</th>\n",
       "      <td>https://www.mycareersfuture.gov.sg/job/enginee...</td>\n",
       "      <td>Design Engineer ( Mechanical  /  Electrical)</td>\n",
       "      <td>SUMMARY\\r\\n\\r\\n  This      position is respons...</td>\n",
       "      <td>Full Time</td>\n",
       "      <td>Jamco Aero Design &amp;Amp; Engineering Private Li...</td>\n",
       "      <td>Singapore</td>\n",
       "      <td>design engineer mechanical electrical jamco ae...</td>\n",
       "      <td>False</td>\n",
       "      <td>2500.0</td>\n",
       "      <td>4500.0</td>\n",
       "      <td>[-0.143587, 0.8263468, 0.8404796, -0.10907824,...</td>\n",
       "    </tr>\n",
       "    <tr>\n",
       "      <th>2</th>\n",
       "      <td>https://www.mycareersfuture.gov.sg/job/sales/b...</td>\n",
       "      <td>Business Development Executive</td>\n",
       "      <td>Job description\\r\\nWho we are:\\r\\nWe are a log...</td>\n",
       "      <td>Part Time, Permanent</td>\n",
       "      <td>Airpak Express Pte Ltd</td>\n",
       "      <td>TECHPLAS INDUSTRIAL BUILDING, 45 CHANGI SOUTH ...</td>\n",
       "      <td>business development executive airpak express ...</td>\n",
       "      <td>False</td>\n",
       "      <td>3200.0</td>\n",
       "      <td>3500.0</td>\n",
       "      <td>[-0.4457556, 0.78975, 1.2645174, -0.2784788, 0...</td>\n",
       "    </tr>\n",
       "    <tr>\n",
       "      <th>3</th>\n",
       "      <td>https://www.mycareersfuture.gov.sg/job/banking...</td>\n",
       "      <td>Senior / Data Scientist</td>\n",
       "      <td>The ideal candidate should have a good underst...</td>\n",
       "      <td>Permanent, Full Time</td>\n",
       "      <td>Singapore Exchange Limited</td>\n",
       "      <td>SGX CENTRE I, 2 SHENTON WAY 068804</td>\n",
       "      <td>senior data scientist singapore exchange limit...</td>\n",
       "      <td>False</td>\n",
       "      <td>9000.0</td>\n",
       "      <td>14000.0</td>\n",
       "      <td>[-0.80349284, 1.0287868, 1.3000816, 0.15158106...</td>\n",
       "    </tr>\n",
       "    <tr>\n",
       "      <th>4</th>\n",
       "      <td>https://www.mycareersfuture.gov.sg/job/archite...</td>\n",
       "      <td>8890-Sales Consultant [ Digital Software| Saas...</td>\n",
       "      <td>Sales Consultant (Digital Software)\\r\\nLocatio...</td>\n",
       "      <td>Permanent, Full Time</td>\n",
       "      <td>The Supreme Hr Advisory Pte. Ltd.</td>\n",
       "      <td>SHENTON HOUSE, 3 SHENTON WAY 068805</td>\n",
       "      <td>8890 sales consultant digital software saas in...</td>\n",
       "      <td>False</td>\n",
       "      <td>3000.0</td>\n",
       "      <td>4500.0</td>\n",
       "      <td>[-0.6867803, 1.2084837, 0.8840144, 0.000840738...</td>\n",
       "    </tr>\n",
       "  </tbody>\n",
       "</table>\n",
       "</div>"
      ],
      "text/plain": [
       "                                                 url  \\\n",
       "0  https://www.mycareersfuture.gov.sg/job/custome...   \n",
       "1  https://www.mycareersfuture.gov.sg/job/enginee...   \n",
       "2  https://www.mycareersfuture.gov.sg/job/sales/b...   \n",
       "3  https://www.mycareersfuture.gov.sg/job/banking...   \n",
       "4  https://www.mycareersfuture.gov.sg/job/archite...   \n",
       "\n",
       "                                           job_title  \\\n",
       "0                         PRODUCTION CONTROL MANAGER   \n",
       "1       Design Engineer ( Mechanical  /  Electrical)   \n",
       "2                     Business Development Executive   \n",
       "3                            Senior / Data Scientist   \n",
       "4  8890-Sales Consultant [ Digital Software| Saas...   \n",
       "\n",
       "                                         description              job_type  \\\n",
       "0  JOB DESCIPTION\\r\\n\\r\\n  planning and organisin...  Permanent, Full Time   \n",
       "1  SUMMARY\\r\\n\\r\\n  This      position is respons...             Full Time   \n",
       "2  Job description\\r\\nWho we are:\\r\\nWe are a log...  Part Time, Permanent   \n",
       "3  The ideal candidate should have a good underst...  Permanent, Full Time   \n",
       "4  Sales Consultant (Digital Software)\\r\\nLocatio...  Permanent, Full Time   \n",
       "\n",
       "                                             company  \\\n",
       "0                              Snl Logistics Pte Ltd   \n",
       "1  Jamco Aero Design &Amp; Engineering Private Li...   \n",
       "2                             Airpak Express Pte Ltd   \n",
       "3                         Singapore Exchange Limited   \n",
       "4                  The Supreme Hr Advisory Pte. Ltd.   \n",
       "\n",
       "                                            location  \\\n",
       "0                               31 GUL CIRCLE 629569   \n",
       "1                                          Singapore   \n",
       "2  TECHPLAS INDUSTRIAL BUILDING, 45 CHANGI SOUTH ...   \n",
       "3                 SGX CENTRE I, 2 SHENTON WAY 068804   \n",
       "4                SHENTON HOUSE, 3 SHENTON WAY 068805   \n",
       "\n",
       "                                     full_info_clean  duplicated  min_pay  \\\n",
       "0  production control manager snl logistics pte l...       False   2000.0   \n",
       "1  design engineer mechanical electrical jamco ae...       False   2500.0   \n",
       "2  business development executive airpak express ...       False   3200.0   \n",
       "3  senior data scientist singapore exchange limit...       False   9000.0   \n",
       "4  8890 sales consultant digital software saas in...       False   3000.0   \n",
       "\n",
       "   max_pay                                         embeddings  \n",
       "0   3400.0  [-0.1925869, 0.7930996, 0.8500719, 0.048986174...  \n",
       "1   4500.0  [-0.143587, 0.8263468, 0.8404796, -0.10907824,...  \n",
       "2   3500.0  [-0.4457556, 0.78975, 1.2645174, -0.2784788, 0...  \n",
       "3  14000.0  [-0.80349284, 1.0287868, 1.3000816, 0.15158106...  \n",
       "4   4500.0  [-0.6867803, 1.2084837, 0.8840144, 0.000840738...  "
      ]
     },
     "execution_count": 3,
     "metadata": {},
     "output_type": "execute_result"
    }
   ],
   "source": [
    "datawemb.head()"
   ]
  },
  {
   "cell_type": "code",
   "execution_count": 4,
   "metadata": {},
   "outputs": [],
   "source": [
    "numdescriptions = datawemb.shape[0]"
   ]
  },
  {
   "cell_type": "code",
   "execution_count": 6,
   "metadata": {},
   "outputs": [],
   "source": [
    "#function to clean array which is read as strings\n",
    "def clean(x):\n",
    "    for i in range(len(x)):\n",
    "        it = x[i]\n",
    "        it = it.replace(\"[\", \"\")\n",
    "        it = it.replace(\" \", \"\")\n",
    "        it = it.replace(\"]\", \"\")\n",
    "        it = float(it)\n",
    "        x[i] = it\n",
    "    \n",
    "    return np.array(x)"
   ]
  },
  {
   "cell_type": "code",
   "execution_count": 7,
   "metadata": {},
   "outputs": [],
   "source": [
    "#convert emblist which is read as strings to array\n",
    "datawemb['embeddings'] = datawemb['embeddings'].map(lambda x: x.split(\",\"))\n",
    "datawemb['embeddings'] = datawemb['embeddings'].map(lambda x: clean(x))"
   ]
  },
  {
   "cell_type": "code",
   "execution_count": 11,
   "metadata": {},
   "outputs": [
    {
     "data": {
      "text/html": [
       "<div>\n",
       "<style scoped>\n",
       "    .dataframe tbody tr th:only-of-type {\n",
       "        vertical-align: middle;\n",
       "    }\n",
       "\n",
       "    .dataframe tbody tr th {\n",
       "        vertical-align: top;\n",
       "    }\n",
       "\n",
       "    .dataframe thead th {\n",
       "        text-align: right;\n",
       "    }\n",
       "</style>\n",
       "<table border=\"1\" class=\"dataframe\">\n",
       "  <thead>\n",
       "    <tr style=\"text-align: right;\">\n",
       "      <th></th>\n",
       "      <th>url</th>\n",
       "      <th>job_title</th>\n",
       "      <th>description</th>\n",
       "      <th>job_type</th>\n",
       "      <th>company</th>\n",
       "      <th>location</th>\n",
       "      <th>full_info_clean</th>\n",
       "      <th>duplicated</th>\n",
       "      <th>min_pay</th>\n",
       "      <th>max_pay</th>\n",
       "      <th>embeddings</th>\n",
       "    </tr>\n",
       "  </thead>\n",
       "  <tbody>\n",
       "    <tr>\n",
       "      <th>0</th>\n",
       "      <td>https://www.mycareersfuture.gov.sg/job/custome...</td>\n",
       "      <td>PRODUCTION CONTROL MANAGER</td>\n",
       "      <td>JOB DESCIPTION\\r\\n\\r\\n  planning and organisin...</td>\n",
       "      <td>Permanent, Full Time</td>\n",
       "      <td>Snl Logistics Pte Ltd</td>\n",
       "      <td>31 GUL CIRCLE 629569</td>\n",
       "      <td>production control manager snl logistics pte l...</td>\n",
       "      <td>False</td>\n",
       "      <td>2000.0</td>\n",
       "      <td>3400.0</td>\n",
       "      <td>[-0.1925869, 0.7930996, 0.8500719, 0.048986174...</td>\n",
       "    </tr>\n",
       "    <tr>\n",
       "      <th>1</th>\n",
       "      <td>https://www.mycareersfuture.gov.sg/job/enginee...</td>\n",
       "      <td>Design Engineer ( Mechanical  /  Electrical)</td>\n",
       "      <td>SUMMARY\\r\\n\\r\\n  This      position is respons...</td>\n",
       "      <td>Full Time</td>\n",
       "      <td>Jamco Aero Design &amp;Amp; Engineering Private Li...</td>\n",
       "      <td>Singapore</td>\n",
       "      <td>design engineer mechanical electrical jamco ae...</td>\n",
       "      <td>False</td>\n",
       "      <td>2500.0</td>\n",
       "      <td>4500.0</td>\n",
       "      <td>[-0.143587, 0.8263468, 0.8404796, -0.10907824,...</td>\n",
       "    </tr>\n",
       "    <tr>\n",
       "      <th>2</th>\n",
       "      <td>https://www.mycareersfuture.gov.sg/job/sales/b...</td>\n",
       "      <td>Business Development Executive</td>\n",
       "      <td>Job description\\r\\nWho we are:\\r\\nWe are a log...</td>\n",
       "      <td>Part Time, Permanent</td>\n",
       "      <td>Airpak Express Pte Ltd</td>\n",
       "      <td>TECHPLAS INDUSTRIAL BUILDING, 45 CHANGI SOUTH ...</td>\n",
       "      <td>business development executive airpak express ...</td>\n",
       "      <td>False</td>\n",
       "      <td>3200.0</td>\n",
       "      <td>3500.0</td>\n",
       "      <td>[-0.4457556, 0.78975, 1.2645174, -0.2784788, 0...</td>\n",
       "    </tr>\n",
       "    <tr>\n",
       "      <th>3</th>\n",
       "      <td>https://www.mycareersfuture.gov.sg/job/banking...</td>\n",
       "      <td>Senior / Data Scientist</td>\n",
       "      <td>The ideal candidate should have a good underst...</td>\n",
       "      <td>Permanent, Full Time</td>\n",
       "      <td>Singapore Exchange Limited</td>\n",
       "      <td>SGX CENTRE I, 2 SHENTON WAY 068804</td>\n",
       "      <td>senior data scientist singapore exchange limit...</td>\n",
       "      <td>False</td>\n",
       "      <td>9000.0</td>\n",
       "      <td>14000.0</td>\n",
       "      <td>[-0.80349284, 1.0287868, 1.3000816, 0.15158106...</td>\n",
       "    </tr>\n",
       "    <tr>\n",
       "      <th>4</th>\n",
       "      <td>https://www.mycareersfuture.gov.sg/job/archite...</td>\n",
       "      <td>8890-Sales Consultant [ Digital Software| Saas...</td>\n",
       "      <td>Sales Consultant (Digital Software)\\r\\nLocatio...</td>\n",
       "      <td>Permanent, Full Time</td>\n",
       "      <td>The Supreme Hr Advisory Pte. Ltd.</td>\n",
       "      <td>SHENTON HOUSE, 3 SHENTON WAY 068805</td>\n",
       "      <td>8890 sales consultant digital software saas in...</td>\n",
       "      <td>False</td>\n",
       "      <td>3000.0</td>\n",
       "      <td>4500.0</td>\n",
       "      <td>[-0.6867803, 1.2084837, 0.8840144, 0.000840738...</td>\n",
       "    </tr>\n",
       "  </tbody>\n",
       "</table>\n",
       "</div>"
      ],
      "text/plain": [
       "                                                 url  \\\n",
       "0  https://www.mycareersfuture.gov.sg/job/custome...   \n",
       "1  https://www.mycareersfuture.gov.sg/job/enginee...   \n",
       "2  https://www.mycareersfuture.gov.sg/job/sales/b...   \n",
       "3  https://www.mycareersfuture.gov.sg/job/banking...   \n",
       "4  https://www.mycareersfuture.gov.sg/job/archite...   \n",
       "\n",
       "                                           job_title  \\\n",
       "0                         PRODUCTION CONTROL MANAGER   \n",
       "1       Design Engineer ( Mechanical  /  Electrical)   \n",
       "2                     Business Development Executive   \n",
       "3                            Senior / Data Scientist   \n",
       "4  8890-Sales Consultant [ Digital Software| Saas...   \n",
       "\n",
       "                                         description              job_type  \\\n",
       "0  JOB DESCIPTION\\r\\n\\r\\n  planning and organisin...  Permanent, Full Time   \n",
       "1  SUMMARY\\r\\n\\r\\n  This      position is respons...             Full Time   \n",
       "2  Job description\\r\\nWho we are:\\r\\nWe are a log...  Part Time, Permanent   \n",
       "3  The ideal candidate should have a good underst...  Permanent, Full Time   \n",
       "4  Sales Consultant (Digital Software)\\r\\nLocatio...  Permanent, Full Time   \n",
       "\n",
       "                                             company  \\\n",
       "0                              Snl Logistics Pte Ltd   \n",
       "1  Jamco Aero Design &Amp; Engineering Private Li...   \n",
       "2                             Airpak Express Pte Ltd   \n",
       "3                         Singapore Exchange Limited   \n",
       "4                  The Supreme Hr Advisory Pte. Ltd.   \n",
       "\n",
       "                                            location  \\\n",
       "0                               31 GUL CIRCLE 629569   \n",
       "1                                          Singapore   \n",
       "2  TECHPLAS INDUSTRIAL BUILDING, 45 CHANGI SOUTH ...   \n",
       "3                 SGX CENTRE I, 2 SHENTON WAY 068804   \n",
       "4                SHENTON HOUSE, 3 SHENTON WAY 068805   \n",
       "\n",
       "                                     full_info_clean  duplicated  min_pay  \\\n",
       "0  production control manager snl logistics pte l...       False   2000.0   \n",
       "1  design engineer mechanical electrical jamco ae...       False   2500.0   \n",
       "2  business development executive airpak express ...       False   3200.0   \n",
       "3  senior data scientist singapore exchange limit...       False   9000.0   \n",
       "4  8890 sales consultant digital software saas in...       False   3000.0   \n",
       "\n",
       "   max_pay                                         embeddings  \n",
       "0   3400.0  [-0.1925869, 0.7930996, 0.8500719, 0.048986174...  \n",
       "1   4500.0  [-0.143587, 0.8263468, 0.8404796, -0.10907824,...  \n",
       "2   3500.0  [-0.4457556, 0.78975, 1.2645174, -0.2784788, 0...  \n",
       "3  14000.0  [-0.80349284, 1.0287868, 1.3000816, 0.15158106...  \n",
       "4   4500.0  [-0.6867803, 1.2084837, 0.8840144, 0.000840738...  "
      ]
     },
     "execution_count": 11,
     "metadata": {},
     "output_type": "execute_result"
    }
   ],
   "source": [
    "datawemb.head()"
   ]
  },
  {
   "cell_type": "code",
   "execution_count": 12,
   "metadata": {},
   "outputs": [],
   "source": [
    "#function for data cleaning of inputs\n",
    "stop_words = set(stopwords.words('english'))\n",
    "def rm_stopwords(tokens):\n",
    "    return [i for i in tokens if i not in stop_words and i]"
   ]
  },
  {
   "cell_type": "code",
   "execution_count": 13,
   "metadata": {},
   "outputs": [],
   "source": [
    "#function for data cleaning of inputs\n",
    "def process_input(inputd):\n",
    "    inputd = \" \".join(inputd )\n",
    "    inputd = inputd.replace(\"\\n\",\" \")\n",
    "    inputd = inputd .replace(\"\\r\",\" \")\n",
    "    inputd = re.sub('[^A-Za-z0-9]+', ' ', inputd)\n",
    "    inputd = inputd.lower()\n",
    "    inputd = word_tokenize(inputd)\n",
    "    inputd = rm_stopwords(inputd)\n",
    "    inputd = \" \".join(inputd)\n",
    "    return inputd"
   ]
  },
  {
   "cell_type": "code",
   "execution_count": 17,
   "metadata": {},
   "outputs": [
    {
     "name": "stdout",
     "output_type": "stream",
     "text": [
      "Collecting sentence-transformers\n",
      "  Using cached sentence_transformers-2.2.2-py3-none-any.whl\n",
      "Collecting transformers<5.0.0,>=4.6.0\n",
      "  Using cached transformers-4.23.1-py3-none-any.whl (5.3 MB)\n",
      "Collecting torchvision\n",
      "  Using cached torchvision-0.13.1-cp310-cp310-win_amd64.whl (1.1 MB)\n",
      "Requirement already satisfied: torch>=1.6.0 in c:\\users\\xghan\\appdata\\local\\packages\\pythonsoftwarefoundation.python.3.10_qbz5n2kfra8p0\\localcache\\local-packages\\python310\\site-packages (from sentence-transformers) (1.12.1)\n",
      "Requirement already satisfied: nltk in c:\\users\\xghan\\appdata\\local\\packages\\pythonsoftwarefoundation.python.3.10_qbz5n2kfra8p0\\localcache\\local-packages\\python310\\site-packages (from sentence-transformers) (3.7)\n",
      "Requirement already satisfied: tqdm in c:\\users\\xghan\\appdata\\local\\packages\\pythonsoftwarefoundation.python.3.10_qbz5n2kfra8p0\\localcache\\local-packages\\python310\\site-packages (from sentence-transformers) (4.64.1)\n",
      "Requirement already satisfied: numpy in c:\\users\\xghan\\appdata\\local\\packages\\pythonsoftwarefoundation.python.3.10_qbz5n2kfra8p0\\localcache\\local-packages\\python310\\site-packages (from sentence-transformers) (1.23.3)\n",
      "Requirement already satisfied: scipy in c:\\users\\xghan\\appdata\\local\\packages\\pythonsoftwarefoundation.python.3.10_qbz5n2kfra8p0\\localcache\\local-packages\\python310\\site-packages (from sentence-transformers) (1.9.1)\n",
      "Requirement already satisfied: sentencepiece in c:\\users\\xghan\\appdata\\local\\packages\\pythonsoftwarefoundation.python.3.10_qbz5n2kfra8p0\\localcache\\local-packages\\python310\\site-packages (from sentence-transformers) (0.1.97)\n",
      "Requirement already satisfied: scikit-learn in c:\\users\\xghan\\appdata\\local\\packages\\pythonsoftwarefoundation.python.3.10_qbz5n2kfra8p0\\localcache\\local-packages\\python310\\site-packages (from sentence-transformers) (1.1.2)\n",
      "Collecting huggingface-hub>=0.4.0\n",
      "  Using cached huggingface_hub-0.10.1-py3-none-any.whl (163 kB)\n",
      "Requirement already satisfied: typing-extensions>=3.7.4.3 in c:\\users\\xghan\\appdata\\local\\packages\\pythonsoftwarefoundation.python.3.10_qbz5n2kfra8p0\\localcache\\local-packages\\python310\\site-packages (from huggingface-hub>=0.4.0->sentence-transformers) (4.4.0)\n",
      "Requirement already satisfied: filelock in c:\\users\\xghan\\appdata\\local\\packages\\pythonsoftwarefoundation.python.3.10_qbz5n2kfra8p0\\localcache\\local-packages\\python310\\site-packages (from huggingface-hub>=0.4.0->sentence-transformers) (3.8.0)\n",
      "Requirement already satisfied: pyyaml>=5.1 in c:\\users\\xghan\\appdata\\local\\packages\\pythonsoftwarefoundation.python.3.10_qbz5n2kfra8p0\\localcache\\local-packages\\python310\\site-packages (from huggingface-hub>=0.4.0->sentence-transformers) (6.0)\n",
      "Collecting requests\n",
      "  Using cached requests-2.28.1-py3-none-any.whl (62 kB)\n",
      "Requirement already satisfied: packaging>=20.9 in c:\\users\\xghan\\appdata\\local\\packages\\pythonsoftwarefoundation.python.3.10_qbz5n2kfra8p0\\localcache\\local-packages\\python310\\site-packages (from huggingface-hub>=0.4.0->sentence-transformers) (21.3)\n",
      "Requirement already satisfied: tokenizers!=0.11.3,<0.14,>=0.11.1 in c:\\users\\xghan\\appdata\\local\\packages\\pythonsoftwarefoundation.python.3.10_qbz5n2kfra8p0\\localcache\\local-packages\\python310\\site-packages (from transformers<5.0.0,>=4.6.0->sentence-transformers) (0.13.1)\n",
      "Requirement already satisfied: regex!=2019.12.17 in c:\\users\\xghan\\appdata\\local\\packages\\pythonsoftwarefoundation.python.3.10_qbz5n2kfra8p0\\localcache\\local-packages\\python310\\site-packages (from transformers<5.0.0,>=4.6.0->sentence-transformers) (2022.9.13)\n",
      "Requirement already satisfied: colorama in c:\\users\\xghan\\appdata\\local\\packages\\pythonsoftwarefoundation.python.3.10_qbz5n2kfra8p0\\localcache\\local-packages\\python310\\site-packages (from tqdm->sentence-transformers) (0.4.5)\n",
      "Requirement already satisfied: click in c:\\users\\xghan\\appdata\\local\\packages\\pythonsoftwarefoundation.python.3.10_qbz5n2kfra8p0\\localcache\\local-packages\\python310\\site-packages (from nltk->sentence-transformers) (8.1.3)\n",
      "Requirement already satisfied: joblib in c:\\users\\xghan\\appdata\\local\\packages\\pythonsoftwarefoundation.python.3.10_qbz5n2kfra8p0\\localcache\\local-packages\\python310\\site-packages (from nltk->sentence-transformers) (1.2.0)\n",
      "Requirement already satisfied: threadpoolctl>=2.0.0 in c:\\users\\xghan\\appdata\\local\\packages\\pythonsoftwarefoundation.python.3.10_qbz5n2kfra8p0\\localcache\\local-packages\\python310\\site-packages (from scikit-learn->sentence-transformers) (3.1.0)\n",
      "Requirement already satisfied: pillow!=8.3.*,>=5.3.0 in c:\\users\\xghan\\appdata\\local\\packages\\pythonsoftwarefoundation.python.3.10_qbz5n2kfra8p0\\localcache\\local-packages\\python310\\site-packages (from torchvision->sentence-transformers) (9.2.0)\n",
      "Requirement already satisfied: pyparsing!=3.0.5,>=2.0.2 in c:\\users\\xghan\\appdata\\local\\packages\\pythonsoftwarefoundation.python.3.10_qbz5n2kfra8p0\\localcache\\local-packages\\python310\\site-packages (from packaging>=20.9->huggingface-hub>=0.4.0->sentence-transformers) (3.0.9)\n",
      "Requirement already satisfied: charset-normalizer<3,>=2 in c:\\users\\xghan\\appdata\\local\\packages\\pythonsoftwarefoundation.python.3.10_qbz5n2kfra8p0\\localcache\\local-packages\\python310\\site-packages (from requests->huggingface-hub>=0.4.0->sentence-transformers) (2.1.1)\n",
      "Requirement already satisfied: idna<4,>=2.5 in c:\\users\\xghan\\appdata\\local\\packages\\pythonsoftwarefoundation.python.3.10_qbz5n2kfra8p0\\localcache\\local-packages\\python310\\site-packages (from requests->huggingface-hub>=0.4.0->sentence-transformers) (3.4)\n",
      "Requirement already satisfied: certifi>=2017.4.17 in c:\\users\\xghan\\appdata\\local\\packages\\pythonsoftwarefoundation.python.3.10_qbz5n2kfra8p0\\localcache\\local-packages\\python310\\site-packages (from requests->huggingface-hub>=0.4.0->sentence-transformers) (2022.9.24)\n",
      "Requirement already satisfied: urllib3<1.27,>=1.21.1 in c:\\users\\xghan\\appdata\\local\\packages\\pythonsoftwarefoundation.python.3.10_qbz5n2kfra8p0\\localcache\\local-packages\\python310\\site-packages (from requests->huggingface-hub>=0.4.0->sentence-transformers) (1.26.12)\n",
      "Installing collected packages: requests, torchvision, huggingface-hub, transformers, sentence-transformers\n",
      "Successfully installed huggingface-hub-0.10.1 requests-2.28.1 sentence-transformers-2.2.2 torchvision-0.13.1 transformers-4.23.1\n",
      "Note: you may need to restart the kernel to use updated packages.\n"
     ]
    },
    {
     "name": "stderr",
     "output_type": "stream",
     "text": [
      "  WARNING: The script huggingface-cli.exe is installed in 'C:\\Users\\xghan\\AppData\\Local\\Packages\\PythonSoftwareFoundation.Python.3.10_qbz5n2kfra8p0\\LocalCache\\local-packages\\Python310\\Scripts' which is not on PATH.\n",
      "  Consider adding this directory to PATH or, if you prefer to suppress this warning, use --no-warn-script-location.\n",
      "  WARNING: The script transformers-cli.exe is installed in 'C:\\Users\\xghan\\AppData\\Local\\Packages\\PythonSoftwareFoundation.Python.3.10_qbz5n2kfra8p0\\LocalCache\\local-packages\\Python310\\Scripts' which is not on PATH.\n",
      "  Consider adding this directory to PATH or, if you prefer to suppress this warning, use --no-warn-script-location.\n"
     ]
    }
   ],
   "source": [
    "pip install -U sentence-transformers"
   ]
  },
  {
   "cell_type": "code",
   "execution_count": 18,
   "metadata": {},
   "outputs": [
    {
     "name": "stderr",
     "output_type": "stream",
     "text": [
      "C:\\Users\\xghan\\AppData\\Local\\Packages\\PythonSoftwareFoundation.Python.3.10_qbz5n2kfra8p0\\LocalCache\\local-packages\\Python310\\site-packages\\tqdm\\auto.py:22: TqdmWarning: IProgress not found. Please update jupyter and ipywidgets. See https://ipywidgets.readthedocs.io/en/stable/user_install.html\n",
      "  from .autonotebook import tqdm as notebook_tqdm\n",
      "Downloading: 100%|██████████| 391/391 [00:00<00:00, 176kB/s]\n",
      "Downloading: 100%|██████████| 190/190 [00:00<00:00, 51.0kB/s]\n",
      "Downloading: 100%|██████████| 3.95k/3.95k [00:00<00:00, 978kB/s]\n",
      "Downloading: 100%|██████████| 2.00/2.00 [00:00<00:00, 934B/s]\n",
      "Downloading: 100%|██████████| 625/625 [00:00<00:00, 607kB/s]\n",
      "Downloading: 100%|██████████| 122/122 [00:00<00:00, 122kB/s]\n",
      "Downloading: 100%|██████████| 438M/438M [00:19<00:00, 22.0MB/s] \n",
      "Downloading: 100%|██████████| 53.0/53.0 [00:00<00:00, 27.1kB/s]\n",
      "Downloading: 100%|██████████| 112/112 [00:00<00:00, 59.9kB/s]\n",
      "Downloading: 100%|██████████| 466k/466k [00:01<00:00, 378kB/s]  \n",
      "Downloading: 100%|██████████| 399/399 [00:00<00:00, 197kB/s]\n",
      "Downloading: 100%|██████████| 232k/232k [00:00<00:00, 234kB/s]  \n",
      "Downloading: 100%|██████████| 229/229 [00:00<00:00, 74.7kB/s]\n"
     ]
    }
   ],
   "source": [
    "from sentence_transformers import SentenceTransformer\n",
    "sbert_model = SentenceTransformer('bert-base-nli-mean-tokens')"
   ]
  },
  {
   "cell_type": "code",
   "execution_count": 19,
   "metadata": {},
   "outputs": [],
   "source": [
    "#recommendation function\n",
    "def recommendation(input):\n",
    "    pinput = process_input(input)\n",
    "    inemb = sbert_model.encode(pinput)\n",
    "    sim_scores = []\n",
    "    for i in range(numdescriptions):\n",
    "        score = cosine_similarity([inemb], [datawemb['embeddings'][i]])\n",
    "        sim_scores.append((i, score))\n",
    "    sim_scores.sort(key=lambda x: x[1])\n",
    "    ind = list(zip(*sim_scores[-10:]))[0]\n",
    "    return datawemb.iloc[list(ind)]"
   ]
  },
  {
   "cell_type": "code",
   "execution_count": 24,
   "metadata": {},
   "outputs": [
    {
     "data": {
      "text/plain": [
       "'python r sql git flask docker'"
      ]
     },
     "execution_count": 24,
     "metadata": {},
     "output_type": "execute_result"
    }
   ],
   "source": [
    "#testing 1\n",
    "test_input1=[\"python\",\"R\",\"sql\",\"git\",\"flask\",\"docker\"]\n",
    "pinput = process_input(test_input1)\n",
    "pinput"
   ]
  },
  {
   "cell_type": "code",
   "execution_count": 27,
   "metadata": {},
   "outputs": [
    {
     "data": {
      "text/plain": [
       "(768,)"
      ]
     },
     "execution_count": 27,
     "metadata": {},
     "output_type": "execute_result"
    }
   ],
   "source": [
    "inemb = sbert_model.encode(pinput)\n",
    "inemb.shape"
   ]
  },
  {
   "cell_type": "code",
   "execution_count": 34,
   "metadata": {},
   "outputs": [
    {
     "data": {
      "text/plain": [
       "(768,)"
      ]
     },
     "execution_count": 34,
     "metadata": {},
     "output_type": "execute_result"
    }
   ],
   "source": [
    "datawemb['embeddings'][0].shape"
   ]
  },
  {
   "cell_type": "code",
   "execution_count": 35,
   "metadata": {},
   "outputs": [],
   "source": [
    "score = cosine_similarity([inemb], [datawemb['embeddings'][0]])"
   ]
  },
  {
   "cell_type": "code",
   "execution_count": 36,
   "metadata": {},
   "outputs": [
    {
     "data": {
      "text/plain": [
       "array([[0.32030785]])"
      ]
     },
     "execution_count": 36,
     "metadata": {},
     "output_type": "execute_result"
    }
   ],
   "source": [
    "score"
   ]
  },
  {
   "cell_type": "code",
   "execution_count": 38,
   "metadata": {},
   "outputs": [],
   "source": [
    "sim_scores = []\n",
    "for i in range(numdescriptions):\n",
    "        score = cosine_similarity([inemb], [datawemb['embeddings'][i]])\n",
    "        sim_scores.append((i, score))"
   ]
  },
  {
   "cell_type": "code",
   "execution_count": 49,
   "metadata": {},
   "outputs": [
    {
     "data": {
      "text/plain": [
       "[(4473, array([[0.63605193]])),\n",
       " (5672, array([[0.64009044]])),\n",
       " (5916, array([[0.64407463]])),\n",
       " (4947, array([[0.64409052]])),\n",
       " (2667, array([[0.64570801]])),\n",
       " (2320, array([[0.66885017]])),\n",
       " (3197, array([[0.6935339]])),\n",
       " (3223, array([[0.70390639]])),\n",
       " (3501, array([[0.70597338]])),\n",
       " (4302, array([[0.70643661]]))]"
      ]
     },
     "execution_count": 49,
     "metadata": {},
     "output_type": "execute_result"
    }
   ],
   "source": [
    "sim_scores[-10:]"
   ]
  },
  {
   "cell_type": "code",
   "execution_count": 47,
   "metadata": {},
   "outputs": [
    {
     "data": {
      "text/plain": [
       "(4473, 5672, 5916, 4947, 2667, 2320, 3197, 3223, 3501, 4302)"
      ]
     },
     "execution_count": 47,
     "metadata": {},
     "output_type": "execute_result"
    }
   ],
   "source": [
    "list(zip(*sim_scores[-10:]))[0]"
   ]
  },
  {
   "cell_type": "code",
   "execution_count": 55,
   "metadata": {},
   "outputs": [
    {
     "data": {
      "text/plain": [
       "'https://sg.jobsdb.com/job/Data-Engineer-b5b53d5bfc3140c5d2efcc9b4068f96b?from_url=https%3A%2F%2Fsg.jobsdb.com%2Fj%3Fl%3D%26p%3D8%26q%3DData%2BEngineer%26sp%3Dsearch%26surl%3D0%26tk%3D3LzrNDonNZbBxCbfU27K-mMwmzxMtUK8HATCdgyzf&sl=&sol_srt=78b4684b-0414-4783-bee9-38477df1f110&sp=serp&sponsored=false&sq=Data+Engineer&sr=73&tk=3LzrNDonNZbBxCbfU27K-3VlNecHo1lvw9aUG7tF4'"
      ]
     },
     "execution_count": 55,
     "metadata": {},
     "output_type": "execute_result"
    }
   ],
   "source": [
    "recommendation(test_input1)['url'][4302]"
   ]
  },
  {
   "cell_type": "code",
   "execution_count": 15,
   "metadata": {},
   "outputs": [
    {
     "data": {
      "text/html": [
       "<div>\n",
       "<style scoped>\n",
       "    .dataframe tbody tr th:only-of-type {\n",
       "        vertical-align: middle;\n",
       "    }\n",
       "\n",
       "    .dataframe tbody tr th {\n",
       "        vertical-align: top;\n",
       "    }\n",
       "\n",
       "    .dataframe thead th {\n",
       "        text-align: right;\n",
       "    }\n",
       "</style>\n",
       "<table border=\"1\" class=\"dataframe\">\n",
       "  <thead>\n",
       "    <tr style=\"text-align: right;\">\n",
       "      <th></th>\n",
       "      <th>url</th>\n",
       "      <th>job_title</th>\n",
       "      <th>description</th>\n",
       "      <th>job_type</th>\n",
       "      <th>company</th>\n",
       "      <th>location</th>\n",
       "      <th>full_info_clean</th>\n",
       "      <th>duplicated</th>\n",
       "      <th>min_pay</th>\n",
       "      <th>max_pay</th>\n",
       "      <th>embeddings</th>\n",
       "    </tr>\n",
       "  </thead>\n",
       "  <tbody>\n",
       "    <tr>\n",
       "      <th>2444</th>\n",
       "      <td>https://sg.jobsdb.com/job/Database-Administrat...</td>\n",
       "      <td>Database Administrator</td>\n",
       "      <td>This is predominantly Senior Engineer role wor...</td>\n",
       "      <td>Full time</td>\n",
       "      <td>REC Solar</td>\n",
       "      <td>Tuas</td>\n",
       "      <td>database administrator rec solar full time tua...</td>\n",
       "      <td>False</td>\n",
       "      <td>NaN</td>\n",
       "      <td>NaN</td>\n",
       "      <td>[-0.48589498, 1.1524243, 1.185113, 0.105670854...</td>\n",
       "    </tr>\n",
       "    <tr>\n",
       "      <th>5916</th>\n",
       "      <td>https://sg.jobsdb.com/job/Senior-Data-Analyst-...</td>\n",
       "      <td>Senior Data Analyst, Advisory</td>\n",
       "      <td>Responsibility\\r\\n\\r\\nAbility to perform ident...</td>\n",
       "      <td>Full time</td>\n",
       "      <td>ST Engineering</td>\n",
       "      <td>Singapore</td>\n",
       "      <td>senior data analyst advisory st engineering fu...</td>\n",
       "      <td>False</td>\n",
       "      <td>NaN</td>\n",
       "      <td>NaN</td>\n",
       "      <td>[-0.78059465, 1.3436424, 0.6724166, 0.5116054,...</td>\n",
       "    </tr>\n",
       "    <tr>\n",
       "      <th>3223</th>\n",
       "      <td>https://sg.jobsdb.com/job/Data-Engineer-0e8ed9...</td>\n",
       "      <td>Data Engineer</td>\n",
       "      <td>Job Title : Data Engineer\\r\\nJob description (...</td>\n",
       "      <td>Contract</td>\n",
       "      <td>U3 Infotech Pte Ltd</td>\n",
       "      <td>Singapore</td>\n",
       "      <td>data engineer u3 infotech pte ltd contract sin...</td>\n",
       "      <td>False</td>\n",
       "      <td>9000.0</td>\n",
       "      <td>14000.0</td>\n",
       "      <td>[-0.2894813, 1.2983376, 0.6473273, 0.18196937,...</td>\n",
       "    </tr>\n",
       "    <tr>\n",
       "      <th>4302</th>\n",
       "      <td>https://sg.jobsdb.com/job/Data-Engineer-b5b53d...</td>\n",
       "      <td>Data Engineer</td>\n",
       "      <td>Job Title : Data Engineer\\r\\nJob description (...</td>\n",
       "      <td>Contract</td>\n",
       "      <td>U3 Infotech Pte Ltd</td>\n",
       "      <td>Singapore</td>\n",
       "      <td>data engineer u3 infotech pte ltd contract sin...</td>\n",
       "      <td>False</td>\n",
       "      <td>6000.0</td>\n",
       "      <td>9000.0</td>\n",
       "      <td>[-0.28830102, 1.3850135, 0.55168843, 0.2451738...</td>\n",
       "    </tr>\n",
       "    <tr>\n",
       "      <th>3181</th>\n",
       "      <td>https://sg.jobsdb.com/job/AWS-Data-Engineer-bc...</td>\n",
       "      <td>AWS Data Engineer</td>\n",
       "      <td>Required Skills:\\r\\n* AWS Data Engineers\\r\\n* ...</td>\n",
       "      <td>Contract</td>\n",
       "      <td>IDC Technologies</td>\n",
       "      <td>Central Singapore</td>\n",
       "      <td>aws data engineer idc technologies contract ce...</td>\n",
       "      <td>False</td>\n",
       "      <td>6000.0</td>\n",
       "      <td>7500.0</td>\n",
       "      <td>[-0.3853913, 0.99493074, 1.3304172, 0.53653353...</td>\n",
       "    </tr>\n",
       "    <tr>\n",
       "      <th>5818</th>\n",
       "      <td>https://sg.jobsdb.com/job/Database-Administrat...</td>\n",
       "      <td>Senior/Database Administrator</td>\n",
       "      <td>Responsibilities: \\r\\n\\r\\nResponsible for impl...</td>\n",
       "      <td>Full time</td>\n",
       "      <td>CVista HR Consulting Pte Ltd</td>\n",
       "      <td>Tuas</td>\n",
       "      <td>senior database administrator cvista hr consul...</td>\n",
       "      <td>False</td>\n",
       "      <td>6500.0</td>\n",
       "      <td>6500.0</td>\n",
       "      <td>[-0.39711425, 1.060669, 1.420305, 0.48891968, ...</td>\n",
       "    </tr>\n",
       "    <tr>\n",
       "      <th>3197</th>\n",
       "      <td>https://sg.jobsdb.com/job/Senior-Data-Analyst-...</td>\n",
       "      <td>Senior Data Analyst (bank) (JT) (Machine Learn...</td>\n",
       "      <td>#NAME?</td>\n",
       "      <td>Contract</td>\n",
       "      <td>A-IT Software Services</td>\n",
       "      <td>Singapore</td>\n",
       "      <td>senior data analyst bank jt machine learning s...</td>\n",
       "      <td>False</td>\n",
       "      <td>6500.0</td>\n",
       "      <td>8000.0</td>\n",
       "      <td>[-0.7132349, 1.1304373, 0.14359474, -0.0823287...</td>\n",
       "    </tr>\n",
       "    <tr>\n",
       "      <th>4589</th>\n",
       "      <td>https://sg.jobsdb.com/job/Engineer-516beefba9a...</td>\n",
       "      <td>Engineer (Database Administrator)</td>\n",
       "      <td>This role work under Production System &amp; Devel...</td>\n",
       "      <td>Full time</td>\n",
       "      <td>RecruitPlus Consulting</td>\n",
       "      <td>Tuas</td>\n",
       "      <td>engineer database administrator recruitplus co...</td>\n",
       "      <td>False</td>\n",
       "      <td>NaN</td>\n",
       "      <td>NaN</td>\n",
       "      <td>[-0.44864976, 1.1188912, 1.5694858, 0.30545726...</td>\n",
       "    </tr>\n",
       "    <tr>\n",
       "      <th>3501</th>\n",
       "      <td>https://sg.jobsdb.com/job/Data-Ops-Engineer-33...</td>\n",
       "      <td>Data Ops Engineer 007</td>\n",
       "      <td>• You have experience building production-grad...</td>\n",
       "      <td>Contract</td>\n",
       "      <td>U3 Infotech Pte Ltd</td>\n",
       "      <td>Singapore</td>\n",
       "      <td>data ops engineer 007 u3 infotech pte ltd cont...</td>\n",
       "      <td>False</td>\n",
       "      <td>7000.0</td>\n",
       "      <td>9500.0</td>\n",
       "      <td>[-0.15325922, 1.032224, 0.82651114, 0.21775155...</td>\n",
       "    </tr>\n",
       "    <tr>\n",
       "      <th>2667</th>\n",
       "      <td>https://sg.jobsdb.com/job/Technical-Specialist...</td>\n",
       "      <td>Technical Specialist / Consultant | Technology...</td>\n",
       "      <td>Job Description Summary\\r\\nDesign &amp; Developmen...</td>\n",
       "      <td>Permanent</td>\n",
       "      <td>AIA Singapore</td>\n",
       "      <td>Singapore</td>\n",
       "      <td>technical specialist consultant technology spe...</td>\n",
       "      <td>False</td>\n",
       "      <td>6200.0</td>\n",
       "      <td>11500.0</td>\n",
       "      <td>[-0.24554317, 1.2490017, 0.72966975, 0.3550323...</td>\n",
       "    </tr>\n",
       "  </tbody>\n",
       "</table>\n",
       "</div>"
      ],
      "text/plain": [
       "                                                    url  \\\n",
       "2444  https://sg.jobsdb.com/job/Database-Administrat...   \n",
       "5916  https://sg.jobsdb.com/job/Senior-Data-Analyst-...   \n",
       "3223  https://sg.jobsdb.com/job/Data-Engineer-0e8ed9...   \n",
       "4302  https://sg.jobsdb.com/job/Data-Engineer-b5b53d...   \n",
       "3181  https://sg.jobsdb.com/job/AWS-Data-Engineer-bc...   \n",
       "5818  https://sg.jobsdb.com/job/Database-Administrat...   \n",
       "3197  https://sg.jobsdb.com/job/Senior-Data-Analyst-...   \n",
       "4589  https://sg.jobsdb.com/job/Engineer-516beefba9a...   \n",
       "3501  https://sg.jobsdb.com/job/Data-Ops-Engineer-33...   \n",
       "2667  https://sg.jobsdb.com/job/Technical-Specialist...   \n",
       "\n",
       "                                              job_title  \\\n",
       "2444                             Database Administrator   \n",
       "5916                      Senior Data Analyst, Advisory   \n",
       "3223                                      Data Engineer   \n",
       "4302                                      Data Engineer   \n",
       "3181                                  AWS Data Engineer   \n",
       "5818                      Senior/Database Administrator   \n",
       "3197  Senior Data Analyst (bank) (JT) (Machine Learn...   \n",
       "4589                  Engineer (Database Administrator)   \n",
       "3501                              Data Ops Engineer 007   \n",
       "2667  Technical Specialist / Consultant | Technology...   \n",
       "\n",
       "                                            description   job_type  \\\n",
       "2444  This is predominantly Senior Engineer role wor...  Full time   \n",
       "5916  Responsibility\\r\\n\\r\\nAbility to perform ident...  Full time   \n",
       "3223  Job Title : Data Engineer\\r\\nJob description (...   Contract   \n",
       "4302  Job Title : Data Engineer\\r\\nJob description (...   Contract   \n",
       "3181  Required Skills:\\r\\n* AWS Data Engineers\\r\\n* ...   Contract   \n",
       "5818  Responsibilities: \\r\\n\\r\\nResponsible for impl...  Full time   \n",
       "3197                                             #NAME?   Contract   \n",
       "4589  This role work under Production System & Devel...  Full time   \n",
       "3501  • You have experience building production-grad...   Contract   \n",
       "2667  Job Description Summary\\r\\nDesign & Developmen...  Permanent   \n",
       "\n",
       "                           company           location  \\\n",
       "2444                     REC Solar               Tuas   \n",
       "5916                ST Engineering          Singapore   \n",
       "3223           U3 Infotech Pte Ltd          Singapore   \n",
       "4302           U3 Infotech Pte Ltd          Singapore   \n",
       "3181              IDC Technologies  Central Singapore   \n",
       "5818  CVista HR Consulting Pte Ltd               Tuas   \n",
       "3197        A-IT Software Services          Singapore   \n",
       "4589        RecruitPlus Consulting               Tuas   \n",
       "3501           U3 Infotech Pte Ltd          Singapore   \n",
       "2667                 AIA Singapore          Singapore   \n",
       "\n",
       "                                        full_info_clean  duplicated  min_pay  \\\n",
       "2444  database administrator rec solar full time tua...       False      NaN   \n",
       "5916  senior data analyst advisory st engineering fu...       False      NaN   \n",
       "3223  data engineer u3 infotech pte ltd contract sin...       False   9000.0   \n",
       "4302  data engineer u3 infotech pte ltd contract sin...       False   6000.0   \n",
       "3181  aws data engineer idc technologies contract ce...       False   6000.0   \n",
       "5818  senior database administrator cvista hr consul...       False   6500.0   \n",
       "3197  senior data analyst bank jt machine learning s...       False   6500.0   \n",
       "4589  engineer database administrator recruitplus co...       False      NaN   \n",
       "3501  data ops engineer 007 u3 infotech pte ltd cont...       False   7000.0   \n",
       "2667  technical specialist consultant technology spe...       False   6200.0   \n",
       "\n",
       "      max_pay                                         embeddings  \n",
       "2444      NaN  [-0.48589498, 1.1524243, 1.185113, 0.105670854...  \n",
       "5916      NaN  [-0.78059465, 1.3436424, 0.6724166, 0.5116054,...  \n",
       "3223  14000.0  [-0.2894813, 1.2983376, 0.6473273, 0.18196937,...  \n",
       "4302   9000.0  [-0.28830102, 1.3850135, 0.55168843, 0.2451738...  \n",
       "3181   7500.0  [-0.3853913, 0.99493074, 1.3304172, 0.53653353...  \n",
       "5818   6500.0  [-0.39711425, 1.060669, 1.420305, 0.48891968, ...  \n",
       "3197   8000.0  [-0.7132349, 1.1304373, 0.14359474, -0.0823287...  \n",
       "4589      NaN  [-0.44864976, 1.1188912, 1.5694858, 0.30545726...  \n",
       "3501   9500.0  [-0.15325922, 1.032224, 0.82651114, 0.21775155...  \n",
       "2667  11500.0  [-0.24554317, 1.2490017, 0.72966975, 0.3550323...  "
      ]
     },
     "execution_count": 15,
     "metadata": {},
     "output_type": "execute_result"
    }
   ],
   "source": [
    "#testing 2\n",
    "test_input2=['engineer', 'cloud', 'architecture', 'operating system', 'sql']\n",
    "\n",
    "recommendation(test_input2)"
   ]
  },
  {
   "cell_type": "code",
   "execution_count": null,
   "metadata": {},
   "outputs": [],
   "source": []
  }
 ],
 "metadata": {
  "kernelspec": {
   "display_name": "Python 3.10.8 64-bit (microsoft store)",
   "language": "python",
   "name": "python3"
  },
  "language_info": {
   "codemirror_mode": {
    "name": "ipython",
    "version": 3
   },
   "file_extension": ".py",
   "mimetype": "text/x-python",
   "name": "python",
   "nbconvert_exporter": "python",
   "pygments_lexer": "ipython3",
   "version": "3.10.8"
  },
  "vscode": {
   "interpreter": {
    "hash": "f8b325dba0a5d88be3dbd035e7bbab64b862c49c49fbb32327f9c81875f85a34"
   }
  }
 },
 "nbformat": 4,
 "nbformat_minor": 4
}

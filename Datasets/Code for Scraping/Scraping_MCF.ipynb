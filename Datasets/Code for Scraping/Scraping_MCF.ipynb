{
  "nbformat": 4,
  "nbformat_minor": 0,
  "metadata": {
    "colab": {
      "provenance": []
    },
    "kernelspec": {
      "name": "python3",
      "display_name": "Python 3"
    },
    "language_info": {
      "name": "python"
    }
  },
  "cells": [
    {
      "cell_type": "code",
      "source": [
        "pip install selenium"
      ],
      "metadata": {
        "id": "7r0-oVgxot4o"
      },
      "execution_count": null,
      "outputs": []
    },
    {
      "cell_type": "code",
      "source": [
        "#Import packages\n",
        "import pandas as pd\n",
        "from selenium import webdriver\n",
        "from time import sleep\n",
        "import sys\n",
        "from selenium.webdriver.common.by import By\n",
        "from selenium.webdriver.support.ui import WebDriverWait\n",
        "from selenium.webdriver.support import expected_conditions as EC\n",
        "import pandas as pd\n",
        "import os\n",
        "import pickle"
      ],
      "metadata": {
        "id": "diVUPYIyutXF"
      },
      "execution_count": null,
      "outputs": []
    },
    {
      "cell_type": "code",
      "source": [
        "!apt-get update # to update ubuntu to correctly run apt install\n",
        "!apt install chromium-chromedriver\n",
        "!cp /usr/lib/chromium-browser/chromedriver /usr/bin"
      ],
      "metadata": {
        "id": "db785nQ1l-EW"
      },
      "execution_count": null,
      "outputs": []
    },
    {
      "cell_type": "code",
      "source": [
        "sys.path.insert(0,'/usr/lib/chromium-browser/chromedriver')\n",
        "#Chrome Driver\n",
        "chrome_options = webdriver.ChromeOptions()\n",
        "chrome_options.add_argument('--headless')\n",
        "chrome_options.add_argument('--no-sandbox')\n",
        "chrome_options.add_argument('--disable-dev-shm-usage')\n",
        "driver = webdriver.Chrome('chromedriver',options=chrome_options)"
      ],
      "metadata": {
        "id": "OiEWGk-XuxDv"
      },
      "execution_count": null,
      "outputs": []
    },
    {
      "cell_type": "code",
      "source": [
        "url_set = set()"
      ],
      "metadata": {
        "id": "E06W_9kOF_VN"
      },
      "execution_count": null,
      "outputs": []
    },
    {
      "cell_type": "code",
      "source": [
        "#Crawls through MCF searching for job_title, keep only the links to the jobs\n",
        "#Limit set to fresh and entry level positions\n",
        "def search_mcf(job_title):\n",
        "  for i in range(9999999999):\n",
        "    try:\n",
        "      title=[]\n",
        "      driver.get(f'https://www.mycareersfuture.gov.sg/search?search={job_title}&positionLevel=Fresh%2Fentry%20level&positionLevel=Junior%20Executive&sortBy=relevancy&page={i}')\n",
        "      assert 'MyCareersFuture' in driver.title\n",
        "      title_elem = \"//a[@data-testid='job-card-link']\"\n",
        "      element = WebDriverWait(driver, 10).until(\n",
        "              EC.presence_of_element_located((By.XPATH,title_elem))\n",
        "          )\n",
        "      title = driver.find_elements(By.XPATH,title_elem)\n",
        "      if not title:\n",
        "        break\n",
        "      for i in title:\n",
        "        url_set.add(i.get_attribute('href'))\n",
        "    except Exception as e:\n",
        "      print(e)\n",
        "      break"
      ],
      "metadata": {
        "id": "tUXkcj5hvSVR"
      },
      "execution_count": null,
      "outputs": []
    },
    {
      "cell_type": "code",
      "source": [
        "job_titles = [\"Data\",\n",
        "\"Tech\", \n",
        "\"Software\",\n",
        "\"Product Manager\",\n",
        "\"Analyst\",\n",
        "\"Analytics\",\n",
        "\"Data Scientist\",\n",
        "\"Data Science\",\n",
        "\"AI\",\n",
        "\"ML\",\n",
        "\"NLP\",\n",
        "\"Quant\",\n",
        "\"Data Engineer\",\n",
        "\"Artificial Intelligence\",\n",
        "\"Machine Learning\", \n",
        "\"Quantitative\",\n",
        "\"Business Intelligence\",\n",
        "\"Computer Vision\",\n",
        "\"Natural Language Processing\",\n",
        "\"Data Pipelines\"\n",
        "]"
      ],
      "metadata": {
        "id": "cbqx0zVe-KZY"
      },
      "execution_count": null,
      "outputs": []
    },
    {
      "cell_type": "code",
      "source": [
        "for job_title in job_titles:\n",
        "  print(job_title)\n",
        "  search_mcf(job_title)"
      ],
      "metadata": {
        "id": "25y6cPeIG3Hd"
      },
      "execution_count": null,
      "outputs": []
    },
    {
      "cell_type": "code",
      "source": [
        "len(url_set)"
      ],
      "metadata": {
        "colab": {
          "base_uri": "https://localhost:8080/"
        },
        "id": "JEjTo5pdm5Ug",
        "outputId": "6be4b674-6e4a-4cf0-8469-dc68b2067d4c"
      },
      "execution_count": null,
      "outputs": [
        {
          "output_type": "execute_result",
          "data": {
            "text/plain": [
              "1531"
            ]
          },
          "metadata": {},
          "execution_count": 24
        }
      ]
    },
    {
      "cell_type": "code",
      "source": [
        "#Saved in /content\n",
        "with open('drive/MyDrive/url_set.pkl', 'wb') as f:\n",
        "    pickle.dump(url_set, f)"
      ],
      "metadata": {
        "id": "9E-yO1b7HgZM"
      },
      "execution_count": null,
      "outputs": []
    },
    {
      "cell_type": "code",
      "source": [
        "with (open('drive/MyDrive/url_set.pkl', \"rb\")) as openfile:\n",
        "  url_set = pickle.load(openfile)"
      ],
      "metadata": {
        "id": "fV0i7hq0qoSu"
      },
      "execution_count": null,
      "outputs": []
    },
    {
      "cell_type": "code",
      "source": [
        "len(url_set)"
      ],
      "metadata": {
        "id": "KBR-_BVvOsku"
      },
      "execution_count": null,
      "outputs": []
    },
    {
      "cell_type": "code",
      "source": [
        "result_dict = {'url':[],'job_title':[],'company':[],'code':[], 'address':[], 'emp_type':[], 'level':[],'sector':[],'pay_range':[],'description':[]}"
      ],
      "metadata": {
        "id": "TR29-QKWrDy_"
      },
      "execution_count": null,
      "outputs": []
    },
    {
      "cell_type": "code",
      "source": [
        "count = 0\n",
        "for i in url_set:\n",
        "  count+=1\n",
        "  print(count)\n",
        "  try: \n",
        "    driver.get(i)\n",
        "    element = WebDriverWait(driver,5).until(EC.presence_of_element_located((By.ID,\"description-content\")))\n",
        "  except Exception:\n",
        "    print(Exception)\n",
        "    continue\n",
        "  try:          \n",
        "    result_dict['job_title'].append(driver.find_element(By.ID,\"job_title\").get_attribute('innerHTML'))\n",
        "  except:\n",
        "    result_dict['job_title'].append(None)\n",
        "  try:\n",
        "    result_dict['company'].append(driver.find_element(By.XPATH,\"//p[@data-testid='company-hire-info']\").get_attribute('innerHTML'))\n",
        "  except:\n",
        "    result_dict['company'].append(None)\n",
        "  try:\n",
        "    result_dict['code'].append(driver.find_element(By.XPATH,\"//span[@data-cy='jobinfo__jobpostid--span']\").get_attribute('innerHTML'))\n",
        "  except:\n",
        "    result_dict['code'].append(None)\n",
        "  try:\n",
        "    result_dict['address'].append(driver.find_element(By.ID,\"scroll_to_location_map\").get_attribute('innerHTML'))\n",
        "  except:\n",
        "    result_dict['address'].append(None)\n",
        "  try:\n",
        "    result_dict['emp_type'].append( driver.find_element(By.ID,\"employment_type\").get_attribute('innerHTML'))\n",
        "  except:\n",
        "    result_dict['emp_type'].append(None)\n",
        "  try:\n",
        "    result_dict['level'].append(driver.find_element(By.ID,\"seniority\").get_attribute('innerHTML'))\n",
        "  except:\n",
        "    result_dict['level'].append(None)\n",
        "  try:\n",
        "    result_dict['sector'].append(driver.find_element(By.ID,\"job-categories\").get_attribute('innerHTML'))\n",
        "  except:\n",
        "    result_dict['sector'].append(None)\n",
        "  try:\n",
        "    result_dict['pay_range'].append(driver.find_element(By.XPATH,\"//span[@data-cy='salary-range']\").get_attribute('innerHTML'))\n",
        "  except:\n",
        "    result_dict['pay_range'].append(None)\n",
        "  try:\n",
        "    result_dict['description'].append(driver.find_element(By.ID,\"description-content\").get_attribute('innerHTML'))\n",
        "  except:\n",
        "    result_dict['description'].append(None)\n",
        "  result_dict['url'].append(i)\n"
      ],
      "metadata": {
        "id": "qCOV4jxNr1in"
      },
      "execution_count": null,
      "outputs": []
    },
    {
      "cell_type": "code",
      "source": [
        "mcf_jobs = pd.DataFrame(result_dict)"
      ],
      "metadata": {
        "id": "eUTc113A4u7B"
      },
      "execution_count": null,
      "outputs": []
    },
    {
      "cell_type": "code",
      "source": [
        "mcf_jobs.to_csv('drive/MyDrive/mcf_jobs.csv')"
      ],
      "metadata": {
        "id": "1QHctgyNLCSh"
      },
      "execution_count": null,
      "outputs": []
    },
    {
      "cell_type": "code",
      "source": [
        "df = pd.read_csv('drive/MyDrive/mcf_jobs.csv')"
      ],
      "metadata": {
        "id": "Uj3CulZBlrP0"
      },
      "execution_count": null,
      "outputs": []
    },
    {
      "cell_type": "code",
      "source": [
        "df.head()"
      ],
      "metadata": {
        "id": "QSfWPSxmFXLs"
      },
      "execution_count": null,
      "outputs": []
    },
    {
      "cell_type": "code",
      "source": [
        "import re\n",
        "# as per recommendation from @freylis, compile once only\n",
        "CLEANR = re.compile('<.*?>|&([a-z0-9]+|#[0-9]{1,6}|#x[0-9a-f]{1,6});')\n",
        "\n",
        "def cleanhtml(raw_html):\n",
        "  cleantext = re.sub(CLEANR, '', raw_html)\n",
        "  return cleantext"
      ],
      "metadata": {
        "id": "omo8qYeMFteP"
      },
      "execution_count": null,
      "outputs": []
    },
    {
      "cell_type": "code",
      "source": [
        "import html.parser\n",
        "html_parser = html.parser.HTMLParser()\n"
      ],
      "metadata": {
        "id": "1XXh8YIrJJjq"
      },
      "execution_count": null,
      "outputs": []
    },
    {
      "cell_type": "code",
      "source": [
        "result = []\n",
        "import html\n",
        "for i in df['description']:\n",
        "  i = cleanhtml(i)\n",
        "  i = html.escape(i)\n",
        "  result.append(i)\n",
        "df['description-clean'] = result"
      ],
      "metadata": {
        "id": "H3QzdqzZFlPk"
      },
      "execution_count": null,
      "outputs": []
    },
    {
      "cell_type": "code",
      "source": [
        "df.head(6)"
      ],
      "metadata": {
        "colab": {
          "base_uri": "https://localhost:8080/",
          "height": 718
        },
        "id": "U6OL_neIGiMO",
        "outputId": "80690e9d-a176-4045-c326-f6cbfcea474f"
      },
      "execution_count": null,
      "outputs": [
        {
          "output_type": "execute_result",
          "data": {
            "text/plain": [
              "   Unnamed: 0                                                url  \\\n",
              "0           0  https://www.mycareersfuture.gov.sg/job/custome...   \n",
              "1           1  https://www.mycareersfuture.gov.sg/job/enginee...   \n",
              "2           2  https://www.mycareersfuture.gov.sg/job/sales/b...   \n",
              "3           3  https://www.mycareersfuture.gov.sg/job/banking...   \n",
              "4           4  https://www.mycareersfuture.gov.sg/job/archite...   \n",
              "5           5  https://www.mycareersfuture.gov.sg/job/logisti...   \n",
              "\n",
              "                                           job_title  \\\n",
              "0                         PRODUCTION CONTROL MANAGER   \n",
              "1       Design Engineer ( Mechanical  /  Electrical)   \n",
              "2                     Business Development Executive   \n",
              "3                            Senior / Data Scientist   \n",
              "4  8890-Sales Consultant [ Digital Software| Saas...   \n",
              "5   Logistics Analyst ►Degree  /  Logistics MNC #526   \n",
              "\n",
              "                                             company              code  \\\n",
              "0                              SNL LOGISTICS PTE LTD  MCF-2022-0741372   \n",
              "1  JAMCO AERO DESIGN &amp; ENGINEERING PRIVATE LI...  MCF-2022-0668683   \n",
              "2                             AIRPAK EXPRESS PTE LTD  MCF-2022-0694935   \n",
              "3                         SINGAPORE EXCHANGE LIMITED  MCF-2022-0682524   \n",
              "4                  THE SUPREME HR ADVISORY PTE. LTD.  MCF-2022-0572683   \n",
              "5                           MTC CONSULTING PTE. LTD.  MCF-2022-0745250   \n",
              "\n",
              "                                             address              emp_type  \\\n",
              "0                               31 GUL CIRCLE 629569  Permanent, Full Time   \n",
              "1                                                NaN             Full Time   \n",
              "2  TECHPLAS INDUSTRIAL BUILDING, 45 CHANGI SOUTH ...  Part Time, Permanent   \n",
              "3                 SGX CENTRE I, 2 SHENTON WAY 068804  Permanent, Full Time   \n",
              "4                SHENTON HOUSE, 3 SHENTON WAY 068805  Permanent, Full Time   \n",
              "5                                                NaN  Permanent, Full Time   \n",
              "\n",
              "               level                                             sector  \\\n",
              "0   Junior Executive  Customer Service, General Management, Manufact...   \n",
              "1   Junior Executive                                        Engineering   \n",
              "2  Fresh/entry level                                     Sales / Retail   \n",
              "3       Professional  Banking and Finance, Information Technology, R...   \n",
              "4   Junior Executive  Architecture / Interior Design, Information Te...   \n",
              "5  Fresh/entry level                           Logistics / Supply Chain   \n",
              "\n",
              "                                           pay_range  \\\n",
              "0  <div class=\"lh-solid\"><span class=\"dib\">$2,000...   \n",
              "1  <div class=\"lh-solid\"><span class=\"dib\">$2,500...   \n",
              "2  <div class=\"lh-solid\"><span class=\"dib\">$3,200...   \n",
              "3  <div class=\"lh-solid\"><span class=\"dib\">$9,000...   \n",
              "4  <div class=\"lh-solid\"><span class=\"dib\">$3,000...   \n",
              "5  <div class=\"lh-solid\"><span class=\"dib\">$3,600...   \n",
              "\n",
              "                                         description  \\\n",
              "0  <p><strong>JOB DESCIPTION</strong></p>\\n<ul>\\n...   \n",
              "1  <p><strong>SUMMARY</strong></p>\\n<ul>\\n  <li>T...   \n",
              "2  <p><strong>Job description</strong></p>\\n<p>Wh...   \n",
              "3  <p>The ideal candidate should have a good unde...   \n",
              "4  <p><strong>Sales Consultant (Digital Software)...   \n",
              "5  <p>➤ Basic <strong>$3400 - $4400</strong></p>\\...   \n",
              "\n",
              "                                   description-clean  \n",
              "0  JOB DESCIPTION\\n\\n  planning and organising pr...  \n",
              "1  SUMMARY\\n\\n  This      position is responsible...  \n",
              "2  Job description\\nWho we are:\\nWe are a logisti...  \n",
              "3  The ideal candidate should have a good underst...  \n",
              "4  Sales Consultant (Digital Software)\\nLocation:...  \n",
              "5  ➤ Basic $3400 - $4400\\n➤ AWS + Bonus (Full Ben...  "
            ],
            "text/html": [
              "\n",
              "  <div id=\"df-ed9df226-6550-4212-bc61-27e823ab2d8a\">\n",
              "    <div class=\"colab-df-container\">\n",
              "      <div>\n",
              "<style scoped>\n",
              "    .dataframe tbody tr th:only-of-type {\n",
              "        vertical-align: middle;\n",
              "    }\n",
              "\n",
              "    .dataframe tbody tr th {\n",
              "        vertical-align: top;\n",
              "    }\n",
              "\n",
              "    .dataframe thead th {\n",
              "        text-align: right;\n",
              "    }\n",
              "</style>\n",
              "<table border=\"1\" class=\"dataframe\">\n",
              "  <thead>\n",
              "    <tr style=\"text-align: right;\">\n",
              "      <th></th>\n",
              "      <th>Unnamed: 0</th>\n",
              "      <th>url</th>\n",
              "      <th>job_title</th>\n",
              "      <th>company</th>\n",
              "      <th>code</th>\n",
              "      <th>address</th>\n",
              "      <th>emp_type</th>\n",
              "      <th>level</th>\n",
              "      <th>sector</th>\n",
              "      <th>pay_range</th>\n",
              "      <th>description</th>\n",
              "      <th>description-clean</th>\n",
              "    </tr>\n",
              "  </thead>\n",
              "  <tbody>\n",
              "    <tr>\n",
              "      <th>0</th>\n",
              "      <td>0</td>\n",
              "      <td>https://www.mycareersfuture.gov.sg/job/custome...</td>\n",
              "      <td>PRODUCTION CONTROL MANAGER</td>\n",
              "      <td>SNL LOGISTICS PTE LTD</td>\n",
              "      <td>MCF-2022-0741372</td>\n",
              "      <td>31 GUL CIRCLE 629569</td>\n",
              "      <td>Permanent, Full Time</td>\n",
              "      <td>Junior Executive</td>\n",
              "      <td>Customer Service, General Management, Manufact...</td>\n",
              "      <td>&lt;div class=\"lh-solid\"&gt;&lt;span class=\"dib\"&gt;$2,000...</td>\n",
              "      <td>&lt;p&gt;&lt;strong&gt;JOB DESCIPTION&lt;/strong&gt;&lt;/p&gt;\\n&lt;ul&gt;\\n...</td>\n",
              "      <td>JOB DESCIPTION\\n\\n  planning and organising pr...</td>\n",
              "    </tr>\n",
              "    <tr>\n",
              "      <th>1</th>\n",
              "      <td>1</td>\n",
              "      <td>https://www.mycareersfuture.gov.sg/job/enginee...</td>\n",
              "      <td>Design Engineer ( Mechanical  /  Electrical)</td>\n",
              "      <td>JAMCO AERO DESIGN &amp;amp; ENGINEERING PRIVATE LI...</td>\n",
              "      <td>MCF-2022-0668683</td>\n",
              "      <td>NaN</td>\n",
              "      <td>Full Time</td>\n",
              "      <td>Junior Executive</td>\n",
              "      <td>Engineering</td>\n",
              "      <td>&lt;div class=\"lh-solid\"&gt;&lt;span class=\"dib\"&gt;$2,500...</td>\n",
              "      <td>&lt;p&gt;&lt;strong&gt;SUMMARY&lt;/strong&gt;&lt;/p&gt;\\n&lt;ul&gt;\\n  &lt;li&gt;T...</td>\n",
              "      <td>SUMMARY\\n\\n  This      position is responsible...</td>\n",
              "    </tr>\n",
              "    <tr>\n",
              "      <th>2</th>\n",
              "      <td>2</td>\n",
              "      <td>https://www.mycareersfuture.gov.sg/job/sales/b...</td>\n",
              "      <td>Business Development Executive</td>\n",
              "      <td>AIRPAK EXPRESS PTE LTD</td>\n",
              "      <td>MCF-2022-0694935</td>\n",
              "      <td>TECHPLAS INDUSTRIAL BUILDING, 45 CHANGI SOUTH ...</td>\n",
              "      <td>Part Time, Permanent</td>\n",
              "      <td>Fresh/entry level</td>\n",
              "      <td>Sales / Retail</td>\n",
              "      <td>&lt;div class=\"lh-solid\"&gt;&lt;span class=\"dib\"&gt;$3,200...</td>\n",
              "      <td>&lt;p&gt;&lt;strong&gt;Job description&lt;/strong&gt;&lt;/p&gt;\\n&lt;p&gt;Wh...</td>\n",
              "      <td>Job description\\nWho we are:\\nWe are a logisti...</td>\n",
              "    </tr>\n",
              "    <tr>\n",
              "      <th>3</th>\n",
              "      <td>3</td>\n",
              "      <td>https://www.mycareersfuture.gov.sg/job/banking...</td>\n",
              "      <td>Senior / Data Scientist</td>\n",
              "      <td>SINGAPORE EXCHANGE LIMITED</td>\n",
              "      <td>MCF-2022-0682524</td>\n",
              "      <td>SGX CENTRE I, 2 SHENTON WAY 068804</td>\n",
              "      <td>Permanent, Full Time</td>\n",
              "      <td>Professional</td>\n",
              "      <td>Banking and Finance, Information Technology, R...</td>\n",
              "      <td>&lt;div class=\"lh-solid\"&gt;&lt;span class=\"dib\"&gt;$9,000...</td>\n",
              "      <td>&lt;p&gt;The ideal candidate should have a good unde...</td>\n",
              "      <td>The ideal candidate should have a good underst...</td>\n",
              "    </tr>\n",
              "    <tr>\n",
              "      <th>4</th>\n",
              "      <td>4</td>\n",
              "      <td>https://www.mycareersfuture.gov.sg/job/archite...</td>\n",
              "      <td>8890-Sales Consultant [ Digital Software| Saas...</td>\n",
              "      <td>THE SUPREME HR ADVISORY PTE. LTD.</td>\n",
              "      <td>MCF-2022-0572683</td>\n",
              "      <td>SHENTON HOUSE, 3 SHENTON WAY 068805</td>\n",
              "      <td>Permanent, Full Time</td>\n",
              "      <td>Junior Executive</td>\n",
              "      <td>Architecture / Interior Design, Information Te...</td>\n",
              "      <td>&lt;div class=\"lh-solid\"&gt;&lt;span class=\"dib\"&gt;$3,000...</td>\n",
              "      <td>&lt;p&gt;&lt;strong&gt;Sales Consultant (Digital Software)...</td>\n",
              "      <td>Sales Consultant (Digital Software)\\nLocation:...</td>\n",
              "    </tr>\n",
              "    <tr>\n",
              "      <th>5</th>\n",
              "      <td>5</td>\n",
              "      <td>https://www.mycareersfuture.gov.sg/job/logisti...</td>\n",
              "      <td>Logistics Analyst ►Degree  /  Logistics MNC #526</td>\n",
              "      <td>MTC CONSULTING PTE. LTD.</td>\n",
              "      <td>MCF-2022-0745250</td>\n",
              "      <td>NaN</td>\n",
              "      <td>Permanent, Full Time</td>\n",
              "      <td>Fresh/entry level</td>\n",
              "      <td>Logistics / Supply Chain</td>\n",
              "      <td>&lt;div class=\"lh-solid\"&gt;&lt;span class=\"dib\"&gt;$3,600...</td>\n",
              "      <td>&lt;p&gt;➤ Basic &lt;strong&gt;$3400 - $4400&lt;/strong&gt;&lt;/p&gt;\\...</td>\n",
              "      <td>➤ Basic $3400 - $4400\\n➤ AWS + Bonus (Full Ben...</td>\n",
              "    </tr>\n",
              "  </tbody>\n",
              "</table>\n",
              "</div>\n",
              "      <button class=\"colab-df-convert\" onclick=\"convertToInteractive('df-ed9df226-6550-4212-bc61-27e823ab2d8a')\"\n",
              "              title=\"Convert this dataframe to an interactive table.\"\n",
              "              style=\"display:none;\">\n",
              "        \n",
              "  <svg xmlns=\"http://www.w3.org/2000/svg\" height=\"24px\"viewBox=\"0 0 24 24\"\n",
              "       width=\"24px\">\n",
              "    <path d=\"M0 0h24v24H0V0z\" fill=\"none\"/>\n",
              "    <path d=\"M18.56 5.44l.94 2.06.94-2.06 2.06-.94-2.06-.94-.94-2.06-.94 2.06-2.06.94zm-11 1L8.5 8.5l.94-2.06 2.06-.94-2.06-.94L8.5 2.5l-.94 2.06-2.06.94zm10 10l.94 2.06.94-2.06 2.06-.94-2.06-.94-.94-2.06-.94 2.06-2.06.94z\"/><path d=\"M17.41 7.96l-1.37-1.37c-.4-.4-.92-.59-1.43-.59-.52 0-1.04.2-1.43.59L10.3 9.45l-7.72 7.72c-.78.78-.78 2.05 0 2.83L4 21.41c.39.39.9.59 1.41.59.51 0 1.02-.2 1.41-.59l7.78-7.78 2.81-2.81c.8-.78.8-2.07 0-2.86zM5.41 20L4 18.59l7.72-7.72 1.47 1.35L5.41 20z\"/>\n",
              "  </svg>\n",
              "      </button>\n",
              "      \n",
              "  <style>\n",
              "    .colab-df-container {\n",
              "      display:flex;\n",
              "      flex-wrap:wrap;\n",
              "      gap: 12px;\n",
              "    }\n",
              "\n",
              "    .colab-df-convert {\n",
              "      background-color: #E8F0FE;\n",
              "      border: none;\n",
              "      border-radius: 50%;\n",
              "      cursor: pointer;\n",
              "      display: none;\n",
              "      fill: #1967D2;\n",
              "      height: 32px;\n",
              "      padding: 0 0 0 0;\n",
              "      width: 32px;\n",
              "    }\n",
              "\n",
              "    .colab-df-convert:hover {\n",
              "      background-color: #E2EBFA;\n",
              "      box-shadow: 0px 1px 2px rgba(60, 64, 67, 0.3), 0px 1px 3px 1px rgba(60, 64, 67, 0.15);\n",
              "      fill: #174EA6;\n",
              "    }\n",
              "\n",
              "    [theme=dark] .colab-df-convert {\n",
              "      background-color: #3B4455;\n",
              "      fill: #D2E3FC;\n",
              "    }\n",
              "\n",
              "    [theme=dark] .colab-df-convert:hover {\n",
              "      background-color: #434B5C;\n",
              "      box-shadow: 0px 1px 3px 1px rgba(0, 0, 0, 0.15);\n",
              "      filter: drop-shadow(0px 1px 2px rgba(0, 0, 0, 0.3));\n",
              "      fill: #FFFFFF;\n",
              "    }\n",
              "  </style>\n",
              "\n",
              "      <script>\n",
              "        const buttonEl =\n",
              "          document.querySelector('#df-ed9df226-6550-4212-bc61-27e823ab2d8a button.colab-df-convert');\n",
              "        buttonEl.style.display =\n",
              "          google.colab.kernel.accessAllowed ? 'block' : 'none';\n",
              "\n",
              "        async function convertToInteractive(key) {\n",
              "          const element = document.querySelector('#df-ed9df226-6550-4212-bc61-27e823ab2d8a');\n",
              "          const dataTable =\n",
              "            await google.colab.kernel.invokeFunction('convertToInteractive',\n",
              "                                                     [key], {});\n",
              "          if (!dataTable) return;\n",
              "\n",
              "          const docLinkHtml = 'Like what you see? Visit the ' +\n",
              "            '<a target=\"_blank\" href=https://colab.research.google.com/notebooks/data_table.ipynb>data table notebook</a>'\n",
              "            + ' to learn more about interactive tables.';\n",
              "          element.innerHTML = '';\n",
              "          dataTable['output_type'] = 'display_data';\n",
              "          await google.colab.output.renderOutput(dataTable, element);\n",
              "          const docLink = document.createElement('div');\n",
              "          docLink.innerHTML = docLinkHtml;\n",
              "          element.appendChild(docLink);\n",
              "        }\n",
              "      </script>\n",
              "    </div>\n",
              "  </div>\n",
              "  "
            ]
          },
          "metadata": {},
          "execution_count": 47
        }
      ]
    },
    {
      "cell_type": "code",
      "source": [
        "df.to_csv('drive/MyDrive/mcf_processed.csv')"
      ],
      "metadata": {
        "id": "NAc5pJEyG0qM"
      },
      "execution_count": null,
      "outputs": []
    }
  ]
}
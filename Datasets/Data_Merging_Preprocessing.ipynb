{
 "cells": [
  {
   "cell_type": "markdown",
   "metadata": {},
   "source": [
    "## Miscellaneous"
   ]
  },
  {
   "cell_type": "code",
   "execution_count": 2,
   "metadata": {},
   "outputs": [],
   "source": [
    "#import packages\n",
    "import pandas as pd\n",
    "from selenium import webdriver\n",
    "from time import sleep\n",
    "import sys\n",
    "from selenium.webdriver.common.by import By\n",
    "from selenium.webdriver.support.ui import WebDriverWait\n",
    "from selenium.webdriver.support import expected_conditions as EC\n",
    "import re"
   ]
  },
  {
   "cell_type": "code",
   "execution_count": 9,
   "metadata": {},
   "outputs": [
    {
     "name": "stderr",
     "output_type": "stream",
     "text": [
      "C:\\Users\\xghan\\AppData\\Local\\Temp\\ipykernel_6688\\1320990086.py:5: DeprecationWarning: executable_path has been deprecated, please pass in a Service object\n",
      "  driver = webdriver.Chrome('../../chromedriver.exe',options=chrome_options)\n"
     ]
    }
   ],
   "source": [
    "#Code for opening a chrome_driver\n",
    "chrome_options = webdriver.ChromeOptions()\n",
    "chrome_options.add_argument('--headless')\n",
    "chrome_options.add_argument('--no-sandbox')\n",
    "chrome_options.add_argument('--disable-dev-shm-usage')\n",
    "driver = webdriver.Chrome('../../chromedriver.exe',options=chrome_options)"
   ]
  },
  {
   "cell_type": "code",
   "execution_count": 5,
   "metadata": {},
   "outputs": [],
   "source": [
    "driver.close()"
   ]
  },
  {
   "cell_type": "markdown",
   "metadata": {},
   "source": [
    "## Obtaining HTML Description for Jobstreet Listings"
   ]
  },
  {
   "cell_type": "code",
   "execution_count": 4,
   "metadata": {},
   "outputs": [],
   "source": [
    "df_jobstreet = pd.read_csv(\"Raw Data/jobstreet_listings_clean.csv\", encoding = \"ISO-8859-1\")"
   ]
  },
  {
   "cell_type": "code",
   "execution_count": null,
   "metadata": {},
   "outputs": [],
   "source": [
    "df_jobstreet.head()"
   ]
  },
  {
   "cell_type": "code",
   "execution_count": 7,
   "metadata": {},
   "outputs": [],
   "source": [
    "#Function goes to url to sieve out the description in raw html form\n",
    "def get_description_html(url):\n",
    "  #access the webpage\n",
    "  driver.get(url)\n",
    "  #wait for job description to appear\n",
    "  element = WebDriverWait(driver, 10).until(\n",
    "              EC.presence_of_element_located((By.XPATH,\"//div[@data-automation='jobDescription']\"))\n",
    "          )\n",
    "  #Get the inner HTML of the job description\n",
    "  description_html  = driver.find_element(By.XPATH,\"//div[@data-automation='jobDescription']\").get_attribute('innerHTML')\n",
    "  return description_html"
   ]
  },
  {
   "cell_type": "code",
   "execution_count": null,
   "metadata": {},
   "outputs": [],
   "source": [
    "#Adds the raw html form to the table\n",
    "result = []\n",
    "count=0\n",
    "for i in df_jobstreet['url']:\n",
    "  try:\n",
    "    print(count)\n",
    "    result.append(get_description_html(i))\n",
    "    count+=1\n",
    "  except Exception as e:\n",
    "    print(e)\n",
    "    result.append(\"\")\n",
    "\n",
    "df_jobstreet['description_html'] = result"
   ]
  },
  {
   "cell_type": "code",
   "execution_count": 13,
   "metadata": {},
   "outputs": [],
   "source": [
    "import re\n",
    "#Function to remove HTML Tags\n",
    "CLEANR = re.compile('<.*?>|&([a-z0-9]+|#[0-9]{1,6}|#x[0-9a-f]{1,6});')\n",
    "def cleanhtml(raw_html):\n",
    "  cleantext = re.sub(CLEANR, ' ', raw_html)\n",
    "  return cleantext"
   ]
  },
  {
   "cell_type": "code",
   "execution_count": 14,
   "metadata": {},
   "outputs": [],
   "source": [
    "#Reobtain the description column with proper spaces. Some words were clumped together previously\n",
    "result_description =[]\n",
    "for i in df_jobstreet['description_html']:\n",
    "  i = cleanhtml(i)\n",
    "  result_description.append(i)\n",
    "df_jobstreet['description'] = result_description"
   ]
  },
  {
   "cell_type": "code",
   "execution_count": 16,
   "metadata": {},
   "outputs": [],
   "source": [
    "#Save file for future use\n",
    "df_jobstreet.to_csv(\"jobstreet_listings_withhtml.csv\",index=False)"
   ]
  },
  {
   "cell_type": "markdown",
   "metadata": {},
   "source": [
    "## Cleaning pay_range column for MCF Jobs"
   ]
  },
  {
   "cell_type": "code",
   "execution_count": 5,
   "metadata": {},
   "outputs": [],
   "source": [
    "df_mcf = pd.read_csv(\"Raw Data/mcf_processed.csv\")"
   ]
  },
  {
   "cell_type": "code",
   "execution_count": null,
   "metadata": {},
   "outputs": [],
   "source": [
    "df_mcf.head()"
   ]
  },
  {
   "cell_type": "code",
   "execution_count": 18,
   "metadata": {},
   "outputs": [],
   "source": [
    "#Dropping index columns\n",
    "df_mcf = df_mcf.drop(columns=['Unnamed: 0', 'Unnamed: 0.1'])"
   ]
  },
  {
   "cell_type": "code",
   "execution_count": 19,
   "metadata": {},
   "outputs": [],
   "source": [
    "#Removing html tags from pay_range\n",
    "df_mcf['pay_range'] = df_mcf['pay_range'].map(lambda x: cleanhtml(x))"
   ]
  },
  {
   "cell_type": "code",
   "execution_count": 20,
   "metadata": {},
   "outputs": [],
   "source": [
    "#Standardising pay_range format to \"$x-$y\"\n",
    "df_mcf['pay_range'] = df_mcf['pay_range'].map(lambda x: x.replace(\"to\",\"-\"))"
   ]
  },
  {
   "cell_type": "code",
   "execution_count": 22,
   "metadata": {},
   "outputs": [],
   "source": [
    "#Saving file for future use\n",
    "df_mcf.to_csv(\"mcf_processed2.csv\", index=False)"
   ]
  },
  {
   "cell_type": "markdown",
   "metadata": {},
   "source": [
    "## Cleaning for Jobsdb"
   ]
  },
  {
   "cell_type": "code",
   "execution_count": 24,
   "metadata": {},
   "outputs": [],
   "source": [
    "df_jobsdb1 = pd.read_csv(\"Raw Data/jobsdb-1.csv\")\n",
    "df_jobsdb2 = pd.read_csv(\"Raw Data/jobsdb-2.csv\")"
   ]
  },
  {
   "cell_type": "code",
   "execution_count": 29,
   "metadata": {},
   "outputs": [],
   "source": [
    "#Merging two parts of the jobsdb file\n",
    "df_jobsdb = pd.concat([df_jobsdb1,df_jobsdb2]).reset_index()"
   ]
  },
  {
   "cell_type": "code",
   "execution_count": null,
   "metadata": {},
   "outputs": [],
   "source": [
    "df_jobsdb.head()"
   ]
  },
  {
   "cell_type": "code",
   "execution_count": 34,
   "metadata": {},
   "outputs": [],
   "source": [
    "#Function obtains the pay_range from sub_clean standardizes its format\n",
    "def get_salary(input_list):\n",
    "  salary = \"\"\n",
    "  try:\n",
    "    if \"per month\" in input_list[0]:\n",
    "      salary = input_list[0]\n",
    "      salary = salary.replace(\"per month\",\"\")\n",
    "      return salary\n",
    "    else:\n",
    "      salary = None\n",
    "  except:\n",
    "    salary = None\n",
    "    return salary"
   ]
  },
  {
   "cell_type": "code",
   "execution_count": 35,
   "metadata": {},
   "outputs": [],
   "source": [
    "#Obtain the employment type info from sub_clean\n",
    "def get_emp_type(input_list):\n",
    "  emp_type=\"\"\n",
    "  try:\n",
    "    if \"per month\" not in input_list[0]:\n",
    "      emp_type = input_list[0]\n",
    "      return emp_type\n",
    "    elif \"per month\" not in input_list[1]:\n",
    "      emp_type = input_list[1]\n",
    "      return emp_type\n",
    "    else:\n",
    "      emp_type = None\n",
    "      return emp_type\n",
    "  except:\n",
    "    emp_type = None\n",
    "    return emp_type"
   ]
  },
  {
   "cell_type": "code",
   "execution_count": 36,
   "metadata": {},
   "outputs": [],
   "source": [
    "import ast\n",
    "#Extracting salary and employment type from the data\n",
    "df_jobsdb['salary-range'] = df_jobsdb['sub_clean'].map(lambda x: get_salary(ast.literal_eval(x)))\n",
    "df_jobsdb['emp-type'] = df_jobsdb['sub_clean'].map(lambda x: get_emp_type(ast.literal_eval(x)))"
   ]
  },
  {
   "cell_type": "code",
   "execution_count": 37,
   "metadata": {},
   "outputs": [],
   "source": [
    "#Extracting company and address from coloc column\n",
    "df_jobsdb['company'] = df_jobsdb['coloc'].map(lambda x: x.split(',')[0])\n",
    "df_jobsdb['address'] = df_jobsdb['coloc'].map(lambda x: x.split(',')[1])"
   ]
  },
  {
   "cell_type": "code",
   "execution_count": 40,
   "metadata": {},
   "outputs": [],
   "source": [
    "#Dropping redundant columns\n",
    "df_jobsdb = df_jobsdb.drop(columns=[\"sub_clean\",'level_0','Unnamed: 0','coloc','sub_clean','sub_dirty','index'])"
   ]
  },
  {
   "cell_type": "code",
   "execution_count": 43,
   "metadata": {},
   "outputs": [],
   "source": [
    "#Saved for future references\n",
    "df_jobsdb.to_csv('jobsdb_cleaned.csv')"
   ]
  },
  {
   "cell_type": "markdown",
   "metadata": {},
   "source": [
    "## Unifying the Data"
   ]
  },
  {
   "cell_type": "code",
   "execution_count": 3,
   "metadata": {},
   "outputs": [],
   "source": [
    "df_jobsdb = pd.read_csv('jobsdb_cleaned.csv')\n",
    "df_mcf = pd.read_csv('mcf_processed2.csv')\n",
    "df_jobstreet = pd.read_csv('jobstreet_listings_withhtml.csv')"
   ]
  },
  {
   "cell_type": "code",
   "execution_count": 4,
   "metadata": {},
   "outputs": [],
   "source": [
    "df_jobsdb = df_jobsdb.drop(columns=['Unnamed: 0'])"
   ]
  },
  {
   "cell_type": "code",
   "execution_count": 5,
   "metadata": {},
   "outputs": [],
   "source": [
    "#Converting column to title case in MCF\n",
    "df_mcf['company'] = df_mcf['company'].map(lambda x: x.title())"
   ]
  },
  {
   "cell_type": "code",
   "execution_count": 6,
   "metadata": {},
   "outputs": [],
   "source": [
    "#Enforcing standardized format ($x-$y) for pay_range in jobstreet\n",
    "import math\n",
    "from numpy import NaN\n",
    "def format_pay(input_str):\n",
    "    if str(input_str)=='nan':\n",
    "        return None\n",
    "    else:\n",
    "        return str(input_str).replace(\"SGD??\", \"$\")\n",
    "df_jobstreet[\"pay_range\"] = df_jobstreet[\"pay_range\"].map(lambda x: format_pay(x))"
   ]
  },
  {
   "cell_type": "code",
   "execution_count": 7,
   "metadata": {},
   "outputs": [],
   "source": [
    "## Selecting relevant and common columns\n",
    "## sector is removed from the dataframes as information can often be found within the description\n",
    "df_mcf = df_mcf[['url','job_title','description','description-clean','pay_range','emp_type','company','address']]\n",
    "df_jobstreet = df_jobstreet[['url', 'job_title','description_html','description','pay_range','job_type','company','location']]"
   ]
  },
  {
   "cell_type": "code",
   "execution_count": 8,
   "metadata": {},
   "outputs": [],
   "source": [
    "#Renaming Columns to match df_jobstreet\n",
    "df_mcf.columns = ['url', 'job_title', 'description_html', 'description', 'pay_range',\n",
    "       'job_type', 'company', 'location']"
   ]
  },
  {
   "cell_type": "code",
   "execution_count": 9,
   "metadata": {},
   "outputs": [],
   "source": [
    "#Renaming columns to match df_jobstreet\n",
    "df_jobsdb.columns=['url', 'job_title', 'description_html', 'description', 'pay_range',\n",
    "       'job_type', 'company', 'location']"
   ]
  },
  {
   "cell_type": "code",
   "execution_count": 33,
   "metadata": {},
   "outputs": [
    {
     "data": {
      "text/html": [
       "<div>\n",
       "<style scoped>\n",
       "    .dataframe tbody tr th:only-of-type {\n",
       "        vertical-align: middle;\n",
       "    }\n",
       "\n",
       "    .dataframe tbody tr th {\n",
       "        vertical-align: top;\n",
       "    }\n",
       "\n",
       "    .dataframe thead th {\n",
       "        text-align: right;\n",
       "    }\n",
       "</style>\n",
       "<table border=\"1\" class=\"dataframe\">\n",
       "  <thead>\n",
       "    <tr style=\"text-align: right;\">\n",
       "      <th></th>\n",
       "      <th>url</th>\n",
       "      <th>job_title</th>\n",
       "      <th>description_html</th>\n",
       "      <th>description</th>\n",
       "      <th>pay_range</th>\n",
       "      <th>job_type</th>\n",
       "      <th>company</th>\n",
       "      <th>location</th>\n",
       "    </tr>\n",
       "  </thead>\n",
       "  <tbody>\n",
       "    <tr>\n",
       "      <th>0</th>\n",
       "      <td>https://www.mycareersfuture.gov.sg/job/custome...</td>\n",
       "      <td>PRODUCTION CONTROL MANAGER</td>\n",
       "      <td>&lt;p&gt;&lt;strong&gt;JOB DESCIPTION&lt;/strong&gt;&lt;/p&gt;\\n&lt;ul&gt;\\n...</td>\n",
       "      <td>JOB DESCIPTION\\n\\n  planning and organising pr...</td>\n",
       "      <td>$2,000   - $3,400</td>\n",
       "      <td>Permanent, Full Time</td>\n",
       "      <td>Snl Logistics Pte Ltd</td>\n",
       "      <td>31 GUL CIRCLE 629569</td>\n",
       "    </tr>\n",
       "    <tr>\n",
       "      <th>1</th>\n",
       "      <td>https://www.mycareersfuture.gov.sg/job/enginee...</td>\n",
       "      <td>Design Engineer ( Mechanical  /  Electrical)</td>\n",
       "      <td>&lt;p&gt;&lt;strong&gt;SUMMARY&lt;/strong&gt;&lt;/p&gt;\\n&lt;ul&gt;\\n  &lt;li&gt;T...</td>\n",
       "      <td>SUMMARY\\n\\n  This      position is responsible...</td>\n",
       "      <td>$2,500   - $4,500</td>\n",
       "      <td>Full Time</td>\n",
       "      <td>Jamco Aero Design &amp;Amp; Engineering Private Li...</td>\n",
       "      <td>NaN</td>\n",
       "    </tr>\n",
       "    <tr>\n",
       "      <th>2</th>\n",
       "      <td>https://www.mycareersfuture.gov.sg/job/sales/b...</td>\n",
       "      <td>Business Development Executive</td>\n",
       "      <td>&lt;p&gt;&lt;strong&gt;Job description&lt;/strong&gt;&lt;/p&gt;\\n&lt;p&gt;Wh...</td>\n",
       "      <td>Job description\\nWho we are:\\nWe are a logisti...</td>\n",
       "      <td>$3,200   - $3,500</td>\n",
       "      <td>Part Time, Permanent</td>\n",
       "      <td>Airpak Express Pte Ltd</td>\n",
       "      <td>TECHPLAS INDUSTRIAL BUILDING, 45 CHANGI SOUTH ...</td>\n",
       "    </tr>\n",
       "    <tr>\n",
       "      <th>3</th>\n",
       "      <td>https://www.mycareersfuture.gov.sg/job/banking...</td>\n",
       "      <td>Senior / Data Scientist</td>\n",
       "      <td>&lt;p&gt;The ideal candidate should have a good unde...</td>\n",
       "      <td>The ideal candidate should have a good underst...</td>\n",
       "      <td>$9,000   - $14,000</td>\n",
       "      <td>Permanent, Full Time</td>\n",
       "      <td>Singapore Exchange Limited</td>\n",
       "      <td>SGX CENTRE I, 2 SHENTON WAY 068804</td>\n",
       "    </tr>\n",
       "    <tr>\n",
       "      <th>4</th>\n",
       "      <td>https://www.mycareersfuture.gov.sg/job/archite...</td>\n",
       "      <td>8890-Sales Consultant [ Digital Software| Saas...</td>\n",
       "      <td>&lt;p&gt;&lt;strong&gt;Sales Consultant (Digital Software)...</td>\n",
       "      <td>Sales Consultant (Digital Software)\\nLocation:...</td>\n",
       "      <td>$3,000   - $4,500</td>\n",
       "      <td>Permanent, Full Time</td>\n",
       "      <td>The Supreme Hr Advisory Pte. Ltd.</td>\n",
       "      <td>SHENTON HOUSE, 3 SHENTON WAY 068805</td>\n",
       "    </tr>\n",
       "  </tbody>\n",
       "</table>\n",
       "</div>"
      ],
      "text/plain": [
       "                                                 url  \\\n",
       "0  https://www.mycareersfuture.gov.sg/job/custome...   \n",
       "1  https://www.mycareersfuture.gov.sg/job/enginee...   \n",
       "2  https://www.mycareersfuture.gov.sg/job/sales/b...   \n",
       "3  https://www.mycareersfuture.gov.sg/job/banking...   \n",
       "4  https://www.mycareersfuture.gov.sg/job/archite...   \n",
       "\n",
       "                                           job_title  \\\n",
       "0                         PRODUCTION CONTROL MANAGER   \n",
       "1       Design Engineer ( Mechanical  /  Electrical)   \n",
       "2                     Business Development Executive   \n",
       "3                            Senior / Data Scientist   \n",
       "4  8890-Sales Consultant [ Digital Software| Saas...   \n",
       "\n",
       "                                    description_html  \\\n",
       "0  <p><strong>JOB DESCIPTION</strong></p>\\n<ul>\\n...   \n",
       "1  <p><strong>SUMMARY</strong></p>\\n<ul>\\n  <li>T...   \n",
       "2  <p><strong>Job description</strong></p>\\n<p>Wh...   \n",
       "3  <p>The ideal candidate should have a good unde...   \n",
       "4  <p><strong>Sales Consultant (Digital Software)...   \n",
       "\n",
       "                                         description               pay_range  \\\n",
       "0  JOB DESCIPTION\\n\\n  planning and organising pr...     $2,000   - $3,400     \n",
       "1  SUMMARY\\n\\n  This      position is responsible...     $2,500   - $4,500     \n",
       "2  Job description\\nWho we are:\\nWe are a logisti...     $3,200   - $3,500     \n",
       "3  The ideal candidate should have a good underst...    $9,000   - $14,000     \n",
       "4  Sales Consultant (Digital Software)\\nLocation:...     $3,000   - $4,500     \n",
       "\n",
       "               job_type                                            company  \\\n",
       "0  Permanent, Full Time                              Snl Logistics Pte Ltd   \n",
       "1             Full Time  Jamco Aero Design &Amp; Engineering Private Li...   \n",
       "2  Part Time, Permanent                             Airpak Express Pte Ltd   \n",
       "3  Permanent, Full Time                         Singapore Exchange Limited   \n",
       "4  Permanent, Full Time                  The Supreme Hr Advisory Pte. Ltd.   \n",
       "\n",
       "                                            location  \n",
       "0                               31 GUL CIRCLE 629569  \n",
       "1                                                NaN  \n",
       "2  TECHPLAS INDUSTRIAL BUILDING, 45 CHANGI SOUTH ...  \n",
       "3                 SGX CENTRE I, 2 SHENTON WAY 068804  \n",
       "4                SHENTON HOUSE, 3 SHENTON WAY 068805  "
      ]
     },
     "execution_count": 33,
     "metadata": {},
     "output_type": "execute_result"
    }
   ],
   "source": [
    "#Combining the 3 tables\n",
    "df_combined = pd.concat([df_mcf,df_jobstreet,df_jobsdb]).reset_index(drop=True)\n",
    "df_combined.head()"
   ]
  },
  {
   "cell_type": "code",
   "execution_count": 34,
   "metadata": {},
   "outputs": [
    {
     "data": {
      "text/plain": [
       "(11833, 8)"
      ]
     },
     "execution_count": 34,
     "metadata": {},
     "output_type": "execute_result"
    }
   ],
   "source": [
    "df_combined.shape"
   ]
  },
  {
   "cell_type": "markdown",
   "metadata": {},
   "source": [
    "## Preprocessing text data"
   ]
  },
  {
   "cell_type": "code",
   "execution_count": 35,
   "metadata": {},
   "outputs": [
    {
     "data": {
      "text/plain": [
       "url                    0\n",
       "job_title              0\n",
       "description_html       1\n",
       "description            1\n",
       "pay_range           7171\n",
       "job_type             864\n",
       "company                0\n",
       "location             598\n",
       "dtype: int64"
      ]
     },
     "execution_count": 35,
     "metadata": {},
     "output_type": "execute_result"
    }
   ],
   "source": [
    "#Check for missing values\n",
    "df_combined.isna().sum()"
   ]
  },
  {
   "cell_type": "code",
   "execution_count": 36,
   "metadata": {},
   "outputs": [],
   "source": [
    "#drop empty description columns as it is required to build the recommendation model\n",
    "df_combined = df_combined.dropna(subset=['description'])"
   ]
  },
  {
   "cell_type": "code",
   "execution_count": 37,
   "metadata": {},
   "outputs": [
    {
     "data": {
      "text/html": [
       "<div>\n",
       "<style scoped>\n",
       "    .dataframe tbody tr th:only-of-type {\n",
       "        vertical-align: middle;\n",
       "    }\n",
       "\n",
       "    .dataframe tbody tr th {\n",
       "        vertical-align: top;\n",
       "    }\n",
       "\n",
       "    .dataframe thead th {\n",
       "        text-align: right;\n",
       "    }\n",
       "</style>\n",
       "<table border=\"1\" class=\"dataframe\">\n",
       "  <thead>\n",
       "    <tr style=\"text-align: right;\">\n",
       "      <th></th>\n",
       "      <th>url</th>\n",
       "      <th>job_title</th>\n",
       "      <th>description_html</th>\n",
       "      <th>description</th>\n",
       "      <th>pay_range</th>\n",
       "      <th>job_type</th>\n",
       "      <th>company</th>\n",
       "      <th>location</th>\n",
       "    </tr>\n",
       "  </thead>\n",
       "  <tbody>\n",
       "    <tr>\n",
       "      <th>0</th>\n",
       "      <td>https://www.mycareersfuture.gov.sg/job/custome...</td>\n",
       "      <td>PRODUCTION CONTROL MANAGER</td>\n",
       "      <td>&lt;p&gt;&lt;strong&gt;JOB DESCIPTION&lt;/strong&gt;&lt;/p&gt;\\n&lt;ul&gt;\\n...</td>\n",
       "      <td>JOB DESCIPTION\\n\\n  planning and organising pr...</td>\n",
       "      <td>$2,000   - $3,400</td>\n",
       "      <td>Permanent, Full Time</td>\n",
       "      <td>Snl Logistics Pte Ltd</td>\n",
       "      <td>31 GUL CIRCLE 629569</td>\n",
       "    </tr>\n",
       "    <tr>\n",
       "      <th>1</th>\n",
       "      <td>https://www.mycareersfuture.gov.sg/job/enginee...</td>\n",
       "      <td>Design Engineer ( Mechanical  /  Electrical)</td>\n",
       "      <td>&lt;p&gt;&lt;strong&gt;SUMMARY&lt;/strong&gt;&lt;/p&gt;\\n&lt;ul&gt;\\n  &lt;li&gt;T...</td>\n",
       "      <td>SUMMARY\\n\\n  This      position is responsible...</td>\n",
       "      <td>$2,500   - $4,500</td>\n",
       "      <td>Full Time</td>\n",
       "      <td>Jamco Aero Design &amp;Amp; Engineering Private Li...</td>\n",
       "      <td>NaN</td>\n",
       "    </tr>\n",
       "    <tr>\n",
       "      <th>2</th>\n",
       "      <td>https://www.mycareersfuture.gov.sg/job/sales/b...</td>\n",
       "      <td>Business Development Executive</td>\n",
       "      <td>&lt;p&gt;&lt;strong&gt;Job description&lt;/strong&gt;&lt;/p&gt;\\n&lt;p&gt;Wh...</td>\n",
       "      <td>Job description\\nWho we are:\\nWe are a logisti...</td>\n",
       "      <td>$3,200   - $3,500</td>\n",
       "      <td>Part Time, Permanent</td>\n",
       "      <td>Airpak Express Pte Ltd</td>\n",
       "      <td>TECHPLAS INDUSTRIAL BUILDING, 45 CHANGI SOUTH ...</td>\n",
       "    </tr>\n",
       "    <tr>\n",
       "      <th>3</th>\n",
       "      <td>https://www.mycareersfuture.gov.sg/job/banking...</td>\n",
       "      <td>Senior / Data Scientist</td>\n",
       "      <td>&lt;p&gt;The ideal candidate should have a good unde...</td>\n",
       "      <td>The ideal candidate should have a good underst...</td>\n",
       "      <td>$9,000   - $14,000</td>\n",
       "      <td>Permanent, Full Time</td>\n",
       "      <td>Singapore Exchange Limited</td>\n",
       "      <td>SGX CENTRE I, 2 SHENTON WAY 068804</td>\n",
       "    </tr>\n",
       "    <tr>\n",
       "      <th>4</th>\n",
       "      <td>https://www.mycareersfuture.gov.sg/job/archite...</td>\n",
       "      <td>8890-Sales Consultant [ Digital Software| Saas...</td>\n",
       "      <td>&lt;p&gt;&lt;strong&gt;Sales Consultant (Digital Software)...</td>\n",
       "      <td>Sales Consultant (Digital Software)\\nLocation:...</td>\n",
       "      <td>$3,000   - $4,500</td>\n",
       "      <td>Permanent, Full Time</td>\n",
       "      <td>The Supreme Hr Advisory Pte. Ltd.</td>\n",
       "      <td>SHENTON HOUSE, 3 SHENTON WAY 068805</td>\n",
       "    </tr>\n",
       "  </tbody>\n",
       "</table>\n",
       "</div>"
      ],
      "text/plain": [
       "                                                 url  \\\n",
       "0  https://www.mycareersfuture.gov.sg/job/custome...   \n",
       "1  https://www.mycareersfuture.gov.sg/job/enginee...   \n",
       "2  https://www.mycareersfuture.gov.sg/job/sales/b...   \n",
       "3  https://www.mycareersfuture.gov.sg/job/banking...   \n",
       "4  https://www.mycareersfuture.gov.sg/job/archite...   \n",
       "\n",
       "                                           job_title  \\\n",
       "0                         PRODUCTION CONTROL MANAGER   \n",
       "1       Design Engineer ( Mechanical  /  Electrical)   \n",
       "2                     Business Development Executive   \n",
       "3                            Senior / Data Scientist   \n",
       "4  8890-Sales Consultant [ Digital Software| Saas...   \n",
       "\n",
       "                                    description_html  \\\n",
       "0  <p><strong>JOB DESCIPTION</strong></p>\\n<ul>\\n...   \n",
       "1  <p><strong>SUMMARY</strong></p>\\n<ul>\\n  <li>T...   \n",
       "2  <p><strong>Job description</strong></p>\\n<p>Wh...   \n",
       "3  <p>The ideal candidate should have a good unde...   \n",
       "4  <p><strong>Sales Consultant (Digital Software)...   \n",
       "\n",
       "                                         description               pay_range  \\\n",
       "0  JOB DESCIPTION\\n\\n  planning and organising pr...     $2,000   - $3,400     \n",
       "1  SUMMARY\\n\\n  This      position is responsible...     $2,500   - $4,500     \n",
       "2  Job description\\nWho we are:\\nWe are a logisti...     $3,200   - $3,500     \n",
       "3  The ideal candidate should have a good underst...    $9,000   - $14,000     \n",
       "4  Sales Consultant (Digital Software)\\nLocation:...     $3,000   - $4,500     \n",
       "\n",
       "               job_type                                            company  \\\n",
       "0  Permanent, Full Time                              Snl Logistics Pte Ltd   \n",
       "1             Full Time  Jamco Aero Design &Amp; Engineering Private Li...   \n",
       "2  Part Time, Permanent                             Airpak Express Pte Ltd   \n",
       "3  Permanent, Full Time                         Singapore Exchange Limited   \n",
       "4  Permanent, Full Time                  The Supreme Hr Advisory Pte. Ltd.   \n",
       "\n",
       "                                            location  \n",
       "0                               31 GUL CIRCLE 629569  \n",
       "1                                                NaN  \n",
       "2  TECHPLAS INDUSTRIAL BUILDING, 45 CHANGI SOUTH ...  \n",
       "3                 SGX CENTRE I, 2 SHENTON WAY 068804  \n",
       "4                SHENTON HOUSE, 3 SHENTON WAY 068805  "
      ]
     },
     "execution_count": 37,
     "metadata": {},
     "output_type": "execute_result"
    }
   ],
   "source": [
    "df_combined.head()"
   ]
  },
  {
   "cell_type": "code",
   "execution_count": 38,
   "metadata": {},
   "outputs": [],
   "source": [
    "#replace the \\n characters with spaces\n",
    "df_combined['description_tokens'] = df_combined['description'].map(lambda x: x.replace(\"\\n\",\" \"))"
   ]
  },
  {
   "cell_type": "code",
   "execution_count": 39,
   "metadata": {},
   "outputs": [],
   "source": [
    "#only keep numbers and letters\n",
    "df_combined['description_tokens'] = df_combined['description_tokens'].map(lambda x: re.sub('[^A-Za-z0-9]+', ' ', x))"
   ]
  },
  {
   "cell_type": "code",
   "execution_count": 40,
   "metadata": {},
   "outputs": [],
   "source": [
    "#Convert to lower case\n",
    "df_combined['description_tokens'] = df_combined['description_tokens'].map(lambda x: x.lower())"
   ]
  },
  {
   "cell_type": "code",
   "execution_count": 41,
   "metadata": {},
   "outputs": [],
   "source": [
    "#tokenize words\n",
    "df_combined['description_tokens'] = df_combined['description_tokens'].map(lambda x: x.split())"
   ]
  },
  {
   "cell_type": "code",
   "execution_count": 42,
   "metadata": {},
   "outputs": [],
   "source": [
    "#function to remove stopwords\n",
    "from nltk.corpus import stopwords\n",
    "stop_words = set(stopwords.words('english'))\n",
    "def rm_stopwords(tokens):\n",
    "    return [i for i in tokens if i not in stop_words and i]"
   ]
  },
  {
   "cell_type": "code",
   "execution_count": 43,
   "metadata": {},
   "outputs": [],
   "source": [
    "#remove stopwords from tokens\n",
    "df_combined['description_tokens'] = df_combined['description_tokens'].map(lambda x: rm_stopwords(x))"
   ]
  },
  {
   "cell_type": "code",
   "execution_count": 44,
   "metadata": {},
   "outputs": [],
   "source": [
    "#Clean unstemmed column\n",
    "df_combined['description_clean'] = df_combined['description_tokens'].map(lambda x: \" \".join(x))"
   ]
  },
  {
   "cell_type": "code",
   "execution_count": 45,
   "metadata": {},
   "outputs": [
    {
     "data": {
      "text/html": [
       "<div>\n",
       "<style scoped>\n",
       "    .dataframe tbody tr th:only-of-type {\n",
       "        vertical-align: middle;\n",
       "    }\n",
       "\n",
       "    .dataframe tbody tr th {\n",
       "        vertical-align: top;\n",
       "    }\n",
       "\n",
       "    .dataframe thead th {\n",
       "        text-align: right;\n",
       "    }\n",
       "</style>\n",
       "<table border=\"1\" class=\"dataframe\">\n",
       "  <thead>\n",
       "    <tr style=\"text-align: right;\">\n",
       "      <th></th>\n",
       "      <th>url</th>\n",
       "      <th>job_title</th>\n",
       "      <th>description_html</th>\n",
       "      <th>description</th>\n",
       "      <th>pay_range</th>\n",
       "      <th>job_type</th>\n",
       "      <th>company</th>\n",
       "      <th>location</th>\n",
       "      <th>description_tokens</th>\n",
       "      <th>description_clean</th>\n",
       "    </tr>\n",
       "  </thead>\n",
       "  <tbody>\n",
       "    <tr>\n",
       "      <th>0</th>\n",
       "      <td>https://www.mycareersfuture.gov.sg/job/custome...</td>\n",
       "      <td>PRODUCTION CONTROL MANAGER</td>\n",
       "      <td>&lt;p&gt;&lt;strong&gt;JOB DESCIPTION&lt;/strong&gt;&lt;/p&gt;\\n&lt;ul&gt;\\n...</td>\n",
       "      <td>JOB DESCIPTION\\n\\n  planning and organising pr...</td>\n",
       "      <td>$2,000   - $3,400</td>\n",
       "      <td>Permanent, Full Time</td>\n",
       "      <td>Snl Logistics Pte Ltd</td>\n",
       "      <td>31 GUL CIRCLE 629569</td>\n",
       "      <td>[job, desciption, planning, organising, produc...</td>\n",
       "      <td>job desciption planning organising production ...</td>\n",
       "    </tr>\n",
       "    <tr>\n",
       "      <th>1</th>\n",
       "      <td>https://www.mycareersfuture.gov.sg/job/enginee...</td>\n",
       "      <td>Design Engineer ( Mechanical  /  Electrical)</td>\n",
       "      <td>&lt;p&gt;&lt;strong&gt;SUMMARY&lt;/strong&gt;&lt;/p&gt;\\n&lt;ul&gt;\\n  &lt;li&gt;T...</td>\n",
       "      <td>SUMMARY\\n\\n  This      position is responsible...</td>\n",
       "      <td>$2,500   - $4,500</td>\n",
       "      <td>Full Time</td>\n",
       "      <td>Jamco Aero Design &amp;Amp; Engineering Private Li...</td>\n",
       "      <td>NaN</td>\n",
       "      <td>[summary, position, responsible, supporting, p...</td>\n",
       "      <td>summary position responsible supporting projec...</td>\n",
       "    </tr>\n",
       "    <tr>\n",
       "      <th>2</th>\n",
       "      <td>https://www.mycareersfuture.gov.sg/job/sales/b...</td>\n",
       "      <td>Business Development Executive</td>\n",
       "      <td>&lt;p&gt;&lt;strong&gt;Job description&lt;/strong&gt;&lt;/p&gt;\\n&lt;p&gt;Wh...</td>\n",
       "      <td>Job description\\nWho we are:\\nWe are a logisti...</td>\n",
       "      <td>$3,200   - $3,500</td>\n",
       "      <td>Part Time, Permanent</td>\n",
       "      <td>Airpak Express Pte Ltd</td>\n",
       "      <td>TECHPLAS INDUSTRIAL BUILDING, 45 CHANGI SOUTH ...</td>\n",
       "      <td>[job, description, logistics, service, provide...</td>\n",
       "      <td>job description logistics service provider sol...</td>\n",
       "    </tr>\n",
       "    <tr>\n",
       "      <th>3</th>\n",
       "      <td>https://www.mycareersfuture.gov.sg/job/banking...</td>\n",
       "      <td>Senior / Data Scientist</td>\n",
       "      <td>&lt;p&gt;The ideal candidate should have a good unde...</td>\n",
       "      <td>The ideal candidate should have a good underst...</td>\n",
       "      <td>$9,000   - $14,000</td>\n",
       "      <td>Permanent, Full Time</td>\n",
       "      <td>Singapore Exchange Limited</td>\n",
       "      <td>SGX CENTRE I, 2 SHENTON WAY 068804</td>\n",
       "      <td>[ideal, candidate, good, understanding, busine...</td>\n",
       "      <td>ideal candidate good understanding business do...</td>\n",
       "    </tr>\n",
       "    <tr>\n",
       "      <th>4</th>\n",
       "      <td>https://www.mycareersfuture.gov.sg/job/archite...</td>\n",
       "      <td>8890-Sales Consultant [ Digital Software| Saas...</td>\n",
       "      <td>&lt;p&gt;&lt;strong&gt;Sales Consultant (Digital Software)...</td>\n",
       "      <td>Sales Consultant (Digital Software)\\nLocation:...</td>\n",
       "      <td>$3,000   - $4,500</td>\n",
       "      <td>Permanent, Full Time</td>\n",
       "      <td>The Supreme Hr Advisory Pte. Ltd.</td>\n",
       "      <td>SHENTON HOUSE, 3 SHENTON WAY 068805</td>\n",
       "      <td>[sales, consultant, digital, software, locatio...</td>\n",
       "      <td>sales consultant digital software location jal...</td>\n",
       "    </tr>\n",
       "  </tbody>\n",
       "</table>\n",
       "</div>"
      ],
      "text/plain": [
       "                                                 url  \\\n",
       "0  https://www.mycareersfuture.gov.sg/job/custome...   \n",
       "1  https://www.mycareersfuture.gov.sg/job/enginee...   \n",
       "2  https://www.mycareersfuture.gov.sg/job/sales/b...   \n",
       "3  https://www.mycareersfuture.gov.sg/job/banking...   \n",
       "4  https://www.mycareersfuture.gov.sg/job/archite...   \n",
       "\n",
       "                                           job_title  \\\n",
       "0                         PRODUCTION CONTROL MANAGER   \n",
       "1       Design Engineer ( Mechanical  /  Electrical)   \n",
       "2                     Business Development Executive   \n",
       "3                            Senior / Data Scientist   \n",
       "4  8890-Sales Consultant [ Digital Software| Saas...   \n",
       "\n",
       "                                    description_html  \\\n",
       "0  <p><strong>JOB DESCIPTION</strong></p>\\n<ul>\\n...   \n",
       "1  <p><strong>SUMMARY</strong></p>\\n<ul>\\n  <li>T...   \n",
       "2  <p><strong>Job description</strong></p>\\n<p>Wh...   \n",
       "3  <p>The ideal candidate should have a good unde...   \n",
       "4  <p><strong>Sales Consultant (Digital Software)...   \n",
       "\n",
       "                                         description               pay_range  \\\n",
       "0  JOB DESCIPTION\\n\\n  planning and organising pr...     $2,000   - $3,400     \n",
       "1  SUMMARY\\n\\n  This      position is responsible...     $2,500   - $4,500     \n",
       "2  Job description\\nWho we are:\\nWe are a logisti...     $3,200   - $3,500     \n",
       "3  The ideal candidate should have a good underst...    $9,000   - $14,000     \n",
       "4  Sales Consultant (Digital Software)\\nLocation:...     $3,000   - $4,500     \n",
       "\n",
       "               job_type                                            company  \\\n",
       "0  Permanent, Full Time                              Snl Logistics Pte Ltd   \n",
       "1             Full Time  Jamco Aero Design &Amp; Engineering Private Li...   \n",
       "2  Part Time, Permanent                             Airpak Express Pte Ltd   \n",
       "3  Permanent, Full Time                         Singapore Exchange Limited   \n",
       "4  Permanent, Full Time                  The Supreme Hr Advisory Pte. Ltd.   \n",
       "\n",
       "                                            location  \\\n",
       "0                               31 GUL CIRCLE 629569   \n",
       "1                                                NaN   \n",
       "2  TECHPLAS INDUSTRIAL BUILDING, 45 CHANGI SOUTH ...   \n",
       "3                 SGX CENTRE I, 2 SHENTON WAY 068804   \n",
       "4                SHENTON HOUSE, 3 SHENTON WAY 068805   \n",
       "\n",
       "                                  description_tokens  \\\n",
       "0  [job, desciption, planning, organising, produc...   \n",
       "1  [summary, position, responsible, supporting, p...   \n",
       "2  [job, description, logistics, service, provide...   \n",
       "3  [ideal, candidate, good, understanding, busine...   \n",
       "4  [sales, consultant, digital, software, locatio...   \n",
       "\n",
       "                                   description_clean  \n",
       "0  job desciption planning organising production ...  \n",
       "1  summary position responsible supporting projec...  \n",
       "2  job description logistics service provider sol...  \n",
       "3  ideal candidate good understanding business do...  \n",
       "4  sales consultant digital software location jal...  "
      ]
     },
     "execution_count": 45,
     "metadata": {},
     "output_type": "execute_result"
    }
   ],
   "source": [
    "df_combined.head()"
   ]
  },
  {
   "cell_type": "code",
   "execution_count": 46,
   "metadata": {},
   "outputs": [],
   "source": [
    "#stem all words\n",
    "from nltk.stem import PorterStemmer\n",
    "ps = PorterStemmer()\n",
    "def stem_words(tokens):\n",
    "    return [ps.stem(i) for i in tokens]\n",
    "df_combined['description_tokens'] = df_combined['description_tokens'].map(lambda x: stem_words(x))"
   ]
  },
  {
   "cell_type": "code",
   "execution_count": 47,
   "metadata": {},
   "outputs": [
    {
     "data": {
      "text/html": [
       "<div>\n",
       "<style scoped>\n",
       "    .dataframe tbody tr th:only-of-type {\n",
       "        vertical-align: middle;\n",
       "    }\n",
       "\n",
       "    .dataframe tbody tr th {\n",
       "        vertical-align: top;\n",
       "    }\n",
       "\n",
       "    .dataframe thead th {\n",
       "        text-align: right;\n",
       "    }\n",
       "</style>\n",
       "<table border=\"1\" class=\"dataframe\">\n",
       "  <thead>\n",
       "    <tr style=\"text-align: right;\">\n",
       "      <th></th>\n",
       "      <th>url</th>\n",
       "      <th>job_title</th>\n",
       "      <th>description_html</th>\n",
       "      <th>description</th>\n",
       "      <th>pay_range</th>\n",
       "      <th>job_type</th>\n",
       "      <th>company</th>\n",
       "      <th>location</th>\n",
       "      <th>description_tokens</th>\n",
       "      <th>description_clean</th>\n",
       "    </tr>\n",
       "  </thead>\n",
       "  <tbody>\n",
       "    <tr>\n",
       "      <th>0</th>\n",
       "      <td>https://www.mycareersfuture.gov.sg/job/custome...</td>\n",
       "      <td>PRODUCTION CONTROL MANAGER</td>\n",
       "      <td>&lt;p&gt;&lt;strong&gt;JOB DESCIPTION&lt;/strong&gt;&lt;/p&gt;\\n&lt;ul&gt;\\n...</td>\n",
       "      <td>JOB DESCIPTION\\n\\n  planning and organising pr...</td>\n",
       "      <td>$2,000   - $3,400</td>\n",
       "      <td>Permanent, Full Time</td>\n",
       "      <td>Snl Logistics Pte Ltd</td>\n",
       "      <td>31 GUL CIRCLE 629569</td>\n",
       "      <td>[job, descipt, plan, organis, product, schedul...</td>\n",
       "      <td>job desciption planning organising production ...</td>\n",
       "    </tr>\n",
       "    <tr>\n",
       "      <th>1</th>\n",
       "      <td>https://www.mycareersfuture.gov.sg/job/enginee...</td>\n",
       "      <td>Design Engineer ( Mechanical  /  Electrical)</td>\n",
       "      <td>&lt;p&gt;&lt;strong&gt;SUMMARY&lt;/strong&gt;&lt;/p&gt;\\n&lt;ul&gt;\\n  &lt;li&gt;T...</td>\n",
       "      <td>SUMMARY\\n\\n  This      position is responsible...</td>\n",
       "      <td>$2,500   - $4,500</td>\n",
       "      <td>Full Time</td>\n",
       "      <td>Jamco Aero Design &amp;Amp; Engineering Private Li...</td>\n",
       "      <td>NaN</td>\n",
       "      <td>[summari, posit, respons, support, project, te...</td>\n",
       "      <td>summary position responsible supporting projec...</td>\n",
       "    </tr>\n",
       "    <tr>\n",
       "      <th>2</th>\n",
       "      <td>https://www.mycareersfuture.gov.sg/job/sales/b...</td>\n",
       "      <td>Business Development Executive</td>\n",
       "      <td>&lt;p&gt;&lt;strong&gt;Job description&lt;/strong&gt;&lt;/p&gt;\\n&lt;p&gt;Wh...</td>\n",
       "      <td>Job description\\nWho we are:\\nWe are a logisti...</td>\n",
       "      <td>$3,200   - $3,500</td>\n",
       "      <td>Part Time, Permanent</td>\n",
       "      <td>Airpak Express Pte Ltd</td>\n",
       "      <td>TECHPLAS INDUSTRIAL BUILDING, 45 CHANGI SOUTH ...</td>\n",
       "      <td>[job, descript, logist, servic, provid, solid,...</td>\n",
       "      <td>job description logistics service provider sol...</td>\n",
       "    </tr>\n",
       "    <tr>\n",
       "      <th>3</th>\n",
       "      <td>https://www.mycareersfuture.gov.sg/job/banking...</td>\n",
       "      <td>Senior / Data Scientist</td>\n",
       "      <td>&lt;p&gt;The ideal candidate should have a good unde...</td>\n",
       "      <td>The ideal candidate should have a good underst...</td>\n",
       "      <td>$9,000   - $14,000</td>\n",
       "      <td>Permanent, Full Time</td>\n",
       "      <td>Singapore Exchange Limited</td>\n",
       "      <td>SGX CENTRE I, 2 SHENTON WAY 068804</td>\n",
       "      <td>[ideal, candid, good, understand, busi, domain...</td>\n",
       "      <td>ideal candidate good understanding business do...</td>\n",
       "    </tr>\n",
       "    <tr>\n",
       "      <th>4</th>\n",
       "      <td>https://www.mycareersfuture.gov.sg/job/archite...</td>\n",
       "      <td>8890-Sales Consultant [ Digital Software| Saas...</td>\n",
       "      <td>&lt;p&gt;&lt;strong&gt;Sales Consultant (Digital Software)...</td>\n",
       "      <td>Sales Consultant (Digital Software)\\nLocation:...</td>\n",
       "      <td>$3,000   - $4,500</td>\n",
       "      <td>Permanent, Full Time</td>\n",
       "      <td>The Supreme Hr Advisory Pte. Ltd.</td>\n",
       "      <td>SHENTON HOUSE, 3 SHENTON WAY 068805</td>\n",
       "      <td>[sale, consult, digit, softwar, locat, jalan, ...</td>\n",
       "      <td>sales consultant digital software location jal...</td>\n",
       "    </tr>\n",
       "  </tbody>\n",
       "</table>\n",
       "</div>"
      ],
      "text/plain": [
       "                                                 url  \\\n",
       "0  https://www.mycareersfuture.gov.sg/job/custome...   \n",
       "1  https://www.mycareersfuture.gov.sg/job/enginee...   \n",
       "2  https://www.mycareersfuture.gov.sg/job/sales/b...   \n",
       "3  https://www.mycareersfuture.gov.sg/job/banking...   \n",
       "4  https://www.mycareersfuture.gov.sg/job/archite...   \n",
       "\n",
       "                                           job_title  \\\n",
       "0                         PRODUCTION CONTROL MANAGER   \n",
       "1       Design Engineer ( Mechanical  /  Electrical)   \n",
       "2                     Business Development Executive   \n",
       "3                            Senior / Data Scientist   \n",
       "4  8890-Sales Consultant [ Digital Software| Saas...   \n",
       "\n",
       "                                    description_html  \\\n",
       "0  <p><strong>JOB DESCIPTION</strong></p>\\n<ul>\\n...   \n",
       "1  <p><strong>SUMMARY</strong></p>\\n<ul>\\n  <li>T...   \n",
       "2  <p><strong>Job description</strong></p>\\n<p>Wh...   \n",
       "3  <p>The ideal candidate should have a good unde...   \n",
       "4  <p><strong>Sales Consultant (Digital Software)...   \n",
       "\n",
       "                                         description               pay_range  \\\n",
       "0  JOB DESCIPTION\\n\\n  planning and organising pr...     $2,000   - $3,400     \n",
       "1  SUMMARY\\n\\n  This      position is responsible...     $2,500   - $4,500     \n",
       "2  Job description\\nWho we are:\\nWe are a logisti...     $3,200   - $3,500     \n",
       "3  The ideal candidate should have a good underst...    $9,000   - $14,000     \n",
       "4  Sales Consultant (Digital Software)\\nLocation:...     $3,000   - $4,500     \n",
       "\n",
       "               job_type                                            company  \\\n",
       "0  Permanent, Full Time                              Snl Logistics Pte Ltd   \n",
       "1             Full Time  Jamco Aero Design &Amp; Engineering Private Li...   \n",
       "2  Part Time, Permanent                             Airpak Express Pte Ltd   \n",
       "3  Permanent, Full Time                         Singapore Exchange Limited   \n",
       "4  Permanent, Full Time                  The Supreme Hr Advisory Pte. Ltd.   \n",
       "\n",
       "                                            location  \\\n",
       "0                               31 GUL CIRCLE 629569   \n",
       "1                                                NaN   \n",
       "2  TECHPLAS INDUSTRIAL BUILDING, 45 CHANGI SOUTH ...   \n",
       "3                 SGX CENTRE I, 2 SHENTON WAY 068804   \n",
       "4                SHENTON HOUSE, 3 SHENTON WAY 068805   \n",
       "\n",
       "                                  description_tokens  \\\n",
       "0  [job, descipt, plan, organis, product, schedul...   \n",
       "1  [summari, posit, respons, support, project, te...   \n",
       "2  [job, descript, logist, servic, provid, solid,...   \n",
       "3  [ideal, candid, good, understand, busi, domain...   \n",
       "4  [sale, consult, digit, softwar, locat, jalan, ...   \n",
       "\n",
       "                                   description_clean  \n",
       "0  job desciption planning organising production ...  \n",
       "1  summary position responsible supporting projec...  \n",
       "2  job description logistics service provider sol...  \n",
       "3  ideal candidate good understanding business do...  \n",
       "4  sales consultant digital software location jal...  "
      ]
     },
     "execution_count": 47,
     "metadata": {},
     "output_type": "execute_result"
    }
   ],
   "source": [
    "df_combined.head()"
   ]
  },
  {
   "cell_type": "code",
   "execution_count": 48,
   "metadata": {},
   "outputs": [],
   "source": [
    "#All jobs scraped are singapore, so they are imputed\n",
    "df_combined['location'] = df_combined['location'].fillna('Singapore')"
   ]
  },
  {
   "cell_type": "code",
   "execution_count": 49,
   "metadata": {},
   "outputs": [],
   "source": [
    "#We replace NaN job_type with '' so that we can add up the columns to create full_info_tokens\n",
    "df_combined['job_type'] = df_combined['job_type'].fillna('')"
   ]
  },
  {
   "cell_type": "code",
   "execution_count": 50,
   "metadata": {},
   "outputs": [
    {
     "data": {
      "text/plain": [
       "url                      0\n",
       "job_title                0\n",
       "description_html         0\n",
       "description              0\n",
       "pay_range             7170\n",
       "job_type                 0\n",
       "company                  0\n",
       "location                 0\n",
       "description_tokens       0\n",
       "description_clean        0\n",
       "dtype: int64"
      ]
     },
     "execution_count": 50,
     "metadata": {},
     "output_type": "execute_result"
    }
   ],
   "source": [
    "df_combined.isna().sum()"
   ]
  },
  {
   "cell_type": "code",
   "execution_count": 51,
   "metadata": {},
   "outputs": [],
   "source": [
    "#Create a column that has all the textual information improve the recommender system by expanding the corpus\n",
    "df_combined['full_info_tokens'] = df_combined['job_title']+\" \"+df_combined['company']+\" \"+df_combined['job_type']+\" \"+df_combined['location']+\" \"+df_combined['description']"
   ]
  },
  {
   "cell_type": "code",
   "execution_count": 52,
   "metadata": {},
   "outputs": [],
   "source": [
    "#preprocess the column the same way as description\n",
    "df_combined['full_info_tokens'] = df_combined['full_info_tokens'].map(lambda x: x.replace(\"\\n\",\" \"))\n",
    "df_combined['full_info_tokens'] = df_combined['full_info_tokens'].map(lambda x: re.sub('[^A-Za-z0-9]+', ' ', x))\n",
    "df_combined['full_info_tokens'] = df_combined['full_info_tokens'].map(lambda x: x.lower())\n",
    "df_combined['full_info_tokens'] = df_combined['full_info_tokens'].map(lambda x: x.split())\n",
    "df_combined['full_info_tokens'] = df_combined['full_info_tokens'].map(lambda x: rm_stopwords(x))\n",
    "df_combined['full_info_clean'] = df_combined['full_info_tokens'].map(lambda x: \" \".join(x))\n",
    "df_combined['full_info_tokens'] = df_combined['full_info_tokens'].map(lambda x: stem_words(x))"
   ]
  },
  {
   "cell_type": "code",
   "execution_count": 53,
   "metadata": {},
   "outputs": [],
   "source": [
    "#Check for duplicates, this sets the first occurence as a non-duplicate (false), and the rest as duplicates (true)\n",
    "#duplicates are defined as having identical list in description_tokens column\n",
    "df_combined['duplicated'] = df_combined.duplicated(subset=['description_tokens'], keep='first')"
   ]
  },
  {
   "cell_type": "code",
   "execution_count": 54,
   "metadata": {},
   "outputs": [],
   "source": [
    "#Remove duplicates\n",
    "df_combined = df_combined[~df_combined['duplicated']]"
   ]
  },
  {
   "cell_type": "code",
   "execution_count": 55,
   "metadata": {},
   "outputs": [
    {
     "data": {
      "text/plain": [
       "(6243, 13)"
      ]
     },
     "execution_count": 55,
     "metadata": {},
     "output_type": "execute_result"
    }
   ],
   "source": [
    "df_combined.shape"
   ]
  },
  {
   "cell_type": "code",
   "execution_count": null,
   "metadata": {},
   "outputs": [],
   "source": [
    "df_combined.head()"
   ]
  },
  {
   "cell_type": "code",
   "execution_count": 78,
   "metadata": {},
   "outputs": [],
   "source": [
    "#Save data\n",
    "df_combined.to_csv(\"processed_data.csv\", index=False)"
   ]
  },
  {
   "cell_type": "markdown",
   "metadata": {},
   "source": [
    "## Further Processing: Splitting pay_range columns"
   ]
  },
  {
   "cell_type": "code",
   "execution_count": 19,
   "metadata": {},
   "outputs": [],
   "source": [
    "df_combined = pd.read_csv(\"processed_data.csv\")"
   ]
  },
  {
   "cell_type": "code",
   "execution_count": 57,
   "metadata": {},
   "outputs": [
    {
     "name": "stderr",
     "output_type": "stream",
     "text": [
      "C:\\Users\\xghan\\AppData\\Local\\Temp\\ipykernel_17524\\2721430270.py:1: FutureWarning: The default value of regex will change from True to False in a future version. In addition, single character regular expressions will *not* be treated as literal strings when regex=True.\n",
      "  df_combined['pay_range'] = df_combined['pay_range'].str.replace('$','')\n"
     ]
    }
   ],
   "source": [
    "df_combined['pay_range'] = df_combined['pay_range'].str.replace('$','')\n",
    "df_combined['pay_range'] = df_combined['pay_range'].str.replace(',','')"
   ]
  },
  {
   "cell_type": "code",
   "execution_count": 58,
   "metadata": {},
   "outputs": [],
   "source": [
    "df_combined['pay_range'] = df_combined['pay_range'].str.split('-')"
   ]
  },
  {
   "cell_type": "code",
   "execution_count": 59,
   "metadata": {},
   "outputs": [
    {
     "data": {
      "text/html": [
       "<div>\n",
       "<style scoped>\n",
       "    .dataframe tbody tr th:only-of-type {\n",
       "        vertical-align: middle;\n",
       "    }\n",
       "\n",
       "    .dataframe tbody tr th {\n",
       "        vertical-align: top;\n",
       "    }\n",
       "\n",
       "    .dataframe thead th {\n",
       "        text-align: right;\n",
       "    }\n",
       "</style>\n",
       "<table border=\"1\" class=\"dataframe\">\n",
       "  <thead>\n",
       "    <tr style=\"text-align: right;\">\n",
       "      <th></th>\n",
       "      <th>url</th>\n",
       "      <th>job_title</th>\n",
       "      <th>description_html</th>\n",
       "      <th>description</th>\n",
       "      <th>pay_range</th>\n",
       "      <th>job_type</th>\n",
       "      <th>company</th>\n",
       "      <th>location</th>\n",
       "      <th>description_tokens</th>\n",
       "      <th>description_clean</th>\n",
       "      <th>full_info_tokens</th>\n",
       "      <th>full_info_clean</th>\n",
       "      <th>duplicated</th>\n",
       "    </tr>\n",
       "  </thead>\n",
       "  <tbody>\n",
       "    <tr>\n",
       "      <th>0</th>\n",
       "      <td>https://www.mycareersfuture.gov.sg/job/custome...</td>\n",
       "      <td>PRODUCTION CONTROL MANAGER</td>\n",
       "      <td>&lt;p&gt;&lt;strong&gt;JOB DESCIPTION&lt;/strong&gt;&lt;/p&gt;\\n&lt;ul&gt;\\n...</td>\n",
       "      <td>JOB DESCIPTION\\n\\n  planning and organising pr...</td>\n",
       "      <td>[  2000   ,  3400  ]</td>\n",
       "      <td>Permanent, Full Time</td>\n",
       "      <td>Snl Logistics Pte Ltd</td>\n",
       "      <td>31 GUL CIRCLE 629569</td>\n",
       "      <td>[job, descipt, plan, organis, product, schedul...</td>\n",
       "      <td>job desciption planning organising production ...</td>\n",
       "      <td>[product, control, manag, snl, logist, pte, lt...</td>\n",
       "      <td>production control manager snl logistics pte l...</td>\n",
       "      <td>False</td>\n",
       "    </tr>\n",
       "    <tr>\n",
       "      <th>1</th>\n",
       "      <td>https://www.mycareersfuture.gov.sg/job/enginee...</td>\n",
       "      <td>Design Engineer ( Mechanical  /  Electrical)</td>\n",
       "      <td>&lt;p&gt;&lt;strong&gt;SUMMARY&lt;/strong&gt;&lt;/p&gt;\\n&lt;ul&gt;\\n  &lt;li&gt;T...</td>\n",
       "      <td>SUMMARY\\n\\n  This      position is responsible...</td>\n",
       "      <td>[  2500   ,  4500  ]</td>\n",
       "      <td>Full Time</td>\n",
       "      <td>Jamco Aero Design &amp;Amp; Engineering Private Li...</td>\n",
       "      <td>Singapore</td>\n",
       "      <td>[summari, posit, respons, support, project, te...</td>\n",
       "      <td>summary position responsible supporting projec...</td>\n",
       "      <td>[design, engin, mechan, electr, jamco, aero, d...</td>\n",
       "      <td>design engineer mechanical electrical jamco ae...</td>\n",
       "      <td>False</td>\n",
       "    </tr>\n",
       "    <tr>\n",
       "      <th>2</th>\n",
       "      <td>https://www.mycareersfuture.gov.sg/job/sales/b...</td>\n",
       "      <td>Business Development Executive</td>\n",
       "      <td>&lt;p&gt;&lt;strong&gt;Job description&lt;/strong&gt;&lt;/p&gt;\\n&lt;p&gt;Wh...</td>\n",
       "      <td>Job description\\nWho we are:\\nWe are a logisti...</td>\n",
       "      <td>[  3200   ,  3500  ]</td>\n",
       "      <td>Part Time, Permanent</td>\n",
       "      <td>Airpak Express Pte Ltd</td>\n",
       "      <td>TECHPLAS INDUSTRIAL BUILDING, 45 CHANGI SOUTH ...</td>\n",
       "      <td>[job, descript, logist, servic, provid, solid,...</td>\n",
       "      <td>job description logistics service provider sol...</td>\n",
       "      <td>[busi, develop, execut, airpak, express, pte, ...</td>\n",
       "      <td>business development executive airpak express ...</td>\n",
       "      <td>False</td>\n",
       "    </tr>\n",
       "    <tr>\n",
       "      <th>3</th>\n",
       "      <td>https://www.mycareersfuture.gov.sg/job/banking...</td>\n",
       "      <td>Senior / Data Scientist</td>\n",
       "      <td>&lt;p&gt;The ideal candidate should have a good unde...</td>\n",
       "      <td>The ideal candidate should have a good underst...</td>\n",
       "      <td>[  9000   ,  14000  ]</td>\n",
       "      <td>Permanent, Full Time</td>\n",
       "      <td>Singapore Exchange Limited</td>\n",
       "      <td>SGX CENTRE I, 2 SHENTON WAY 068804</td>\n",
       "      <td>[ideal, candid, good, understand, busi, domain...</td>\n",
       "      <td>ideal candidate good understanding business do...</td>\n",
       "      <td>[senior, data, scientist, singapor, exchang, l...</td>\n",
       "      <td>senior data scientist singapore exchange limit...</td>\n",
       "      <td>False</td>\n",
       "    </tr>\n",
       "    <tr>\n",
       "      <th>4</th>\n",
       "      <td>https://www.mycareersfuture.gov.sg/job/archite...</td>\n",
       "      <td>8890-Sales Consultant [ Digital Software| Saas...</td>\n",
       "      <td>&lt;p&gt;&lt;strong&gt;Sales Consultant (Digital Software)...</td>\n",
       "      <td>Sales Consultant (Digital Software)\\nLocation:...</td>\n",
       "      <td>[  3000   ,  4500  ]</td>\n",
       "      <td>Permanent, Full Time</td>\n",
       "      <td>The Supreme Hr Advisory Pte. Ltd.</td>\n",
       "      <td>SHENTON HOUSE, 3 SHENTON WAY 068805</td>\n",
       "      <td>[sale, consult, digit, softwar, locat, jalan, ...</td>\n",
       "      <td>sales consultant digital software location jal...</td>\n",
       "      <td>[8890, sale, consult, digit, softwar, saa, int...</td>\n",
       "      <td>8890 sales consultant digital software saas in...</td>\n",
       "      <td>False</td>\n",
       "    </tr>\n",
       "  </tbody>\n",
       "</table>\n",
       "</div>"
      ],
      "text/plain": [
       "                                                 url  \\\n",
       "0  https://www.mycareersfuture.gov.sg/job/custome...   \n",
       "1  https://www.mycareersfuture.gov.sg/job/enginee...   \n",
       "2  https://www.mycareersfuture.gov.sg/job/sales/b...   \n",
       "3  https://www.mycareersfuture.gov.sg/job/banking...   \n",
       "4  https://www.mycareersfuture.gov.sg/job/archite...   \n",
       "\n",
       "                                           job_title  \\\n",
       "0                         PRODUCTION CONTROL MANAGER   \n",
       "1       Design Engineer ( Mechanical  /  Electrical)   \n",
       "2                     Business Development Executive   \n",
       "3                            Senior / Data Scientist   \n",
       "4  8890-Sales Consultant [ Digital Software| Saas...   \n",
       "\n",
       "                                    description_html  \\\n",
       "0  <p><strong>JOB DESCIPTION</strong></p>\\n<ul>\\n...   \n",
       "1  <p><strong>SUMMARY</strong></p>\\n<ul>\\n  <li>T...   \n",
       "2  <p><strong>Job description</strong></p>\\n<p>Wh...   \n",
       "3  <p>The ideal candidate should have a good unde...   \n",
       "4  <p><strong>Sales Consultant (Digital Software)...   \n",
       "\n",
       "                                         description              pay_range  \\\n",
       "0  JOB DESCIPTION\\n\\n  planning and organising pr...   [  2000   ,  3400  ]   \n",
       "1  SUMMARY\\n\\n  This      position is responsible...   [  2500   ,  4500  ]   \n",
       "2  Job description\\nWho we are:\\nWe are a logisti...   [  3200   ,  3500  ]   \n",
       "3  The ideal candidate should have a good underst...  [  9000   ,  14000  ]   \n",
       "4  Sales Consultant (Digital Software)\\nLocation:...   [  3000   ,  4500  ]   \n",
       "\n",
       "               job_type                                            company  \\\n",
       "0  Permanent, Full Time                              Snl Logistics Pte Ltd   \n",
       "1             Full Time  Jamco Aero Design &Amp; Engineering Private Li...   \n",
       "2  Part Time, Permanent                             Airpak Express Pte Ltd   \n",
       "3  Permanent, Full Time                         Singapore Exchange Limited   \n",
       "4  Permanent, Full Time                  The Supreme Hr Advisory Pte. Ltd.   \n",
       "\n",
       "                                            location  \\\n",
       "0                               31 GUL CIRCLE 629569   \n",
       "1                                          Singapore   \n",
       "2  TECHPLAS INDUSTRIAL BUILDING, 45 CHANGI SOUTH ...   \n",
       "3                 SGX CENTRE I, 2 SHENTON WAY 068804   \n",
       "4                SHENTON HOUSE, 3 SHENTON WAY 068805   \n",
       "\n",
       "                                  description_tokens  \\\n",
       "0  [job, descipt, plan, organis, product, schedul...   \n",
       "1  [summari, posit, respons, support, project, te...   \n",
       "2  [job, descript, logist, servic, provid, solid,...   \n",
       "3  [ideal, candid, good, understand, busi, domain...   \n",
       "4  [sale, consult, digit, softwar, locat, jalan, ...   \n",
       "\n",
       "                                   description_clean  \\\n",
       "0  job desciption planning organising production ...   \n",
       "1  summary position responsible supporting projec...   \n",
       "2  job description logistics service provider sol...   \n",
       "3  ideal candidate good understanding business do...   \n",
       "4  sales consultant digital software location jal...   \n",
       "\n",
       "                                    full_info_tokens  \\\n",
       "0  [product, control, manag, snl, logist, pte, lt...   \n",
       "1  [design, engin, mechan, electr, jamco, aero, d...   \n",
       "2  [busi, develop, execut, airpak, express, pte, ...   \n",
       "3  [senior, data, scientist, singapor, exchang, l...   \n",
       "4  [8890, sale, consult, digit, softwar, saa, int...   \n",
       "\n",
       "                                     full_info_clean  duplicated  \n",
       "0  production control manager snl logistics pte l...       False  \n",
       "1  design engineer mechanical electrical jamco ae...       False  \n",
       "2  business development executive airpak express ...       False  \n",
       "3  senior data scientist singapore exchange limit...       False  \n",
       "4  8890 sales consultant digital software saas in...       False  "
      ]
     },
     "execution_count": 59,
     "metadata": {},
     "output_type": "execute_result"
    }
   ],
   "source": [
    "df_combined.head()"
   ]
  },
  {
   "cell_type": "code",
   "execution_count": 60,
   "metadata": {},
   "outputs": [],
   "source": [
    "def get_min(pay_range):\n",
    "    try:\n",
    "        min_pay = int(pay_range[0].strip())\n",
    "        return min_pay\n",
    "    except:\n",
    "        return    "
   ]
  },
  {
   "cell_type": "code",
   "execution_count": 61,
   "metadata": {},
   "outputs": [],
   "source": [
    "df_combined['min_pay'] = df_combined['pay_range'].map(lambda x: get_min(x))"
   ]
  },
  {
   "cell_type": "code",
   "execution_count": 62,
   "metadata": {},
   "outputs": [],
   "source": [
    "def get_max(pay_range):\n",
    "    try:\n",
    "        max_pay = int(pay_range[1].strip())\n",
    "        return max_pay\n",
    "    except:\n",
    "        return"
   ]
  },
  {
   "cell_type": "code",
   "execution_count": 63,
   "metadata": {},
   "outputs": [],
   "source": [
    "df_combined['max_pay'] = df_combined['pay_range'].map(lambda x: get_max(x))"
   ]
  },
  {
   "cell_type": "code",
   "execution_count": 64,
   "metadata": {},
   "outputs": [],
   "source": [
    "df_combined = df_combined.drop(columns=['pay_range'])"
   ]
  },
  {
   "cell_type": "code",
   "execution_count": 67,
   "metadata": {},
   "outputs": [
    {
     "data": {
      "text/html": [
       "<div>\n",
       "<style scoped>\n",
       "    .dataframe tbody tr th:only-of-type {\n",
       "        vertical-align: middle;\n",
       "    }\n",
       "\n",
       "    .dataframe tbody tr th {\n",
       "        vertical-align: top;\n",
       "    }\n",
       "\n",
       "    .dataframe thead th {\n",
       "        text-align: right;\n",
       "    }\n",
       "</style>\n",
       "<table border=\"1\" class=\"dataframe\">\n",
       "  <thead>\n",
       "    <tr style=\"text-align: right;\">\n",
       "      <th></th>\n",
       "      <th>url</th>\n",
       "      <th>job_title</th>\n",
       "      <th>description_html</th>\n",
       "      <th>description</th>\n",
       "      <th>job_type</th>\n",
       "      <th>company</th>\n",
       "      <th>location</th>\n",
       "      <th>description_tokens</th>\n",
       "      <th>description_clean</th>\n",
       "      <th>full_info_tokens</th>\n",
       "      <th>full_info_clean</th>\n",
       "      <th>duplicated</th>\n",
       "      <th>min_pay</th>\n",
       "      <th>max_pay</th>\n",
       "    </tr>\n",
       "  </thead>\n",
       "  <tbody>\n",
       "    <tr>\n",
       "      <th>9495</th>\n",
       "      <td>https://sg.jobsdb.com/job/Product-Marketing-Ma...</td>\n",
       "      <td>PRODUCT MARKETING MANAGER</td>\n",
       "      <td>&lt;div class=\"-desktop-no-padding-top\" id=\"job-d...</td>\n",
       "      <td>Serial Microelectronics, a subsidiary of Seria...</td>\n",
       "      <td>Permanent</td>\n",
       "      <td>Serial System</td>\n",
       "      <td>Kampong Ubi</td>\n",
       "      <td>[serial, microelectron, subsidiari, serial, sy...</td>\n",
       "      <td>serial microelectronics subsidiary serial syst...</td>\n",
       "      <td>[product, market, manag, serial, system, perma...</td>\n",
       "      <td>product marketing manager serial system perman...</td>\n",
       "      <td>False</td>\n",
       "      <td>4500.0</td>\n",
       "      <td>6000.0</td>\n",
       "    </tr>\n",
       "    <tr>\n",
       "      <th>8426</th>\n",
       "      <td>https://sg.jobsdb.com/job/Demurrage-Analyst-7f...</td>\n",
       "      <td>Demurrage Analyst, Crude</td>\n",
       "      <td>&lt;div class=\"-desktop-no-padding-top\" id=\"job-d...</td>\n",
       "      <td>\\nEvaluate Charter Party and Commercial Contra...</td>\n",
       "      <td></td>\n",
       "      <td>Singapore Petroleum Company Limited</td>\n",
       "      <td>Singapore</td>\n",
       "      <td>[evalu, charter, parti, commerci, contract, te...</td>\n",
       "      <td>evaluate charter party commercial contracts te...</td>\n",
       "      <td>[demurrag, analyst, crude, singapor, petroleum...</td>\n",
       "      <td>demurrage analyst crude singapore petroleum co...</td>\n",
       "      <td>False</td>\n",
       "      <td>NaN</td>\n",
       "      <td>NaN</td>\n",
       "    </tr>\n",
       "    <tr>\n",
       "      <th>5184</th>\n",
       "      <td>https://sg.jobsdb.com/job/Technical-Sales-Engi...</td>\n",
       "      <td>Technical Sales Engineer (Data Centre Industry)</td>\n",
       "      <td>&lt;div class=\"-desktop-no-padding-top\" id=\"job-d...</td>\n",
       "      <td>RESPONSIBILITIES:\\n\\nDevelop sales leads/oppor...</td>\n",
       "      <td>Full time</td>\n",
       "      <td>DataSphere (S) Pte Ltd</td>\n",
       "      <td>Singapore</td>\n",
       "      <td>[respons, develop, sale, lead, opportun, new, ...</td>\n",
       "      <td>responsibilities develop sales leads opportuni...</td>\n",
       "      <td>[technic, sale, engin, data, centr, industri, ...</td>\n",
       "      <td>technical sales engineer data centre industry ...</td>\n",
       "      <td>False</td>\n",
       "      <td>NaN</td>\n",
       "      <td>NaN</td>\n",
       "    </tr>\n",
       "    <tr>\n",
       "      <th>7964</th>\n",
       "      <td>https://sg.jobsdb.com/job/Market-Risk-Analyst-...</td>\n",
       "      <td>MGR/AVP5 - Market Risk Analyst (OSPL)</td>\n",
       "      <td>&lt;div class=\"-desktop-no-padding-top\" id=\"job-d...</td>\n",
       "      <td>Roles and Responsibilities:   Review market s...</td>\n",
       "      <td>Full time</td>\n",
       "      <td>OCBC Bank</td>\n",
       "      <td>Singapore</td>\n",
       "      <td>[role, respons, review, market, surveil, repor...</td>\n",
       "      <td>roles responsibilities review market surveilla...</td>\n",
       "      <td>[mgr, avp5, market, risk, analyst, ospl, ocbc,...</td>\n",
       "      <td>mgr avp5 market risk analyst ospl ocbc bank fu...</td>\n",
       "      <td>False</td>\n",
       "      <td>NaN</td>\n",
       "      <td>NaN</td>\n",
       "    </tr>\n",
       "    <tr>\n",
       "      <th>3100</th>\n",
       "      <td>https://sg.jobsdb.com/job/Machine-Learning-Eng...</td>\n",
       "      <td>Machine Learning Engineer, Risk Data Mining, BRIC</td>\n",
       "      <td>&lt;div class=\"-desktop-no-padding-top\" id=\"job-d...</td>\n",
       "      <td>Responsibilities\\nFounded in 2012, ByteDance's...</td>\n",
       "      <td>Full time</td>\n",
       "      <td>TikTok</td>\n",
       "      <td>Singapore</td>\n",
       "      <td>[respons, found, 2012, byted, mission, inspir,...</td>\n",
       "      <td>responsibilities founded 2012 bytedance missio...</td>\n",
       "      <td>[machin, learn, engin, risk, data, mine, bric,...</td>\n",
       "      <td>machine learning engineer risk data mining bri...</td>\n",
       "      <td>False</td>\n",
       "      <td>NaN</td>\n",
       "      <td>NaN</td>\n",
       "    </tr>\n",
       "  </tbody>\n",
       "</table>\n",
       "</div>"
      ],
      "text/plain": [
       "                                                    url  \\\n",
       "9495  https://sg.jobsdb.com/job/Product-Marketing-Ma...   \n",
       "8426  https://sg.jobsdb.com/job/Demurrage-Analyst-7f...   \n",
       "5184  https://sg.jobsdb.com/job/Technical-Sales-Engi...   \n",
       "7964  https://sg.jobsdb.com/job/Market-Risk-Analyst-...   \n",
       "3100  https://sg.jobsdb.com/job/Machine-Learning-Eng...   \n",
       "\n",
       "                                              job_title  \\\n",
       "9495                          PRODUCT MARKETING MANAGER   \n",
       "8426                           Demurrage Analyst, Crude   \n",
       "5184    Technical Sales Engineer (Data Centre Industry)   \n",
       "7964              MGR/AVP5 - Market Risk Analyst (OSPL)   \n",
       "3100  Machine Learning Engineer, Risk Data Mining, BRIC   \n",
       "\n",
       "                                       description_html  \\\n",
       "9495  <div class=\"-desktop-no-padding-top\" id=\"job-d...   \n",
       "8426  <div class=\"-desktop-no-padding-top\" id=\"job-d...   \n",
       "5184  <div class=\"-desktop-no-padding-top\" id=\"job-d...   \n",
       "7964  <div class=\"-desktop-no-padding-top\" id=\"job-d...   \n",
       "3100  <div class=\"-desktop-no-padding-top\" id=\"job-d...   \n",
       "\n",
       "                                            description   job_type  \\\n",
       "9495  Serial Microelectronics, a subsidiary of Seria...  Permanent   \n",
       "8426  \\nEvaluate Charter Party and Commercial Contra...              \n",
       "5184  RESPONSIBILITIES:\\n\\nDevelop sales leads/oppor...  Full time   \n",
       "7964   Roles and Responsibilities:   Review market s...  Full time   \n",
       "3100  Responsibilities\\nFounded in 2012, ByteDance's...  Full time   \n",
       "\n",
       "                                  company     location  \\\n",
       "9495                        Serial System  Kampong Ubi   \n",
       "8426  Singapore Petroleum Company Limited    Singapore   \n",
       "5184               DataSphere (S) Pte Ltd    Singapore   \n",
       "7964                            OCBC Bank    Singapore   \n",
       "3100                               TikTok    Singapore   \n",
       "\n",
       "                                     description_tokens  \\\n",
       "9495  [serial, microelectron, subsidiari, serial, sy...   \n",
       "8426  [evalu, charter, parti, commerci, contract, te...   \n",
       "5184  [respons, develop, sale, lead, opportun, new, ...   \n",
       "7964  [role, respons, review, market, surveil, repor...   \n",
       "3100  [respons, found, 2012, byted, mission, inspir,...   \n",
       "\n",
       "                                      description_clean  \\\n",
       "9495  serial microelectronics subsidiary serial syst...   \n",
       "8426  evaluate charter party commercial contracts te...   \n",
       "5184  responsibilities develop sales leads opportuni...   \n",
       "7964  roles responsibilities review market surveilla...   \n",
       "3100  responsibilities founded 2012 bytedance missio...   \n",
       "\n",
       "                                       full_info_tokens  \\\n",
       "9495  [product, market, manag, serial, system, perma...   \n",
       "8426  [demurrag, analyst, crude, singapor, petroleum...   \n",
       "5184  [technic, sale, engin, data, centr, industri, ...   \n",
       "7964  [mgr, avp5, market, risk, analyst, ospl, ocbc,...   \n",
       "3100  [machin, learn, engin, risk, data, mine, bric,...   \n",
       "\n",
       "                                        full_info_clean  duplicated  min_pay  \\\n",
       "9495  product marketing manager serial system perman...       False   4500.0   \n",
       "8426  demurrage analyst crude singapore petroleum co...       False      NaN   \n",
       "5184  technical sales engineer data centre industry ...       False      NaN   \n",
       "7964  mgr avp5 market risk analyst ospl ocbc bank fu...       False      NaN   \n",
       "3100  machine learning engineer risk data mining bri...       False      NaN   \n",
       "\n",
       "      max_pay  \n",
       "9495   6000.0  \n",
       "8426      NaN  \n",
       "5184      NaN  \n",
       "7964      NaN  \n",
       "3100      NaN  "
      ]
     },
     "execution_count": 67,
     "metadata": {},
     "output_type": "execute_result"
    }
   ],
   "source": [
    "df_combined.sample(5)"
   ]
  },
  {
   "cell_type": "code",
   "execution_count": 50,
   "metadata": {},
   "outputs": [],
   "source": [
    "df_combined.to_csv('processed_data.csv', index=False)"
   ]
  }
 ],
 "metadata": {
  "kernelspec": {
   "display_name": "Python 3.10.7 64-bit (microsoft store)",
   "language": "python",
   "name": "python3"
  },
  "language_info": {
   "codemirror_mode": {
    "name": "ipython",
    "version": 3
   },
   "file_extension": ".py",
   "mimetype": "text/x-python",
   "name": "python",
   "nbconvert_exporter": "python",
   "pygments_lexer": "ipython3",
   "version": "3.10.8"
  },
  "orig_nbformat": 4,
  "vscode": {
   "interpreter": {
    "hash": "f8b325dba0a5d88be3dbd035e7bbab64b862c49c49fbb32327f9c81875f85a34"
   }
  }
 },
 "nbformat": 4,
 "nbformat_minor": 2
}

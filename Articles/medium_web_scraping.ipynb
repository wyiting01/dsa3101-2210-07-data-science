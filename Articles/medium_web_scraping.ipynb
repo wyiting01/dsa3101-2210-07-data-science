{
 "cells": [
  {
   "cell_type": "code",
   "execution_count": 11,
   "id": "1f82518c",
   "metadata": {},
   "outputs": [],
   "source": [
    "import requests\n",
    "from bs4 import BeautifulSoup\n",
    "import selenium\n",
    "from selenium import webdriver\n",
    "from selenium.webdriver.common.keys import Keys\n",
    "from selenium.webdriver.common.by import By\n",
    "import time"
   ]
  },
  {
   "cell_type": "code",
   "execution_count": 13,
   "id": "6cb47831",
   "metadata": {},
   "outputs": [
    {
     "name": "stderr",
     "output_type": "stream",
     "text": [
      "C:\\Users\\PC13~1\\AppData\\Local\\Temp/ipykernel_2668/835676778.py:2: DeprecationWarning: executable_path has been deprecated, please pass in a Service object\n",
      "  driver = webdriver.Chrome(chromrdriver)\n"
     ]
    }
   ],
   "source": [
    "chromrdriver = '/Users/PC 13/Desktop/chromedriver'\n",
    "driver = webdriver.Chrome(chromrdriver)\n",
    "page = driver.get(\"https://medium.com/tag/interview\")\n",
    "time.sleep(5)\n",
    "previous_height = driver.execute_script('return document.body.scrollHeight')\n",
    "# print(previous_height)\n",
    "pageSource = None\n",
    "\n",
    "for i in range(10):\n",
    "    driver.execute_script('window.scrollTo(0, document.body.scrollHeight);')\n",
    "    time.sleep(5)\n",
    "    new_height = driver.execute_script('return document.body.scrollHeight')\n",
    "    # print(f'new height: {new_height}')\n",
    "\n",
    "    if new_height == previous_height:\n",
    "        pageSource = driver.page_source\n",
    "        break\n",
    "    previous_height = new_height\n",
    "    pageSource = driver.page_source\n",
    "driver.quit()"
   ]
  },
  {
   "cell_type": "code",
   "execution_count": 14,
   "id": "085f5abf",
   "metadata": {},
   "outputs": [],
   "source": [
    "soup = BeautifulSoup(pageSource, 'html.parser')"
   ]
  },
  {
   "cell_type": "code",
   "execution_count": 15,
   "id": "adf80cab",
   "metadata": {},
   "outputs": [],
   "source": [
    "article_list = soup.find_all('div', class_ = 'l en kx')"
   ]
  },
  {
   "cell_type": "code",
   "execution_count": 16,
   "id": "e790b149",
   "metadata": {},
   "outputs": [
    {
     "data": {
      "text/plain": [
       "114"
      ]
     },
     "execution_count": 16,
     "metadata": {},
     "output_type": "execute_result"
    }
   ],
   "source": [
    "len(article_list)"
   ]
  },
  {
   "cell_type": "code",
   "execution_count": null,
   "id": "85d5717b",
   "metadata": {},
   "outputs": [],
   "source": []
  }
 ],
 "metadata": {
  "kernelspec": {
   "display_name": "Python 3 (ipykernel)",
   "language": "python",
   "name": "python3"
  },
  "language_info": {
   "codemirror_mode": {
    "name": "ipython",
    "version": 3
   },
   "file_extension": ".py",
   "mimetype": "text/x-python",
   "name": "python",
   "nbconvert_exporter": "python",
   "pygments_lexer": "ipython3",
   "version": "3.9.7"
  }
 },
 "nbformat": 4,
 "nbformat_minor": 5
}

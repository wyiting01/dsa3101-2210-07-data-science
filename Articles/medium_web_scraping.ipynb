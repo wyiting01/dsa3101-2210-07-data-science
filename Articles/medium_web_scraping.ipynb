{
 "cells": [
  {
   "cell_type": "code",
   "execution_count": 1,
   "metadata": {},
   "outputs": [
    {
     "name": "stderr",
     "output_type": "stream",
     "text": [
      "C:\\Users\\65877\\anaconda3\\lib\\site-packages\\requests\\__init__.py:91: RequestsDependencyWarning: urllib3 (1.26.12) or chardet (3.0.4) doesn't match a supported version!\n",
      "  RequestsDependencyWarning)\n"
     ]
    }
   ],
   "source": [
    "import requests\n",
    "from bs4 import BeautifulSoup\n",
    "import selenium\n",
    "from selenium import webdriver\n",
    "from selenium.webdriver.common.keys import Keys\n",
    "from selenium.webdriver.common.by import By\n",
    "import time\n",
    "import pandas as pd"
   ]
  },
  {
   "cell_type": "code",
   "execution_count": 2,
   "metadata": {},
   "outputs": [],
   "source": [
    "base_url = \"https://medium.com/\""
   ]
  },
  {
   "cell_type": "code",
   "execution_count": 3,
   "metadata": {},
   "outputs": [],
   "source": [
    "keyword = ['interview-tips', 'data-scientist', 'artificial-intelligence', 'machine-learning', 'data-analytics', 'software-engineering', 'product-manager', 'quantitative', 'nlp', 'computer-vision']"
   ]
  },
  {
   "cell_type": "code",
   "execution_count": 15,
   "metadata": {},
   "outputs": [],
   "source": [
    "def getsoup(url):\n",
    "\n",
    "    chromrdriver = '/Users/65877/chromedriver.exe'\n",
    "    driver = webdriver.Chrome(chromrdriver)\n",
    "    page = driver.get(url)\n",
    "    time.sleep(5)\n",
    "    previous_height = driver.execute_script('return document.body.scrollHeight')\n",
    "    # print(previous_height)\n",
    "    pageSource = None\n",
    "\n",
    "    for i in range(100):\n",
    "        driver.execute_script('window.scrollTo(0, document.body.scrollHeight);')\n",
    "        time.sleep(5)\n",
    "        new_height = driver.execute_script('return document.body.scrollHeight')\n",
    "        #  print(f'new height: {new_height}')\n",
    "\n",
    "        if new_height == previous_height:\n",
    "            pageSource = driver.page_source\n",
    "            break\n",
    "        previous_height = new_height\n",
    "        pageSource = driver.page_source\n",
    "    driver.quit()\n",
    "    soup = BeautifulSoup(pageSource, 'html.parser')\n",
    "    return soup"
   ]
  },
  {
   "cell_type": "code",
   "execution_count": 16,
   "metadata": {},
   "outputs": [],
   "source": [
    "def get_details(keyword):\n",
    "\n",
    "    url = f'https://medium.com/tag/{keyword}'\n",
    "\n",
    "    sp = getsoup(url)\n",
    "    tit = []\n",
    "    web = []\n",
    "    articles = sp.find_all('div', class_ = 'l en ky')\n",
    "    if len(articles) > 0:\n",
    "        for item in articles:\n",
    "            atitle = item.find('div', class_ = 'kz la lb lc ld l').text\n",
    "            tit.append(atitle)\n",
    "            a_url = item.find('a', href = True)['href']\n",
    "            a_full_url = base_url + a_url\n",
    "            web.append(a_full_url)\n",
    "\n",
    "    articles1 = sp.find_all('div', class_ = 'l en kx')\n",
    "    if len(articles1) > 0:\n",
    "        for item in articles1:\n",
    "            atitle = item.find('div', class_ = 'ky kz la lb lc l').text\n",
    "            tit.append(atitle)\n",
    "            a_url = item.find('a', href = True)['href']\n",
    "            a_full_url = base_url + a_url\n",
    "            web.append(a_full_url)\n",
    "\n",
    "    articles2 = sp.find_all('div', class_ = 'l en ld')\n",
    "    if len(articles2) >0:\n",
    "        for item in articles2:\n",
    "            atitle = item.find('div', class_ = 'le lf lg lh li l').text\n",
    "            tit.append(atitle)\n",
    "            a_url = item.find('a', href = True)['href']\n",
    "            a_full_url = base_url + a_url\n",
    "            web.append(a_full_url)\n",
    "    \n",
    "    articles3 = sp.find_all('div', class_ = 'l en lc')\n",
    "    if len(articles3) > 0:\n",
    "        for item in articles3:\n",
    "            atitle = item.find('div', class_ = 'ld le lf lg lh l').text\n",
    "            tit.append(atitle)\n",
    "            a_url = item.find('a', href = True)['href']\n",
    "            a_full_url = base_url + a_url\n",
    "            web.append(a_full_url)\n",
    "\n",
    "    article_list = pd.DataFrame(\n",
    "    {'title': tit,\n",
    "     'url': web})\n",
    "    article_list['tag'] = keyword\n",
    "    return article_list\n",
    "    "
   ]
  },
  {
   "cell_type": "code",
   "execution_count": 17,
   "metadata": {},
   "outputs": [
    {
     "name": "stdout",
     "output_type": "stream",
     "text": [
      "interview-tips\n"
     ]
    },
    {
     "name": "stderr",
     "output_type": "stream",
     "text": [
      "C:\\Users\\65877\\anaconda3\\lib\\site-packages\\ipykernel_launcher.py:4: DeprecationWarning: executable_path has been deprecated, please pass in a Service object\n",
      "  after removing the cwd from sys.path.\n"
     ]
    },
    {
     "name": "stdout",
     "output_type": "stream",
     "text": [
      "120\n",
      "data-scientist\n",
      "36\n",
      "artificial-intelligence\n",
      "453\n",
      "machine-learning\n",
      "747\n",
      "data-analytics\n",
      "0\n",
      "software-engineering\n",
      "0\n",
      "product-manager\n",
      "33\n",
      "quantitative\n",
      "0\n",
      "nlp\n",
      "42\n",
      "computer-vision\n",
      "0\n"
     ]
    }
   ],
   "source": [
    "df = pd.DataFrame()\n",
    "for i in range(len(keyword)):\n",
    "    kw = keyword[i]\n",
    "    print(kw)\n",
    "    data = get_details(kw)\n",
    "    print(data.size)\n",
    "    df = pd.concat([df, data]).reset_index(drop=True)"
   ]
  },
  {
   "cell_type": "code",
   "execution_count": 18,
   "metadata": {},
   "outputs": [
    {
     "data": {
      "text/plain": [
       "477"
      ]
     },
     "execution_count": 18,
     "metadata": {},
     "output_type": "execute_result"
    }
   ],
   "source": [
    "len(df)"
   ]
  },
  {
   "cell_type": "code",
   "execution_count": 8,
   "metadata": {},
   "outputs": [],
   "source": [
    "import re\n",
    "\n",
    "df['title'] = df['title'].map(lambda x: x.replace('â€™', \"'\"))"
   ]
  },
  {
   "cell_type": "code",
   "execution_count": 9,
   "metadata": {},
   "outputs": [
    {
     "data": {
      "text/html": [
       "<div>\n",
       "<style scoped>\n",
       "    .dataframe tbody tr th:only-of-type {\n",
       "        vertical-align: middle;\n",
       "    }\n",
       "\n",
       "    .dataframe tbody tr th {\n",
       "        vertical-align: top;\n",
       "    }\n",
       "\n",
       "    .dataframe thead th {\n",
       "        text-align: right;\n",
       "    }\n",
       "</style>\n",
       "<table border=\"1\" class=\"dataframe\">\n",
       "  <thead>\n",
       "    <tr style=\"text-align: right;\">\n",
       "      <th></th>\n",
       "      <th>title</th>\n",
       "      <th>url</th>\n",
       "      <th>tag</th>\n",
       "    </tr>\n",
       "  </thead>\n",
       "  <tbody>\n",
       "    <tr>\n",
       "      <th>0</th>\n",
       "      <td>Coimbatore Recruitment Drive— What OptiSol Loo...</td>\n",
       "      <td>https://medium.com//life-at-optisol/coimbatore...</td>\n",
       "      <td>interview-tips</td>\n",
       "    </tr>\n",
       "    <tr>\n",
       "      <th>1</th>\n",
       "      <td>How not to get rejected by Google?</td>\n",
       "      <td>https://medium.com//@thesparkboy/how-not-to-ge...</td>\n",
       "      <td>interview-tips</td>\n",
       "    </tr>\n",
       "    <tr>\n",
       "      <th>2</th>\n",
       "      <td>10 Pros and Cons of Job References</td>\n",
       "      <td>https://medium.com//@creativeflowsllc1/10-pros...</td>\n",
       "      <td>interview-tips</td>\n",
       "    </tr>\n",
       "    <tr>\n",
       "      <th>3</th>\n",
       "      <td>7 Tips for job hunting from my personal experi...</td>\n",
       "      <td>https://medium.com//@aneeqa-k25/7-tips-for-job...</td>\n",
       "      <td>interview-tips</td>\n",
       "    </tr>\n",
       "    <tr>\n",
       "      <th>4</th>\n",
       "      <td>How To Land High Paying Remote Jobs</td>\n",
       "      <td>https://medium.com//@sergiopereira/how-to-win-...</td>\n",
       "      <td>interview-tips</td>\n",
       "    </tr>\n",
       "  </tbody>\n",
       "</table>\n",
       "</div>"
      ],
      "text/plain": [
       "                                               title  \\\n",
       "0  Coimbatore Recruitment Drive— What OptiSol Loo...   \n",
       "1                 How not to get rejected by Google?   \n",
       "2                 10 Pros and Cons of Job References   \n",
       "3  7 Tips for job hunting from my personal experi...   \n",
       "4                How To Land High Paying Remote Jobs   \n",
       "\n",
       "                                                 url             tag  \n",
       "0  https://medium.com//life-at-optisol/coimbatore...  interview-tips  \n",
       "1  https://medium.com//@thesparkboy/how-not-to-ge...  interview-tips  \n",
       "2  https://medium.com//@creativeflowsllc1/10-pros...  interview-tips  \n",
       "3  https://medium.com//@aneeqa-k25/7-tips-for-job...  interview-tips  \n",
       "4  https://medium.com//@sergiopereira/how-to-win-...  interview-tips  "
      ]
     },
     "execution_count": 9,
     "metadata": {},
     "output_type": "execute_result"
    }
   ],
   "source": [
    "df.head()"
   ]
  },
  {
   "cell_type": "code",
   "execution_count": 12,
   "metadata": {},
   "outputs": [],
   "source": [
    "df.to_csv(\"medium_articles.csv\")"
   ]
  }
 ],
 "metadata": {
  "kernelspec": {
   "display_name": "Python 3",
   "language": "python",
   "name": "python3"
  },
  "language_info": {
   "codemirror_mode": {
    "name": "ipython",
    "version": 3
   },
   "file_extension": ".py",
   "mimetype": "text/x-python",
   "name": "python",
   "nbconvert_exporter": "python",
   "pygments_lexer": "ipython3",
   "version": "3.7.6"
  },
  "vscode": {
   "interpreter": {
    "hash": "21fd374cdd1303afaf52558cf700b07eaab7f3d67381a39e064d1104e55b94d3"
   }
  }
 },
 "nbformat": 4,
 "nbformat_minor": 5
}

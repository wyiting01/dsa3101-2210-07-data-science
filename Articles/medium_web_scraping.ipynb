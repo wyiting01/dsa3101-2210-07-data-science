{
 "cells": [
  {
   "cell_type": "code",
   "execution_count": 1,
   "metadata": {},
   "outputs": [
    {
     "name": "stderr",
     "output_type": "stream",
     "text": [
      "c:\\Users\\65877\\anaconda3\\lib\\site-packages\\requests\\__init__.py:91: RequestsDependencyWarning: urllib3 (1.26.12) or chardet (3.0.4) doesn't match a supported version!\n",
      "  RequestsDependencyWarning)\n"
     ]
    }
   ],
   "source": [
    "import requests\n",
    "from bs4 import BeautifulSoup\n",
    "import selenium\n",
    "from selenium import webdriver\n",
    "from selenium.webdriver.common.keys import Keys\n",
    "from selenium.webdriver.common.by import By\n",
    "import time\n",
    "import pandas as pd"
   ]
  },
  {
   "cell_type": "code",
   "execution_count": 2,
   "metadata": {},
   "outputs": [],
   "source": [
    "base_url = \"https://medium.com\""
   ]
  },
  {
   "cell_type": "code",
   "execution_count": 3,
   "metadata": {},
   "outputs": [],
   "source": [
    "keyword = ['interview-tips', 'data-scientist', 'artificial-intelligence', 'machine-learning', 'data-analytics', 'software-engineering', 'product-manager', 'quantitative', 'nlp', 'computer-vision']"
   ]
  },
  {
   "cell_type": "code",
   "execution_count": 4,
   "metadata": {},
   "outputs": [],
   "source": [
    "def getsoup(url):\n",
    "\n",
    "    chromrdriver = '/Users/65877/chromedriver.exe'\n",
    "    driver = webdriver.Chrome(chromrdriver)\n",
    "    page = driver.get(url)\n",
    "    time.sleep(5)\n",
    "    previous_height = driver.execute_script('return document.body.scrollHeight')\n",
    "    # print(previous_height)\n",
    "    pageSource = None\n",
    "\n",
    "    for i in range(50):\n",
    "        driver.execute_script('window.scrollTo(0, document.body.scrollHeight);')\n",
    "        time.sleep(5)\n",
    "        new_height = driver.execute_script('return document.body.scrollHeight')\n",
    "        #  print(f'new height: {new_height}')\n",
    "\n",
    "        if new_height == previous_height:\n",
    "            pageSource = driver.page_source\n",
    "            break\n",
    "        previous_height = new_height\n",
    "        pageSource = driver.page_source\n",
    "    driver.quit()\n",
    "    soup = BeautifulSoup(pageSource, 'html.parser')\n",
    "    return soup"
   ]
  },
  {
   "cell_type": "code",
   "execution_count": 5,
   "metadata": {},
   "outputs": [],
   "source": [
    "def get_details(keyword):\n",
    "\n",
    "    url = f'https://medium.com/tag/{keyword}'\n",
    "\n",
    "    sp = getsoup(url)\n",
    "    tit = []\n",
    "    web = []\n",
    "    articles = sp.find_all('div', class_ = 'l en ky')\n",
    "    if len(articles) > 0:\n",
    "        for item in articles:\n",
    "            atitle = item.find('div', class_ = 'kz la lb lc ld l').text\n",
    "            tit.append(atitle)\n",
    "            a_url = item.find('a', href = True)['href']\n",
    "            a_full_url = base_url + a_url\n",
    "            web.append(a_full_url)\n",
    "\n",
    "    articles1 = sp.find_all('div', class_ = 'l en kx')\n",
    "    if len(articles1) > 0:\n",
    "        for item in articles1:\n",
    "            atitle = item.find('div', class_ = 'ky kz la lb lc l').text\n",
    "            tit.append(atitle)\n",
    "            a_url = item.find('a', href = True)['href']\n",
    "            a_full_url = base_url + a_url\n",
    "            web.append(a_full_url)\n",
    "\n",
    "    articles2 = sp.find_all('div', class_ = 'l en ld')\n",
    "    if len(articles2) >0:\n",
    "        for item in articles2:\n",
    "            atitle = item.find('div', class_ = 'le lf lg lh li l').text\n",
    "            tit.append(atitle)\n",
    "            a_url = item.find('a', href = True)['href']\n",
    "            a_full_url = base_url + a_url\n",
    "            web.append(a_full_url)\n",
    "    \n",
    "    articles3 = sp.find_all('div', class_ = 'l en lc')\n",
    "    if len(articles3) > 0:\n",
    "        for item in articles3:\n",
    "            atitle = item.find('div', class_ = 'ld le lf lg lh l').text\n",
    "            tit.append(atitle)\n",
    "            a_url = item.find('a', href = True)['href']\n",
    "            a_full_url = base_url + a_url\n",
    "            web.append(a_full_url)\n",
    "\n",
    "    article_list = pd.DataFrame(\n",
    "    {'title': tit,\n",
    "     'url': web})\n",
    "    article_list['tag'] = keyword\n",
    "    return article_list\n",
    "    "
   ]
  },
  {
   "cell_type": "code",
   "execution_count": 6,
   "id": "d2b89d17",
   "metadata": {},
   "outputs": [
    {
     "name": "stdout",
     "output_type": "stream",
     "text": [
      "interview-tips\n"
     ]
    },
    {
     "name": "stderr",
     "output_type": "stream",
     "text": [
      "c:\\Users\\65877\\anaconda3\\lib\\site-packages\\ipykernel_launcher.py:4: DeprecationWarning: executable_path has been deprecated, please pass in a Service object\n",
      "  after removing the cwd from sys.path.\n"
     ]
    },
    {
     "name": "stdout",
     "output_type": "stream",
     "text": [
      "36\n",
      "data-scientist\n",
      "36\n",
      "artificial-intelligence\n",
      "60\n",
      "machine-learning\n",
      "750\n",
      "data-analytics\n",
      "45\n",
      "software-engineering\n",
      "747\n",
      "product-manager\n",
      "45\n",
      "quantitative\n",
      "30\n",
      "nlp\n",
      "54\n",
      "computer-vision\n",
      "36\n"
     ]
    }
   ],
   "source": [
    "df = pd.DataFrame()\n",
    "for i in range(len(keyword)):\n",
    "    kw = keyword[i]\n",
    "    print(kw)\n",
    "    data = get_details(kw)\n",
    "    print(data.size)\n",
    "    temp = pd.concat([df, data]).reset_index(drop=True)\n",
    "    df = temp.drop_duplicates()"
   ]
  },
  {
   "cell_type": "code",
   "execution_count": 7,
   "metadata": {},
   "outputs": [],
   "source": [
    "df.to_csv(\"articlesfrommedium.csv\")"
   ]
  }
 ],
 "metadata": {
  "kernelspec": {
   "display_name": "Python 3",
   "language": "python",
   "name": "python3"
  },
  "language_info": {
   "codemirror_mode": {
    "name": "ipython",
    "version": 3
   },
   "file_extension": ".py",
   "mimetype": "text/x-python",
   "name": "python",
   "nbconvert_exporter": "python",
   "pygments_lexer": "ipython3",
   "version": "3.7.6"
  },
  "vscode": {
   "interpreter": {
    "hash": "21fd374cdd1303afaf52558cf700b07eaab7f3d67381a39e064d1104e55b94d3"
   }
  }
 },
 "nbformat": 4,
 "nbformat_minor": 5
}
